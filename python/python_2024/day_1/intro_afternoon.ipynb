{
 "cells": [
  {
   "cell_type": "code",
   "execution_count": 47,
   "metadata": {},
   "outputs": [],
   "source": [
    "import csv"
   ]
  },
  {
   "cell_type": "markdown",
   "metadata": {},
   "source": [
    "# Basic Operations"
   ]
  },
  {
   "cell_type": "code",
   "execution_count": 48,
   "metadata": {},
   "outputs": [
    {
     "name": "stdout",
     "output_type": "stream",
     "text": [
      "[{'Shortnam': 'NL', 'Region': 'Newfoundland and Labrador'}, {'Shortnam': 'PEI', 'Region': 'Prince Edward Island'}, {'Shortnam': 'NS', 'Region': 'Nova Scotia'}, {'Shortnam': 'NB', 'Region': 'New Brunswick'}, {'Shortnam': 'QC', 'Region': 'Quebec'}, {'Shortnam': 'ON', 'Region': 'Ontario'}, {'Shortnam': 'MB', 'Region': 'Manitoba'}, {'Shortnam': 'SK', 'Region': 'Saskatchewan'}, {'Shortnam': 'AB', 'Region': 'Alberta'}, {'Shortnam': 'BC', 'Region': 'British Columbia'}, {'Shortnam': 'YT', 'Region': 'Yukon'}, {'Shortnam': 'NT', 'Region': 'Northwest Territories'}, {'Shortnam': 'NU', 'Region': 'Nunavut'}]\n"
     ]
    }
   ],
   "source": [
    "data_list = []\n",
    "\n",
    "# Open the file and read the data\n",
    "with open('../data/province_names.csv', 'r') as file:\n",
    "    reader = csv.DictReader(file)\n",
    "    for row in reader:\n",
    "        data_list.append(row)\n",
    "\n",
    "print(data_list)"
   ]
  },
  {
   "cell_type": "code",
   "execution_count": 49,
   "metadata": {},
   "outputs": [
    {
     "name": "stdout",
     "output_type": "stream",
     "text": [
      "[{'Shortnam': 'AB', 'Region': 'Alberta'}, {'Shortnam': 'BC', 'Region': 'British Columbia'}, {'Shortnam': 'MB', 'Region': 'Manitoba'}, {'Shortnam': 'NB', 'Region': 'New Brunswick'}, {'Shortnam': 'NL', 'Region': 'Newfoundland and Labrador'}, {'Shortnam': 'NS', 'Region': 'Nova Scotia'}, {'Shortnam': 'NT', 'Region': 'Northwest Territories'}, {'Shortnam': 'NU', 'Region': 'Nunavut'}, {'Shortnam': 'ON', 'Region': 'Ontario'}, {'Shortnam': 'PEI', 'Region': 'Prince Edward Island'}, {'Shortnam': 'QC', 'Region': 'Quebec'}, {'Shortnam': 'SK', 'Region': 'Saskatchewan'}, {'Shortnam': 'YT', 'Region': 'Yukon'}]\n"
     ]
    }
   ],
   "source": [
    "# Sort list based on the 'Shortnam' key\n",
    "data_list.sort(key=lambda x: x['Shortnam'])\n",
    "\n",
    "print(data_list)"
   ]
  },
  {
   "cell_type": "code",
   "execution_count": 50,
   "metadata": {},
   "outputs": [
    {
     "name": "stdout",
     "output_type": "stream",
     "text": [
      "[{'Shortnam': 'AB', 'Region': 'Alberta'}, {'Shortnam': 'BC', 'Region': 'British Columbia'}]\n"
     ]
    }
   ],
   "source": [
    "# Filter out Alberta and British Columbia\n",
    "filtered_data = [x for x in data_list if x['Region'] in ['Alberta', 'British Columbia']]\n",
    "\n",
    "print(filtered_data)"
   ]
  },
  {
   "cell_type": "code",
   "execution_count": 51,
   "metadata": {},
   "outputs": [],
   "source": [
    "weather = []\n",
    "\n",
    "with open('../data/province_weather.csv', 'r') as file:\n",
    "    reader = csv.DictReader(file)\n",
    "    for row in reader:\n",
    "        weather.append(row)"
   ]
  },
  {
   "cell_type": "code",
   "execution_count": 52,
   "metadata": {},
   "outputs": [
    {
     "name": "stdout",
     "output_type": "stream",
     "text": [
      "[{'Shortnam': 'NL', 'Region': 'Newfoundland and Labrador', 'Temperature': '-6.0', 'Precipitation': '71.0'}, {'Shortnam': 'PEI', 'Region': 'Prince Edward Island', 'Temperature': '-1.0', 'Precipitation': '34.0'}, {'Shortnam': 'QC', 'Region': 'Quebec', 'Temperature': '0.0', 'Precipitation': '5.0'}, {'Shortnam': 'ON', 'Region': 'Ontario', 'Temperature': '0.0', 'Precipitation': '59.0'}, {'Shortnam': 'SK', 'Region': 'Saskatchewan', 'Temperature': '-4.0', 'Precipitation': '3.0'}, {'Shortnam': 'AB', 'Region': 'Alberta', 'Temperature': '-2.0', 'Precipitation': '21.0'}]\n"
     ]
    }
   ],
   "source": [
    "# Filter out provinces with a temperature greater than -10\n",
    "filtered_weather = [x for x in weather if float(x['Temperature']) > -10]\n",
    "\n",
    "print(filtered_weather)"
   ]
  },
  {
   "cell_type": "code",
   "execution_count": 53,
   "metadata": {},
   "outputs": [
    {
     "name": "stdout",
     "output_type": "stream",
     "text": [
      "[{'Shortnam': 'NL', 'Region': 'Newfoundland and Labrador', 'Temperature': '-6.0', 'Precipitation': '71.0'}, {'Shortnam': 'ON', 'Region': 'Ontario', 'Temperature': '0.0', 'Precipitation': '59.0'}]\n"
     ]
    }
   ],
   "source": [
    "# Filter out provinces with a temperature greater than -10 and percipiataion more than 50\n",
    "filtered_weather = [x for x in weather if float(x['Temperature']) > -10 and float(x['Precipitation']) > 50]\n",
    "\n",
    "print(filtered_weather)"
   ]
  },
  {
   "cell_type": "markdown",
   "metadata": {},
   "source": [
    "# Applying Functions to List Items"
   ]
  },
  {
   "cell_type": "code",
   "execution_count": 54,
   "metadata": {},
   "outputs": [
    {
     "name": "stdout",
     "output_type": "stream",
     "text": [
      "[{'Shortnam': 'NL', 'Region': 'Newfoundland and Labrador', 'Temperature': '-6.0', 'Precipitation': '71.0', 'Badness': -426.0}, {'Shortnam': 'PEI', 'Region': 'Prince Edward Island', 'Temperature': '-1.0', 'Precipitation': '34.0', 'Badness': -34.0}, {'Shortnam': 'NS', 'Region': 'Nova Scotia', 'Temperature': '-18.0', 'Precipitation': '2.0', 'Badness': -36.0}, {'Shortnam': 'NB', 'Region': 'New Brunswick', 'Temperature': '-20.0', 'Precipitation': '4.0', 'Badness': -80.0}, {'Shortnam': 'QC', 'Region': 'Quebec', 'Temperature': '0.0', 'Precipitation': '5.0', 'Badness': 0.0}, {'Shortnam': 'ON', 'Region': 'Ontario', 'Temperature': '0.0', 'Precipitation': '59.0', 'Badness': 0.0}, {'Shortnam': 'MB', 'Region': 'Manitoba', 'Temperature': '-12.0', 'Precipitation': '58.0', 'Badness': -696.0}, {'Shortnam': 'SK', 'Region': 'Saskatchewan', 'Temperature': '-4.0', 'Precipitation': '3.0', 'Badness': -12.0}, {'Shortnam': 'AB', 'Region': 'Alberta', 'Temperature': '-2.0', 'Precipitation': '21.0', 'Badness': -42.0}, {'Shortnam': 'BC', 'Region': 'British Columbia', 'Temperature': '-17.0', 'Precipitation': '91.0', 'Badness': -1547.0}, {'Shortnam': 'YT', 'Region': 'Yukon', 'Temperature': '-13.0', 'Precipitation': '51.0', 'Badness': -663.0}, {'Shortnam': 'NT', 'Region': 'Northwest Territories', 'Temperature': '-16.0', 'Precipitation': '6.0', 'Badness': -96.0}, {'Shortnam': 'NU', 'Region': 'Nunavut', 'Temperature': '-16.0', 'Precipitation': '30.0', 'Badness': -480.0}]\n"
     ]
    }
   ],
   "source": [
    "# Supposed that the multiple of temperature and precipitation gives you an indication of how bad the weather is\n",
    "# Multiply the temperature and precipitation for each province and name the new key 'Badness'\n",
    "for row in weather:\n",
    "    row['Badness'] = float(row['Temperature']) * float(row['Precipitation'])\n",
    "\n",
    "print(weather)"
   ]
  },
  {
   "cell_type": "code",
   "execution_count": 55,
   "metadata": {},
   "outputs": [
    {
     "name": "stdout",
     "output_type": "stream",
     "text": [
      "[{'Shortnam': 'NL', 'Region': 'Newfoundland and Labrador', 'Temperature': '-6.0', 'Precipitation': '71.0', 'Badness': -426.0, 'Fahrenheit': 21.2}, {'Shortnam': 'PEI', 'Region': 'Prince Edward Island', 'Temperature': '-1.0', 'Precipitation': '34.0', 'Badness': -34.0, 'Fahrenheit': 30.2}, {'Shortnam': 'NS', 'Region': 'Nova Scotia', 'Temperature': '-18.0', 'Precipitation': '2.0', 'Badness': -36.0, 'Fahrenheit': -0.3999999999999986}, {'Shortnam': 'NB', 'Region': 'New Brunswick', 'Temperature': '-20.0', 'Precipitation': '4.0', 'Badness': -80.0, 'Fahrenheit': -4.0}, {'Shortnam': 'QC', 'Region': 'Quebec', 'Temperature': '0.0', 'Precipitation': '5.0', 'Badness': 0.0, 'Fahrenheit': 32.0}, {'Shortnam': 'ON', 'Region': 'Ontario', 'Temperature': '0.0', 'Precipitation': '59.0', 'Badness': 0.0, 'Fahrenheit': 32.0}, {'Shortnam': 'MB', 'Region': 'Manitoba', 'Temperature': '-12.0', 'Precipitation': '58.0', 'Badness': -696.0, 'Fahrenheit': 10.399999999999999}, {'Shortnam': 'SK', 'Region': 'Saskatchewan', 'Temperature': '-4.0', 'Precipitation': '3.0', 'Badness': -12.0, 'Fahrenheit': 24.8}, {'Shortnam': 'AB', 'Region': 'Alberta', 'Temperature': '-2.0', 'Precipitation': '21.0', 'Badness': -42.0, 'Fahrenheit': 28.4}, {'Shortnam': 'BC', 'Region': 'British Columbia', 'Temperature': '-17.0', 'Precipitation': '91.0', 'Badness': -1547.0, 'Fahrenheit': 1.3999999999999986}, {'Shortnam': 'YT', 'Region': 'Yukon', 'Temperature': '-13.0', 'Precipitation': '51.0', 'Badness': -663.0, 'Fahrenheit': 8.600000000000001}, {'Shortnam': 'NT', 'Region': 'Northwest Territories', 'Temperature': '-16.0', 'Precipitation': '6.0', 'Badness': -96.0, 'Fahrenheit': 3.1999999999999993}, {'Shortnam': 'NU', 'Region': 'Nunavut', 'Temperature': '-16.0', 'Precipitation': '30.0', 'Badness': -480.0, 'Fahrenheit': 3.1999999999999993}]\n"
     ]
    }
   ],
   "source": [
    "# Define a function to convert the temperature from Celsius to Fahrenheit\n",
    "def celsius_to_fahrenheit(celsius):\n",
    "    return celsius * 9/5 + 32\n",
    "\n",
    "# Convert the temperature for each province from Celsius to Fahrenheit\n",
    "for row in weather:\n",
    "    row['Fahrenheit'] = celsius_to_fahrenheit(float(row['Temperature']))\n",
    "\n",
    "print(weather)"
   ]
  },
  {
   "cell_type": "code",
   "execution_count": 56,
   "metadata": {},
   "outputs": [],
   "source": [
    "# Drop the 'Badness' key from the weather data\n",
    "for row in weather:\n",
    "    row.pop('Badness')"
   ]
  },
  {
   "cell_type": "code",
   "execution_count": 57,
   "metadata": {},
   "outputs": [
    {
     "name": "stdout",
     "output_type": "stream",
     "text": [
      "['Newfoundland and Labrador', 'Prince Edward Island', 'Quebec', 'Ontario', 'Saskatchewan', 'Alberta']\n"
     ]
    }
   ],
   "source": [
    "# Let's filter for the names of provinces with temperatures greather than the average\n",
    "total_temp = 0\n",
    "for row in weather:\n",
    "    total_temp += float(row['Temperature'])\n",
    "\n",
    "average_temp = total_temp / len(weather)\n",
    "\n",
    "filtered_weather = [x['Region'] for x in weather if float(x['Temperature']) > average_temp]\n",
    "print(filtered_weather)"
   ]
  },
  {
   "cell_type": "code",
   "execution_count": 58,
   "metadata": {},
   "outputs": [
    {
     "name": "stdout",
     "output_type": "stream",
     "text": [
      "[{'Shortnam': 'NL', 'Region': 'Newfoundland and Labrador', 'Temperature': '-6.0', 'Precipitation': '71.0', 'Fahrenheit': 21.2, 'will_snow': False}, {'Shortnam': 'PEI', 'Region': 'Prince Edward Island', 'Temperature': '-1.0', 'Precipitation': '34.0', 'Fahrenheit': 30.2, 'will_snow': False}, {'Shortnam': 'NS', 'Region': 'Nova Scotia', 'Temperature': '-18.0', 'Precipitation': '2.0', 'Fahrenheit': -0.3999999999999986, 'will_snow': True}, {'Shortnam': 'NB', 'Region': 'New Brunswick', 'Temperature': '-20.0', 'Precipitation': '4.0', 'Fahrenheit': -4.0, 'will_snow': True}, {'Shortnam': 'QC', 'Region': 'Quebec', 'Temperature': '0.0', 'Precipitation': '5.0', 'Fahrenheit': 32.0, 'will_snow': False}, {'Shortnam': 'ON', 'Region': 'Ontario', 'Temperature': '0.0', 'Precipitation': '59.0', 'Fahrenheit': 32.0, 'will_snow': False}, {'Shortnam': 'MB', 'Region': 'Manitoba', 'Temperature': '-12.0', 'Precipitation': '58.0', 'Fahrenheit': 10.399999999999999, 'will_snow': False}, {'Shortnam': 'SK', 'Region': 'Saskatchewan', 'Temperature': '-4.0', 'Precipitation': '3.0', 'Fahrenheit': 24.8, 'will_snow': False}, {'Shortnam': 'AB', 'Region': 'Alberta', 'Temperature': '-2.0', 'Precipitation': '21.0', 'Fahrenheit': 28.4, 'will_snow': False}, {'Shortnam': 'BC', 'Region': 'British Columbia', 'Temperature': '-17.0', 'Precipitation': '91.0', 'Fahrenheit': 1.3999999999999986, 'will_snow': False}, {'Shortnam': 'YT', 'Region': 'Yukon', 'Temperature': '-13.0', 'Precipitation': '51.0', 'Fahrenheit': 8.600000000000001, 'will_snow': False}, {'Shortnam': 'NT', 'Region': 'Northwest Territories', 'Temperature': '-16.0', 'Precipitation': '6.0', 'Fahrenheit': 3.1999999999999993, 'will_snow': True}, {'Shortnam': 'NU', 'Region': 'Nunavut', 'Temperature': '-16.0', 'Precipitation': '30.0', 'Fahrenheit': 3.1999999999999993, 'will_snow': True}]\n"
     ]
    }
   ],
   "source": [
    "# Write a function that checks if a province is below -5 for temperature and above 50 for precipitation\n",
    "def is_below(value, key, threshold):\n",
    "    return float(value[key]) < threshold\n",
    "\n",
    "def will_snow(value):\n",
    "    temp = is_below(value, 'Temperature', -5)\n",
    "    precip = is_below(value, 'Precipitation', 50)\n",
    "    if temp and precip:\n",
    "        return True\n",
    "    else:\n",
    "        return False\n",
    "    \n",
    "# Add a key to indicate if it will snow in each province\n",
    "for row in weather:\n",
    "    row['will_snow'] = will_snow(row)\n",
    "\n",
    "print(weather)"
   ]
  },
  {
   "cell_type": "markdown",
   "metadata": {},
   "source": [
    "# Task\n",
    "\n",
    "You are gievn a list of temperatures for provinces during the winter in 2010 and 2011 for Canada sorted by province names in alphabetical order. Your task is to calculate the average temperature for each province in 2010 and 2011 as well as the change in temperature between the two years.\n",
    "\n",
    "Bonus: Precipitation in the previous dataset is for 2010, for every province, the precipitaiton went down by 10%, with some provinces having no precipitation in 2011. If the multiple of temperature and precipitation is greater than -10, then the province is likely to have snowed that year. Add an additional column to the output that indicates whether it snowed or not."
   ]
  },
  {
   "cell_type": "code",
   "execution_count": 59,
   "metadata": {},
   "outputs": [
    {
     "name": "stdout",
     "output_type": "stream",
     "text": [
      "[{'Shortnam': 'AB', 'Region': 'Alberta', 'Temperature': -2.0, 'Precipitation': 21.0, 'Temperature 2010': -2, 'Temperature 2011': -5, 'Precipitation 2010': 21.0, 'Precipitation 2011': 31.0, 'Snow 2010': False, 'Snow 2011': False}, {'Shortnam': 'BC', 'Region': 'British Columbia', 'Temperature': -17.0, 'Precipitation': 91.0, 'Temperature 2010': -14, 'Temperature 2011': -10, 'Precipitation 2010': 91.0, 'Precipitation 2011': 101.0, 'Snow 2010': False, 'Snow 2011': False}, {'Shortnam': 'MB', 'Region': 'Manitoba', 'Temperature': -12.0, 'Precipitation': 58.0, 'Temperature 2010': -6, 'Temperature 2011': -15, 'Precipitation 2010': 58.0, 'Precipitation 2011': 68.0, 'Snow 2010': False, 'Snow 2011': False}, {'Shortnam': 'NB', 'Region': 'New Brunswick', 'Temperature': -20.0, 'Precipitation': 4.0, 'Temperature 2010': -19, 'Temperature 2011': -3, 'Precipitation 2010': 4.0, 'Precipitation 2011': 14.0, 'Snow 2010': False, 'Snow 2011': True}, {'Shortnam': 'NL', 'Region': 'Newfoundland and Labrador', 'Temperature': -6.0, 'Precipitation': 71.0, 'Temperature 2010': -8, 'Temperature 2011': -18, 'Precipitation 2010': 71.0, 'Precipitation 2011': 81.0, 'Snow 2010': False, 'Snow 2011': False}, {'Shortnam': 'NT', 'Region': 'Northwest Territories', 'Temperature': -16.0, 'Precipitation': 6.0, 'Temperature 2010': -11, 'Temperature 2011': -7, 'Precipitation 2010': 6.0, 'Precipitation 2011': 16.0, 'Snow 2010': False, 'Snow 2011': False}, {'Shortnam': 'NS', 'Region': 'Nova Scotia', 'Temperature': -18.0, 'Precipitation': 2.0, 'Temperature 2010': -3, 'Temperature 2011': -12, 'Precipitation 2010': 2.0, 'Precipitation 2011': 12.0, 'Snow 2010': True, 'Snow 2011': False}, {'Shortnam': 'NU', 'Region': 'Nunavut', 'Temperature': -16.0, 'Precipitation': 30.0, 'Temperature 2010': -17, 'Temperature 2011': -1, 'Precipitation 2010': 30.0, 'Precipitation 2011': 40.0, 'Snow 2010': False, 'Snow 2011': False}, {'Shortnam': 'ON', 'Region': 'Ontario', 'Temperature': 0.0, 'Precipitation': 59.0, 'Temperature 2010': -9, 'Temperature 2011': -20, 'Precipitation 2010': 59.0, 'Precipitation 2011': 69.0, 'Snow 2010': False, 'Snow 2011': False}, {'Shortnam': 'PEI', 'Region': 'Prince Edward Island', 'Temperature': -1.0, 'Precipitation': 34.0, 'Temperature 2010': -4, 'Temperature 2011': -8, 'Precipitation 2010': 34.0, 'Precipitation 2011': 44.0, 'Snow 2010': False, 'Snow 2011': False}, {'Shortnam': 'QC', 'Region': 'Quebec', 'Temperature': 0.0, 'Precipitation': 5.0, 'Temperature 2010': -13, 'Temperature 2011': -6, 'Precipitation 2010': 5.0, 'Precipitation 2011': 15.0, 'Snow 2010': False, 'Snow 2011': False}, {'Shortnam': 'SK', 'Region': 'Saskatchewan', 'Temperature': -4.0, 'Precipitation': 3.0, 'Temperature 2010': -5, 'Temperature 2011': -9, 'Precipitation 2010': 3.0, 'Precipitation 2011': 13.0, 'Snow 2010': False, 'Snow 2011': False}, {'Shortnam': 'YT', 'Region': 'Yukon', 'Temperature': -13.0, 'Precipitation': 51.0, 'Temperature 2010': -10, 'Temperature 2011': -11, 'Precipitation 2010': 51.0, 'Precipitation 2011': 61.0, 'Snow 2010': False, 'Snow 2011': False}]\n"
     ]
    }
   ],
   "source": [
    "temp_2010 = [-2, -14, -6, -19, -8, -11, -3, -17, -9, -4, -13, -5, -10]\n",
    "temp_2011 = [-5, -10, -15, -3, -18, -7, -12, -1, -20, -8, -6, -9, -11]\n",
    "\n",
    "weather = []\n",
    "\n",
    "with open('../data/province_weather.csv', 'r') as file:\n",
    "    reader = csv.DictReader(file)\n",
    "    for row in reader:\n",
    "        weather.append(row)\n",
    "\n",
    "weather = sorted(weather, key=lambda x: x['Region'])\n",
    "\n",
    "def will_snow(value):\n",
    "    return value > -10\n",
    "\n",
    "# Convert all temperatures and precipitation to floats\n",
    "for row in weather:\n",
    "    row['Temperature'] = float(row['Temperature'])\n",
    "    row['Precipitation'] = float(row['Precipitation'])\n",
    "\n",
    "# Add the temperature for 2010 and 2011 to the weather data\n",
    "for i, row in enumerate(weather):\n",
    "    row['Temperature 2010'] = temp_2010[i]\n",
    "    row['Temperature 2011'] = temp_2011[i]\n",
    "    row['Precipitation 2010'] = row['Precipitation']\n",
    "    row['Precipitation 2011'] = float(row['Precipitation']) + 10\n",
    "    row['Snow 2010'] = will_snow(temp_2010[i] * row['Precipitation'])\n",
    "    row['Snow 2011'] = will_snow(temp_2011[i] * row['Precipitation'] + 10)\n",
    "\n",
    "print(weather)"
   ]
  }
 ],
 "metadata": {
  "kernelspec": {
   "display_name": "base",
   "language": "python",
   "name": "python3"
  },
  "language_info": {
   "codemirror_mode": {
    "name": "ipython",
    "version": 3
   },
   "file_extension": ".py",
   "mimetype": "text/x-python",
   "name": "python",
   "nbconvert_exporter": "python",
   "pygments_lexer": "ipython3",
   "version": "3.12.2"
  }
 },
 "nbformat": 4,
 "nbformat_minor": 2
}
