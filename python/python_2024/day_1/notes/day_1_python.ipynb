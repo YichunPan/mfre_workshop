{
 "cells": [
  {
   "cell_type": "code",
   "execution_count": 1,
   "metadata": {},
   "outputs": [
    {
     "name": "stdout",
     "output_type": "stream",
     "text": [
      "Hello, world\n"
     ]
    }
   ],
   "source": [
    "print(\"Hello, world\")"
   ]
  },
  {
   "cell_type": "code",
   "execution_count": 5,
   "metadata": {},
   "outputs": [
    {
     "name": "stdout",
     "output_type": "stream",
     "text": [
      "10\n"
     ]
    }
   ],
   "source": [
    "age = 10\n",
    "print(age)"
   ]
  },
  {
   "cell_type": "code",
   "execution_count": 6,
   "metadata": {},
   "outputs": [
    {
     "name": "stdout",
     "output_type": "stream",
     "text": [
      "20\n"
     ]
    }
   ],
   "source": [
    "def my_function():\n",
    "    x = 10\n",
    "    print(x)\n",
    "\n",
    "x=20\n",
    "\n",
    "print(x)"
   ]
  },
  {
   "cell_type": "code",
   "execution_count": 7,
   "metadata": {},
   "outputs": [
    {
     "name": "stdout",
     "output_type": "stream",
     "text": [
      "20\n"
     ]
    }
   ],
   "source": [
    "x=20\n",
    "def my_function():\n",
    "    x = 10\n",
    "    print(x)\n",
    "\n",
    "print(x)"
   ]
  },
  {
   "cell_type": "code",
   "execution_count": 8,
   "metadata": {},
   "outputs": [
    {
     "name": "stdout",
     "output_type": "stream",
     "text": [
      "10\n"
     ]
    }
   ],
   "source": [
    "x=20\n",
    "def my_function():\n",
    "    x = 10\n",
    "    print(x)\n",
    "\n",
    "my_function()"
   ]
  },
  {
   "cell_type": "code",
   "execution_count": 10,
   "metadata": {},
   "outputs": [
    {
     "name": "stdout",
     "output_type": "stream",
     "text": [
      "30\n"
     ]
    }
   ],
   "source": [
    "x=20\n",
    "def my_function(age):\n",
    "    x = 10\n",
    "    print(age)\n",
    "\n",
    "my_function(30)"
   ]
  },
  {
   "cell_type": "code",
   "execution_count": 12,
   "metadata": {},
   "outputs": [
    {
     "name": "stdout",
     "output_type": "stream",
     "text": [
      "30\n"
     ]
    }
   ],
   "source": [
    "x=20\n",
    "def my_function(age):\n",
    "    x = 10\n",
    "    return age\n",
    "\n",
    "print(my_function(30))"
   ]
  },
  {
   "cell_type": "code",
   "execution_count": 18,
   "metadata": {},
   "outputs": [
    {
     "name": "stdout",
     "output_type": "stream",
     "text": [
      "30\n"
     ]
    }
   ],
   "source": [
    "x=20\n",
    "def my_function(age):\n",
    "    x = 10\n",
    "    return age\n",
    "   \n",
    "print(age)\n",
    "\n",
    "age = my_function(30)"
   ]
  },
  {
   "cell_type": "markdown",
   "metadata": {},
   "source": [
    "\"print\" just shows the human user a string representing what is going on inside the computer. The computer cannot make use of that printing. \"return\" is how a function gives back a value. This value is often unseen by the human user, but it can be used by the computer in further functions."
   ]
  },
  {
   "cell_type": "code",
   "execution_count": 26,
   "metadata": {},
   "outputs": [
    {
     "name": "stdout",
     "output_type": "stream",
     "text": [
      "20\n"
     ]
    }
   ],
   "source": [
    "random_int = 10\n",
    "random_float = 10.0\n",
    "random_string = \"10\"\n",
    "\n",
    "x = 10\n",
    "\n",
    "result = random_int + 10\n",
    "# result = random_float + 10\n",
    "# result = random_string + 10\n",
    "print(result)\n"
   ]
  },
  {
   "cell_type": "code",
   "execution_count": 28,
   "metadata": {},
   "outputs": [
    {
     "name": "stdout",
     "output_type": "stream",
     "text": [
      "20\n"
     ]
    }
   ],
   "source": [
    "random_string = int(random_string)\n",
    "print(result)"
   ]
  },
  {
   "cell_type": "code",
   "execution_count": 37,
   "metadata": {},
   "outputs": [],
   "source": [
    "# print(\n",
    "    # 10\n",
    "# )"
   ]
  },
  {
   "cell_type": "code",
   "execution_count": 36,
   "metadata": {},
   "outputs": [
    {
     "name": "stdout",
     "output_type": "stream",
     "text": [
      "10\n"
     ]
    }
   ],
   "source": [
    "print(\n",
    "  10\n",
    ")"
   ]
  },
  {
   "cell_type": "code",
   "execution_count": 48,
   "metadata": {},
   "outputs": [
    {
     "name": "stdout",
     "output_type": "stream",
     "text": [
      "[10, 10.0, '10', [20, 30]]\n",
      "[10, 10.0, '10', [20, 30], 40, 50]\n"
     ]
    }
   ],
   "source": [
    "random_list = [10, 10.0, \"10\"]\n",
    "random_tuple = (10,10.0, \"10\")\n",
    "random_dict = {\"int\": 10, \"float\":10.0, \"string\": \"10\"}\n",
    "\n",
    "new_list = [20, 30]\n",
    "new=[40, 50]\n",
    "random_list.append(new_list)\n",
    "y = random_list + new\n",
    "print(random_list)\n",
    "print(y)\n",
    "\n",
    "new=[20, 30]\n",
    "\n"
   ]
  },
  {
   "cell_type": "markdown",
   "metadata": {},
   "source": [
    "The key difference between the tuples and lists is that while the tuples are immutable objects the lists are mutable. This means that tuples cannot be changed while the lists can be modified. Tuples are more memory efficient than the lists."
   ]
  },
  {
   "cell_type": "code",
   "execution_count": 46,
   "metadata": {},
   "outputs": [
    {
     "name": "stdout",
     "output_type": "stream",
     "text": [
      "[{'name': 'Alice', 'age': 20, 'grade': 90}, {'name': 'Bob', 'age': 21, 'grade': 85}, {'name': 'Charlie', 'age': 22, 'grade': 80}, {'name': 'Colette', 'age': 20, 'grade': 90}]\n"
     ]
    }
   ],
   "source": [
    "students = [\n",
    "    {\"name\": \"Alice\", \"age\":20, \"grade\": 90}, \n",
    "    {\"name\": \"Bob\", \"age\":21, \"grade\": 85}, \n",
    "    {\"name\": \"Charlie\", \"age\":22, \"grade\":80}\n",
    "]\n",
    "\n",
    "new_student = {\"name\": \"Colette\", \"age\":20, \"grade\":90}\n",
    "\n",
    "students.append(new_student)\n",
    "\n",
    "print(students)"
   ]
  },
  {
   "cell_type": "code",
   "execution_count": 53,
   "metadata": {},
   "outputs": [
    {
     "name": "stdout",
     "output_type": "stream",
     "text": [
      "75\n"
     ]
    }
   ],
   "source": [
    "students = {\n",
    "    \"Alice\": [90, 85, 80], \n",
    "    \"Bob\": [85, 80, 75], \n",
    "    \"Charlie\":[80, 75, 70]\n",
    "}\n",
    "\n",
    "# students[\"Bob\"].append(75)\n",
    "students[\"Bob\"] = 75\n",
    "print(students[\"Bob\"])\n",
    "\n",
    "\n",
    "# print(students)"
   ]
  },
  {
   "cell_type": "code",
   "execution_count": 72,
   "metadata": {},
   "outputs": [],
   "source": [
    "# 先选中 shortcut: command+backslash"
   ]
  },
  {
   "cell_type": "code",
   "execution_count": 56,
   "metadata": {},
   "outputs": [
    {
     "name": "stdout",
     "output_type": "stream",
     "text": [
      "A\n"
     ]
    }
   ],
   "source": [
    "alice_grade = 95\n",
    "\n",
    "if alice_grade >= 90:\n",
    "    print(\"A\")\n",
    "    # notice \"A\" not A, single A is a undefined variable\n",
    "else:\n",
    "    print(\"Not A\")"
   ]
  },
  {
   "cell_type": "code",
   "execution_count": 58,
   "metadata": {},
   "outputs": [],
   "source": [
    "alice_grade = 89\n",
    "\n",
    "if alice_grade >= 90:\n",
    "    print(\"A\")\n",
    "# else:\n",
    "    # print(\"Not A\")"
   ]
  },
  {
   "cell_type": "code",
   "execution_count": 67,
   "metadata": {},
   "outputs": [
    {
     "name": "stdout",
     "output_type": "stream",
     "text": [
      "A\n"
     ]
    }
   ],
   "source": [
    "alice_grade = 89\n",
    "\n",
    "# if alice_grade >= 90:\n",
    "    # print(\"A\")\n",
    "# else:\n",
    "    # print(\"Not A\")\n",
    "\n",
    "if alice_grade >= 80 and alice_grade < 90:\n",
    "    print(\"A\")\n",
    "elif alice_grade >= 90:\n",
    "    print(\"A+\")\n",
    "else: \n",
    "    print(\"F\")"
   ]
  },
  {
   "cell_type": "code",
   "execution_count": 3,
   "metadata": {},
   "outputs": [
    {
     "name": "stdout",
     "output_type": "stream",
     "text": [
      "A\n"
     ]
    }
   ],
   "source": [
    "alice_grade = 89\n",
    "if alice_grade >= 80:\n",
    "    if alice_grade < 90:\n",
    "        print(\"A\")\n",
    "elif alice_grade >= 90:\n",
    "    print(\"A+\")\n"
   ]
  },
  {
   "cell_type": "code",
   "execution_count": 1,
   "metadata": {},
   "outputs": [
    {
     "name": "stdout",
     "output_type": "stream",
     "text": [
      "x is not equal to 10\n"
     ]
    }
   ],
   "source": [
    "x = 9\n",
    "if x == 10:\n",
    "    print(\"x is 10\")\n",
    "elif x != 10:\n",
    "    print(\"x is not equal to 10\")"
   ]
  },
  {
   "cell_type": "code",
   "execution_count": 2,
   "metadata": {},
   "outputs": [
    {
     "name": "stdout",
     "output_type": "stream",
     "text": [
      "x is not equal to 10\n"
     ]
    }
   ],
   "source": [
    "x = 9\n",
    "if x == 10:\n",
    "    print(\"x is 10\")\n",
    "else:\n",
    "    print(\"x is not equal to 10\")"
   ]
  },
  {
   "cell_type": "code",
   "execution_count": 8,
   "metadata": {},
   "outputs": [
    {
     "name": "stdout",
     "output_type": "stream",
     "text": [
      "0\n",
      "1\n",
      "2\n",
      "3\n",
      "4\n",
      "5\n",
      "6\n",
      "7\n",
      "8\n",
      "9\n"
     ]
    }
   ],
   "source": [
    "for number in range(10):\n",
    "    print(number)\n"
   ]
  },
  {
   "cell_type": "code",
   "execution_count": 11,
   "metadata": {},
   "outputs": [
    {
     "name": "stdout",
     "output_type": "stream",
     "text": [
      "1\n",
      "2\n",
      "3\n",
      "4\n",
      "5\n",
      "6\n",
      "7\n",
      "8\n",
      "9\n",
      "10\n"
     ]
    }
   ],
   "source": [
    "for number in range (1, 11):\n",
    "    print(number)"
   ]
  },
  {
   "cell_type": "code",
   "execution_count": 10,
   "metadata": {},
   "outputs": [
    {
     "name": "stdout",
     "output_type": "stream",
     "text": [
      "1\n",
      "3\n",
      "5\n",
      "7\n",
      "9\n"
     ]
    }
   ],
   "source": [
    "for number in range (1, 11, 2):\n",
    "    print(number)"
   ]
  },
  {
   "cell_type": "code",
   "execution_count": 12,
   "metadata": {},
   "outputs": [
    {
     "name": "stdout",
     "output_type": "stream",
     "text": [
      "0\n",
      "2\n",
      "4\n",
      "6\n",
      "8\n"
     ]
    }
   ],
   "source": [
    "for number in range (0, 10, 2):\n",
    "    print(number)"
   ]
  },
  {
   "cell_type": "code",
   "execution_count": 13,
   "metadata": {},
   "outputs": [
    {
     "name": "stdout",
     "output_type": "stream",
     "text": [
      "0\n",
      "1\n",
      "2\n",
      "3\n",
      "4\n",
      "5\n",
      "6\n",
      "7\n",
      "8\n",
      "9\n"
     ]
    }
   ],
   "source": [
    "x = 0\n",
    "while x < 10:\n",
    "    print(x)\n",
    "    x += 1"
   ]
  },
  {
   "cell_type": "code",
   "execution_count": 14,
   "metadata": {},
   "outputs": [
    {
     "name": "stdout",
     "output_type": "stream",
     "text": [
      "1\n",
      "2\n",
      "3\n",
      "4\n",
      "5\n",
      "6\n",
      "7\n",
      "8\n",
      "9\n",
      "10\n"
     ]
    }
   ],
   "source": [
    "x = 0\n",
    "while x < 10:\n",
    "    x += 1\n",
    "    print(x)\n",
    "  "
   ]
  },
  {
   "cell_type": "code",
   "execution_count": 15,
   "metadata": {},
   "outputs": [
    {
     "name": "stdout",
     "output_type": "stream",
     "text": [
      "4\n",
      "8\n",
      "16\n"
     ]
    }
   ],
   "source": [
    "x = 2\n",
    "while x < 10:\n",
    "    x *= 2\n",
    "    print(x)\n",
    "  "
   ]
  },
  {
   "cell_type": "code",
   "execution_count": 16,
   "metadata": {},
   "outputs": [
    {
     "name": "stdout",
     "output_type": "stream",
     "text": [
      "2\n",
      "4\n",
      "8\n"
     ]
    }
   ],
   "source": [
    "x = 2\n",
    "while x < 10:\n",
    "    print(x)\n",
    "    x *= 2"
   ]
  },
  {
   "cell_type": "code",
   "execution_count": 23,
   "metadata": {},
   "outputs": [
    {
     "name": "stdout",
     "output_type": "stream",
     "text": [
      "y: 2\n",
      "y: 4\n",
      "y: 8\n",
      "x: 2\n",
      "y: 2\n",
      "y: 4\n",
      "y: 8\n",
      "x: 6\n"
     ]
    }
   ],
   "source": [
    "x = 2\n",
    "y = 2\n",
    "\n",
    "while x < 10:\n",
    "    while y < 10:\n",
    "        print(f'y: {y}') #format string {}variables inside\n",
    "        y *= 2\n",
    "    y = 2\n",
    "    print(f'x: {x}')\n",
    "    x *= 3"
   ]
  },
  {
   "cell_type": "code",
   "execution_count": 1,
   "metadata": {},
   "outputs": [
    {
     "name": "stdout",
     "output_type": "stream",
     "text": [
      "[2, 4, 6]\n"
     ]
    }
   ],
   "source": [
    "def even_numbers(numbers):\n",
    "    even_numbers = []\n",
    "    for number in numbers:\n",
    "        if number % 2 == 0:\n",
    "            even_numbers.append(number)\n",
    "    return even_numbers \n",
    "\n",
    "# Define a function that takes in a list of numbers \n",
    "# Start a new empty list\n",
    "#For every number in the list i passed in, check for something\n",
    "     # check if the number if perfectly divisible by 2 \n",
    "     # if it is, add it to the new list\n",
    "# Once every number is checked, return the new list\n",
    "\n",
    "numbers = [1, 2, 3, 4, 5, 6]\n",
    "even = even_numbers(numbers)\n",
    "print(even)\n",
    "\n",
    "# print(even_numbers([1, 2, 3, 4, 5, 6])) #notice for square bracket"
   ]
  },
  {
   "cell_type": "code",
   "execution_count": 6,
   "metadata": {},
   "outputs": [
    {
     "name": "stdout",
     "output_type": "stream",
     "text": [
      "100\n",
      "This is not an integer\n"
     ]
    }
   ],
   "source": [
    "def is_integer(x):\n",
    "    return type(x) == int\n",
    "\n",
    "def square(x):\n",
    "    return x ** 2\n",
    "\n",
    "def square_integer(x):\n",
    "    if is_integer(x):\n",
    "        return square(x)\n",
    "    else:\n",
    "        return \"This is not an integer\"\n",
    "\n",
    "print(square_integer(10))\n",
    "print(square_integer(\"10\"))\n",
    "\n",
    "# Alternatively, \n",
    "def square_int(x):\n",
    "    if type(x) == int:\n",
    "        return x ** 2\n",
    "    else:\n",
    "        return \"This is not an integer\"\n"
   ]
  },
  {
   "cell_type": "code",
   "execution_count": null,
   "metadata": {},
   "outputs": [],
   "source": []
  }
 ],
 "metadata": {
  "kernelspec": {
   "display_name": "base",
   "language": "python",
   "name": "python3"
  },
  "language_info": {
   "codemirror_mode": {
    "name": "ipython",
    "version": 3
   },
   "file_extension": ".py",
   "mimetype": "text/x-python",
   "name": "python",
   "nbconvert_exporter": "python",
   "pygments_lexer": "ipython3",
   "version": "3.11.6"
  }
 },
 "nbformat": 4,
 "nbformat_minor": 2
}
