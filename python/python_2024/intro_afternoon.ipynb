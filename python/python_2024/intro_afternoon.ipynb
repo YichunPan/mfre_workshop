{
 "cells": [
  {
   "cell_type": "code",
   "execution_count": 1,
   "metadata": {},
   "outputs": [],
   "source": [
    "import csv"
   ]
  },
  {
   "cell_type": "markdown",
   "metadata": {},
   "source": [
    "# Basic Operations"
   ]
  },
  {
   "cell_type": "code",
   "execution_count": 6,
   "metadata": {},
   "outputs": [
    {
     "name": "stdout",
     "output_type": "stream",
     "text": [
      "[{'Shortnam': 'NL', 'Region': 'Newfoundland and Labrador'}, {'Shortnam': 'PEI', 'Region': 'Prince Edward Island'}, {'Shortnam': 'NS', 'Region': 'Nova Scotia'}, {'Shortnam': 'NB', 'Region': 'New Brunswick'}, {'Shortnam': 'QC', 'Region': 'Quebec'}, {'Shortnam': 'ON', 'Region': 'Ontario'}, {'Shortnam': 'MB', 'Region': 'Manitoba'}, {'Shortnam': 'SK', 'Region': 'Saskatchewan'}, {'Shortnam': 'AB', 'Region': 'Alberta'}, {'Shortnam': 'BC', 'Region': 'British Columbia'}, {'Shortnam': 'YT', 'Region': 'Yukon'}, {'Shortnam': 'NT', 'Region': 'Northwest Territories'}, {'Shortnam': 'NU', 'Region': 'Nunavut'}]\n"
     ]
    }
   ],
   "source": [
    "data_list = []\n",
    "\n",
    "# Open the file and read the data\n",
    "with open('data/province_names.csv', 'r') as file:\n",
    "    reader = csv.DictReader(file)\n",
    "    for row in reader:\n",
    "        data_list.append(row)\n",
    "\n",
    "print(data_list)"
   ]
  },
  {
   "cell_type": "code",
   "execution_count": 8,
   "metadata": {},
   "outputs": [
    {
     "name": "stdout",
     "output_type": "stream",
     "text": [
      "[{'Shortnam': 'AB', 'Region': 'Alberta'}, {'Shortnam': 'BC', 'Region': 'British Columbia'}, {'Shortnam': 'MB', 'Region': 'Manitoba'}, {'Shortnam': 'NB', 'Region': 'New Brunswick'}, {'Shortnam': 'NL', 'Region': 'Newfoundland and Labrador'}, {'Shortnam': 'NS', 'Region': 'Nova Scotia'}, {'Shortnam': 'NT', 'Region': 'Northwest Territories'}, {'Shortnam': 'NU', 'Region': 'Nunavut'}, {'Shortnam': 'ON', 'Region': 'Ontario'}, {'Shortnam': 'PEI', 'Region': 'Prince Edward Island'}, {'Shortnam': 'QC', 'Region': 'Quebec'}, {'Shortnam': 'SK', 'Region': 'Saskatchewan'}, {'Shortnam': 'YT', 'Region': 'Yukon'}]\n"
     ]
    }
   ],
   "source": [
    "# Sort list based on the 'Shortnam' key\n",
    "data_list.sort(key=lambda x: x['Shortnam'])\n",
    "\n",
    "print(data_list)"
   ]
  },
  {
   "cell_type": "code",
   "execution_count": 11,
   "metadata": {},
   "outputs": [
    {
     "name": "stdout",
     "output_type": "stream",
     "text": [
      "[{'Shortnam': 'AB', 'Region': 'Alberta'}, {'Shortnam': 'BC', 'Region': 'British Columbia'}]\n"
     ]
    }
   ],
   "source": [
    "# Filter out Alberta and British Columbia\n",
    "filtered_data = [x for x in data_list if x['Region'] in ['Alberta', 'British Columbia']]\n",
    "\n",
    "print(filtered_data)"
   ]
  },
  {
   "cell_type": "code",
   "execution_count": 18,
   "metadata": {},
   "outputs": [],
   "source": [
    "weather = []\n",
    "\n",
    "with open('data/province_weather.csv', 'r') as file:\n",
    "    reader = csv.DictReader(file)\n",
    "    for row in reader:\n",
    "        weather.append(row)"
   ]
  },
  {
   "cell_type": "code",
   "execution_count": 20,
   "metadata": {},
   "outputs": [
    {
     "name": "stdout",
     "output_type": "stream",
     "text": [
      "[{'Shortnam': 'NL', 'Region': 'Newfoundland and Labrador', 'Temperature': '-6.0', 'Precipitation': '71.0'}, {'Shortnam': 'PEI', 'Region': 'Prince Edward Island', 'Temperature': '-1.0', 'Precipitation': '34.0'}, {'Shortnam': 'QC', 'Region': 'Quebec', 'Temperature': '0.0', 'Precipitation': '5.0'}, {'Shortnam': 'ON', 'Region': 'Ontario', 'Temperature': '0.0', 'Precipitation': '59.0'}, {'Shortnam': 'SK', 'Region': 'Saskatchewan', 'Temperature': '-4.0', 'Precipitation': '3.0'}, {'Shortnam': 'AB', 'Region': 'Alberta', 'Temperature': '-2.0', 'Precipitation': '21.0'}]\n"
     ]
    }
   ],
   "source": [
    "# Filter out provinces with a temperature greater than -10\n",
    "filtered_weather = [x for x in weather if float(x['Temperature']) > -10]\n",
    "\n",
    "print(filtered_weather)"
   ]
  },
  {
   "cell_type": "code",
   "execution_count": 22,
   "metadata": {},
   "outputs": [
    {
     "name": "stdout",
     "output_type": "stream",
     "text": [
      "[{'Shortnam': 'NL', 'Region': 'Newfoundland and Labrador', 'Temperature': '-6.0', 'Precipitation': '71.0'}, {'Shortnam': 'ON', 'Region': 'Ontario', 'Temperature': '0.0', 'Precipitation': '59.0'}]\n"
     ]
    }
   ],
   "source": [
    "# Filter out provinces with a temperature greater than -10 and percipiataion more than 50\n",
    "filtered_weather = [x for x in weather if float(x['Temperature']) > -10 and float(x['Precipitation']) > 50]\n",
    "\n",
    "print(filtered_weather)"
   ]
  },
  {
   "cell_type": "markdown",
   "metadata": {},
   "source": [
    "# Applying Functions to List Items"
   ]
  },
  {
   "cell_type": "code",
   "execution_count": 24,
   "metadata": {},
   "outputs": [
    {
     "name": "stdout",
     "output_type": "stream",
     "text": [
      "[{'Shortnam': 'NL', 'Region': 'Newfoundland and Labrador', 'Temperature': '-6.0', 'Precipitation': '71.0', 'Badness': -426.0}, {'Shortnam': 'PEI', 'Region': 'Prince Edward Island', 'Temperature': '-1.0', 'Precipitation': '34.0', 'Badness': -34.0}, {'Shortnam': 'NS', 'Region': 'Nova Scotia', 'Temperature': '-18.0', 'Precipitation': '2.0', 'Badness': -36.0}, {'Shortnam': 'NB', 'Region': 'New Brunswick', 'Temperature': '-20.0', 'Precipitation': '4.0', 'Badness': -80.0}, {'Shortnam': 'QC', 'Region': 'Quebec', 'Temperature': '0.0', 'Precipitation': '5.0', 'Badness': 0.0}, {'Shortnam': 'ON', 'Region': 'Ontario', 'Temperature': '0.0', 'Precipitation': '59.0', 'Badness': 0.0}, {'Shortnam': 'MB', 'Region': 'Manitoba', 'Temperature': '-12.0', 'Precipitation': '58.0', 'Badness': -696.0}, {'Shortnam': 'SK', 'Region': 'Saskatchewan', 'Temperature': '-4.0', 'Precipitation': '3.0', 'Badness': -12.0}, {'Shortnam': 'AB', 'Region': 'Alberta', 'Temperature': '-2.0', 'Precipitation': '21.0', 'Badness': -42.0}, {'Shortnam': 'BC', 'Region': 'British Columbia', 'Temperature': '-17.0', 'Precipitation': '91.0', 'Badness': -1547.0}, {'Shortnam': 'YT', 'Region': 'Yukon', 'Temperature': '-13.0', 'Precipitation': '51.0', 'Badness': -663.0}, {'Shortnam': 'NT', 'Region': 'Northwest Territories', 'Temperature': '-16.0', 'Precipitation': '6.0', 'Badness': -96.0}, {'Shortnam': 'NU', 'Region': 'Nunavut', 'Temperature': '-16.0', 'Precipitation': '30.0', 'Badness': -480.0}]\n"
     ]
    }
   ],
   "source": [
    "# Supposed that the multiple of temperature and precipitation gives you an indication of how bad the weather is\n",
    "# Multiply the temperature and precipitation for each province and name the new key 'Badness'\n",
    "for row in weather:\n",
    "    row['Badness'] = float(row['Temperature']) * float(row['Precipitation'])\n",
    "\n",
    "print(weather)"
   ]
  },
  {
   "cell_type": "code",
   "execution_count": 26,
   "metadata": {},
   "outputs": [
    {
     "name": "stdout",
     "output_type": "stream",
     "text": [
      "[{'Shortnam': 'NL', 'Region': 'Newfoundland and Labrador', 'Temperature': '-6.0', 'Precipitation': '71.0', 'Badness': -426.0, 'Fahrenheit': 21.2}, {'Shortnam': 'PEI', 'Region': 'Prince Edward Island', 'Temperature': '-1.0', 'Precipitation': '34.0', 'Badness': -34.0, 'Fahrenheit': 30.2}, {'Shortnam': 'NS', 'Region': 'Nova Scotia', 'Temperature': '-18.0', 'Precipitation': '2.0', 'Badness': -36.0, 'Fahrenheit': -0.3999999999999986}, {'Shortnam': 'NB', 'Region': 'New Brunswick', 'Temperature': '-20.0', 'Precipitation': '4.0', 'Badness': -80.0, 'Fahrenheit': -4.0}, {'Shortnam': 'QC', 'Region': 'Quebec', 'Temperature': '0.0', 'Precipitation': '5.0', 'Badness': 0.0, 'Fahrenheit': 32.0}, {'Shortnam': 'ON', 'Region': 'Ontario', 'Temperature': '0.0', 'Precipitation': '59.0', 'Badness': 0.0, 'Fahrenheit': 32.0}, {'Shortnam': 'MB', 'Region': 'Manitoba', 'Temperature': '-12.0', 'Precipitation': '58.0', 'Badness': -696.0, 'Fahrenheit': 10.399999999999999}, {'Shortnam': 'SK', 'Region': 'Saskatchewan', 'Temperature': '-4.0', 'Precipitation': '3.0', 'Badness': -12.0, 'Fahrenheit': 24.8}, {'Shortnam': 'AB', 'Region': 'Alberta', 'Temperature': '-2.0', 'Precipitation': '21.0', 'Badness': -42.0, 'Fahrenheit': 28.4}, {'Shortnam': 'BC', 'Region': 'British Columbia', 'Temperature': '-17.0', 'Precipitation': '91.0', 'Badness': -1547.0, 'Fahrenheit': 1.3999999999999986}, {'Shortnam': 'YT', 'Region': 'Yukon', 'Temperature': '-13.0', 'Precipitation': '51.0', 'Badness': -663.0, 'Fahrenheit': 8.600000000000001}, {'Shortnam': 'NT', 'Region': 'Northwest Territories', 'Temperature': '-16.0', 'Precipitation': '6.0', 'Badness': -96.0, 'Fahrenheit': 3.1999999999999993}, {'Shortnam': 'NU', 'Region': 'Nunavut', 'Temperature': '-16.0', 'Precipitation': '30.0', 'Badness': -480.0, 'Fahrenheit': 3.1999999999999993}]\n"
     ]
    }
   ],
   "source": [
    "# Define a function to convert the temperature from Celsius to Fahrenheit\n",
    "def celsius_to_fahrenheit(celsius):\n",
    "    return celsius * 9/5 + 32\n",
    "\n",
    "# Convert the temperature for each province from Celsius to Fahrenheit\n",
    "for row in weather:\n",
    "    row['Fahrenheit'] = celsius_to_fahrenheit(float(row['Temperature']))\n",
    "\n",
    "print(weather)"
   ]
  },
  {
   "cell_type": "code",
   "execution_count": 27,
   "metadata": {},
   "outputs": [],
   "source": [
    "# Drop the 'Badness' key from the weather data\n",
    "for row in weather:\n",
    "    row.pop('Badness')"
   ]
  },
  {
   "cell_type": "code",
   "execution_count": 31,
   "metadata": {},
   "outputs": [
    {
     "name": "stdout",
     "output_type": "stream",
     "text": [
      "['Newfoundland and Labrador', 'Prince Edward Island', 'Quebec', 'Ontario', 'Saskatchewan', 'Alberta']\n"
     ]
    }
   ],
   "source": [
    "# Let's filter for the names of provinces with temperatures greather than the average\n",
    "total_temp = 0\n",
    "for row in weather:\n",
    "    total_temp += float(row['Temperature'])\n",
    "\n",
    "average_temp = total_temp / len(weather)\n",
    "\n",
    "filtered_weather = [x['Region'] for x in weather if float(x['Temperature']) > average_temp]\n",
    "print(filtered_weather)"
   ]
  }
 ],
 "metadata": {
  "kernelspec": {
   "display_name": "base",
   "language": "python",
   "name": "python3"
  },
  "language_info": {
   "codemirror_mode": {
    "name": "ipython",
    "version": 3
   },
   "file_extension": ".py",
   "mimetype": "text/x-python",
   "name": "python",
   "nbconvert_exporter": "python",
   "pygments_lexer": "ipython3",
   "version": "3.12.2"
  }
 },
 "nbformat": 4,
 "nbformat_minor": 2
}
