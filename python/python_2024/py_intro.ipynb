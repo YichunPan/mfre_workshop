{
 "cells": [
  {
   "cell_type": "markdown",
   "metadata": {},
   "source": [
    "# Introduction in Python\n",
    "\n",
    "Python is a high-level, interpreted, interactive and object-oriented scripting language. Python is designed to be highly readable. It uses English keywords frequently where as other languages use punctuation, and it has fewer syntactical constructions than other languages.\n",
    "\n",
    "Now that you have gone through the basics of computer programming, let's dive deeper into Python and the the ways in which we can do things pythonically.\n",
    "\n",
    "## Table of Contents\n",
    "\n",
    "1. [Object Oriented Programming](#object-oriented-programming)\n",
    "2. [Pythonics](#pythonics)\n",
    "3. [Data Handling](#data-handling)\n",
    "4. [Machine Learning](#machine-learning)\n",
    "5. [Visualization](#visualization)\n",
    "6. [Application Programming Interface](#application-programming-interface)\n",
    "7. [Python Environments](#python-environments)\n",
    "8. [Code Segmentation](#code-segmentation)\n",
    "9. [Useful Plugins](#useful-plugins)\n",
    "10. [Dynamic Programming](#dynamic-programming)\n"
   ]
  },
  {
   "cell_type": "markdown",
   "metadata": {},
   "source": [
    "## Object Oriented Programming\n",
    "\n",
    "Object-oriented programming (OOP) is a programming paradigm based on the concept of \"objects\", which can contain data, in the form of fields (often known as attributes or properties), and code, in the form of procedures (often known as methods). For example, a car is an object which has certain properties such as color, model, and certain methods such as drive, stop, and so on.\n",
    "\n",
    "### Classes and Objects\n",
    "\n",
    "A class is a blueprint for the object. We can think of class as a sketch (prototype) of a house. It contains all the details about the floors, doors, windows etc. Based on these descriptions we build the house. House is the object. When we create an object of a class, we are creating an instance of the class. This process is known as instantiation."
   ]
  },
  {
   "cell_type": "code",
   "execution_count": 2,
   "metadata": {},
   "outputs": [
    {
     "name": "stdout",
     "output_type": "stream",
     "text": [
      "My dog's name is Willie.\n",
      "My dog is 6 years old.\n",
      "Willie is now sitting.\n",
      "Willie rolled over!\n"
     ]
    }
   ],
   "source": [
    "# Create a class \n",
    "\n",
    "class Dog:\n",
    "    def __init__(self, name, age):\n",
    "        self.name = name\n",
    "        self.age = age\n",
    "    def sit(self):\n",
    "        print(f\"{self.name} is now sitting.\")\n",
    "    def roll_over(self):\n",
    "        print(f\"{self.name} rolled over!\")\n",
    "\n",
    "my_dog = Dog('Willie', 6)\n",
    "print(f\"My dog's name is {my_dog.name}.\")\n",
    "print(f\"My dog is {my_dog.age} years old.\")\n",
    "\n",
    "my_dog.sit()\n",
    "my_dog.roll_over()"
   ]
  },
  {
   "cell_type": "markdown",
   "metadata": {},
   "source": [
    "### Important Concepts\n",
    "\n",
    "1. Inheritance\n",
    "    - Inheritance is a way of creating a new class for using details of an existing class without modifying it. The newly formed class is a derived class (or child class). Similarly, the existing class is a base class (or parent class). \n",
    "2. Encapsulation\n",
    "    - Encapsulation is an another mechanism to restrict direct access to some of the object's components. Encapsulation is implemented by using access specifiers. An access specifier defines the scope and visibility of a class member.\n",
    "3. Polymorphism\n",
    "    - Polymorphism is an ability (in OOP) to use a common interface for multiple forms (data types). It allows objects of different classes to be treated as objects of a common superclass.\n",
    "4. Abstraction\n",
    "    - Abstraction is the concept of object-oriented programming that \"shows\" only essential attributes and \"hides\" unnecessary information. The main purpose of abstraction is hiding the unnecessary details from the users."
   ]
  },
  {
   "cell_type": "code",
   "execution_count": 3,
   "metadata": {},
   "outputs": [
    {
     "name": "stdout",
     "output_type": "stream",
     "text": [
      "Willie is now searching.\n",
      "updating software\n",
      "driving\n",
      "Parrot can fly\n",
      "Penguin can't fly\n"
     ]
    }
   ],
   "source": [
    "# Example of inheritance\n",
    "\n",
    "class SARDog(Dog):\n",
    "    def __init__(self, name, age):\n",
    "        super().__init__(name, age)\n",
    "    def search(self):\n",
    "        print(f\"{self.name} is now searching.\")\n",
    "\n",
    "my_dog = SARDog('Willie', 6)\n",
    "\n",
    "my_dog.search()\n",
    "\n",
    "# Example of encapsulation\n",
    "\n",
    "class Car:\n",
    "    def __init__(self):\n",
    "        self.__updateSoftware()\n",
    "    def drive(self):\n",
    "        print('driving')\n",
    "    def __updateSoftware(self):\n",
    "        print('updating software')\n",
    "\n",
    "redcar = Car()\n",
    "redcar.drive()\n",
    "#redcar.__updateSoftware()  # not accesible from object\n",
    "\n",
    "# Example of polymorphism\n",
    "\n",
    "class Parrot:\n",
    "    def fly(self):\n",
    "        print(\"Parrot can fly\")\n",
    "    def swim(self):\n",
    "        print(\"Parrot can't swim\")\n",
    "\n",
    "class Penguin:\n",
    "    def fly(self):\n",
    "        print(\"Penguin can't fly\")\n",
    "    def swim(self):\n",
    "        print(\"Penguin can swim\")\n",
    "\n",
    "def flying_test(bird):\n",
    "    bird.fly()\n",
    "\n",
    "blu = Parrot()\n",
    "peggy = Penguin()\n",
    "\n",
    "flying_test(blu)\n",
    "flying_test(peggy)"
   ]
  },
  {
   "cell_type": "markdown",
   "metadata": {},
   "source": [
    "### Benefits of Object Oriented Programming\n",
    "\n",
    "1. **Modularity for easier troubleshooting**\n",
    "    - Something has gone wrong, and you have no idea where to look. Is the problem in the Widget, or is it the Wodget? If objects are well defined, you can more easily narrow down the problem to a particular object.\n",
    "2. **Reuse of code through inheritance**\n",
    "    - If an object already exists (perhaps written by someone else in your company), you can use that object in your program. And, if you have an object that almost does what you want but just needs a little extra functionality, you can create a new object based on the existing object.\n",
    "3. **Flexibility through polymorphism**\n",
    "    - If you have a bunch of objects that are all of the same class, but you want to iterate over them and call a particular method for each, polymorphism allows you to treat objects of different classes the same way if they contain a particular method.\n",
    "4. **Interface Descriptions**\n",
    "    - Objects can be described by the interfaces they support. If an object says it supports a particular interface, it means that the object has certain methods and properties. If an object says it supports a particular interface, it means that the object has certain methods and properties.\n",
    "\n",
    "Object Oriented Programming is a very important concept in Python. It is the foundation of many libraries and frameworks in Python. In order to better understand the concept of Object Oriented Programming, you can refer to the following resources:\n",
    "\n",
    "1. [Real Python](https://realpython.com/python3-object-oriented-programming/)\n",
    "2. [Geeks for Geeks](https://www.geeksforgeeks.org/object-oriented-programming-in-python-set-1-class-and-its-members/)\n",
    "3. [Programiz](https://www.programiz.com/python-programming/object-oriented-programming)  "
   ]
  },
  {
   "cell_type": "markdown",
   "metadata": {},
   "source": [
    "## Pythonics\n",
    "\n",
    "To clarify, Pythonics is a word I made up. But people often refer to best practices when writting code in Python as Pythonic. Python is a very versatile language. It is known for its simplicity and readability. There are certain ways in which we can write code in Python which are more efficient and readable. There are also certain attributes of Python which make it unique, which changes the way we write code in Python. \n",
    "\n",
    "### The Zen of Python\n",
    "\n",
    "The Zen of Python is a collection of 19 software principles that influences the design of Python Programming Language. It is written by Tim Peters. The Zen of Python is a collection of aphorisms that capture the guiding principles of Python's design. "
   ]
  },
  {
   "cell_type": "code",
   "execution_count": 1,
   "metadata": {},
   "outputs": [
    {
     "name": "stdout",
     "output_type": "stream",
     "text": [
      "The Zen of Python, by Tim Peters\n",
      "\n",
      "Beautiful is better than ugly.\n",
      "Explicit is better than implicit.\n",
      "Simple is better than complex.\n",
      "Complex is better than complicated.\n",
      "Flat is better than nested.\n",
      "Sparse is better than dense.\n",
      "Readability counts.\n",
      "Special cases aren't special enough to break the rules.\n",
      "Although practicality beats purity.\n",
      "Errors should never pass silently.\n",
      "Unless explicitly silenced.\n",
      "In the face of ambiguity, refuse the temptation to guess.\n",
      "There should be one-- and preferably only one --obvious way to do it.\n",
      "Although that way may not be obvious at first unless you're Dutch.\n",
      "Now is better than never.\n",
      "Although never is often better than *right* now.\n",
      "If the implementation is hard to explain, it's a bad idea.\n",
      "If the implementation is easy to explain, it may be a good idea.\n",
      "Namespaces are one honking great idea -- let's do more of those!\n"
     ]
    }
   ],
   "source": [
    "import this"
   ]
  },
  {
   "cell_type": "markdown",
   "metadata": {},
   "source": [
    "### Try and Except\n",
    "\n",
    "In Python, we can use try and except blocks to handle exceptions. This is a more efficient way of handling exceptions than using if-else blocks. "
   ]
  },
  {
   "cell_type": "code",
   "execution_count": 4,
   "metadata": {},
   "outputs": [
    {
     "name": "stdout",
     "output_type": "stream",
     "text": [
      "15\n"
     ]
    }
   ],
   "source": [
    "# Add all numbers in a list\n",
    "\n",
    "mis_list = ['teh', 'smae', 'htis', 'wrod']\n",
    "int_list = [1, 2, 3, 4, 5]\n",
    "g_list = ['apple', 'banana', 'cherry', 'date', 'elderberry']\n",
    "combo_list = mis_list + int_list + g_list\n",
    "\n",
    "def cum_sum(list):\n",
    "    sum = 0\n",
    "    for i in list:\n",
    "        try:\n",
    "            sum += i\n",
    "        except:\n",
    "            continue\n",
    "    return sum\n",
    "\n",
    "print(cum_sum(combo_list))"
   ]
  },
  {
   "cell_type": "markdown",
   "metadata": {},
   "source": [
    "### Value Swapping and Multiple Assignment\n",
    "\n",
    "In Python, we can swap the values of two variables without using a temporary variable. We can also assign multiple values to multiple variables in a single line."
   ]
  },
  {
   "cell_type": "code",
   "execution_count": 2,
   "metadata": {},
   "outputs": [
    {
     "name": "stdout",
     "output_type": "stream",
     "text": [
      "apple\n"
     ]
    }
   ],
   "source": [
    "fruits = ['apple', 'banana', 'cherry']\n",
    "f1, f2, f3 = fruits\n",
    "\n",
    "print(f1)"
   ]
  },
  {
   "cell_type": "markdown",
   "metadata": {},
   "source": [
    "### Passing Multiple Arguments\n",
    "\n",
    "In Python, we can pass multiple arguments to a function using the *args and **kwargs syntax. These will be unpacked into a tuple and a dictionary respectively. This also allows you to easily merge two dictionaries or lists. If you try to merge two lists by putting both variables in the list, it will create a list of lists, which is not what you want."
   ]
  },
  {
   "cell_type": "code",
   "execution_count": 4,
   "metadata": {},
   "outputs": [
    {
     "name": "stdout",
     "output_type": "stream",
     "text": [
      "[(1, 2), (3, 4), (5, 6), (1, 2), (3, 4), (5, 6)]\n",
      "[[(1, 2), (3, 4), (5, 6)], [(1, 2), (3, 4), (5, 6)]]\n",
      "{'a': 1, 'b': 2, 'c': 3, 'd': 4}\n"
     ]
    }
   ],
   "source": [
    "# Create a list of tuples\n",
    "\n",
    "list1 = [(1, 2), (3, 4), (5, 6)]\n",
    "list2 = [(1, 2), (3, 4), (5, 6)]\n",
    "long_list = [*list1, *list2]\n",
    "incorrect_list = [list1, list2]\n",
    "\n",
    "print(long_list)\n",
    "print(incorrect_list)\n",
    "\n",
    "# Create a list of dictionaries\n",
    "\n",
    "dict1 = {'a': 1, 'b': 2}\n",
    "dict2 = {'c': 3, 'd': 4}\n",
    "long_dict = {**dict1, **dict2}\n",
    "\n",
    "print(long_dict)"
   ]
  },
  {
   "cell_type": "markdown",
   "metadata": {},
   "source": [
    "### Comprehension\n",
    "\n",
    "List comprihension is a concise way to loop through all elements of a list and apply a function to them. The same effect can be achieved using a for loop, but list comprehension is more efficient and readable. \n",
    "\n",
    "Lambda functions are small anonymous functions. They can have any number of arguments but only one expression. They are used when you need a small function that you will only use once. While list comprehensions and lambda functions are very useful to clean up your code, they can also make your code less readable. So don't force their usage if it makes your code less readable."
   ]
  },
  {
   "cell_type": "code",
   "execution_count": 5,
   "metadata": {},
   "outputs": [
    {
     "name": "stdout",
     "output_type": "stream",
     "text": [
      "[1, 4, 9, 16, 25]\n",
      "[1, 4, 9, 16, 25]\n",
      "{'a': 1, 'b': 4, 'c': 9, 'd': 16}\n",
      "10\n"
     ]
    }
   ],
   "source": [
    "# Example of list comprehension\n",
    "\n",
    "list1 = [1, 2, 3, 4, 5]\n",
    "list2 = [x**2 for x in list1]\n",
    "result = []\n",
    "for x in list1:\n",
    "    result.append(x**2)\n",
    "\n",
    "print(list2)\n",
    "print(result) # Same result\n",
    "\n",
    "# Example of dictionary comprehension\n",
    "\n",
    "dict1 = {'a': 1, 'b': 2, 'c': 3, 'd': 4}\n",
    "dict2 = {k:v**2 for (k, v) in dict1.items()}\n",
    "print(dict2)\n",
    "\n",
    "# Example of an anonymous function\n",
    "\n",
    "double = lambda x: x * 2\n",
    "print(double(5))"
   ]
  },
  {
   "cell_type": "markdown",
   "metadata": {},
   "source": [
    "### Underscores in Python\n",
    "\n",
    "In Python, there is more than one way of using underscores. Each of these has a different meaning. \n",
    "\n",
    "1. Single Underscore\n",
    "    - A single underscore is used to indicate a private variable, method or class. It is a convention and does not actually make the variable private.\n",
    "2. Double Underscore\n",
    "    - A double underscore prefix causes the Python interpreter to rewrite the attribute name in order to avoid naming conflicts in subclasses. This is also called name mangling.\n",
    "3. Double Underscore and Double Underscore\n",
    "    - If a name starts and ends with double underscores, it is considered a magic method. "
   ]
  },
  {
   "cell_type": "code",
   "execution_count": 13,
   "metadata": {},
   "outputs": [
    {
     "name": "stdout",
     "output_type": "stream",
     "text": [
      "100000\n"
     ]
    }
   ],
   "source": [
    "class House:\n",
    "    def __init__(self, price):\n",
    "        self.price = price\n",
    "\n",
    "h1 = House(100000)\n",
    "h2 = House(150000)\n",
    "\n",
    "print(h1.price)"
   ]
  },
  {
   "cell_type": "markdown",
   "metadata": {},
   "source": [
    "### A Note on Indentation\n",
    "\n",
    "In Python, indentation is not just a matter of style or readability, it's a matter of syntax. Python uses indentation to define blocks of code. For example, the code within a function, loop, if statement, or class must be indented.\n",
    "\n",
    "Here is an example:"
   ]
  },
  {
   "cell_type": "code",
   "execution_count": null,
   "metadata": {},
   "outputs": [],
   "source": [
    "def greet(name):\n",
    "    print(f\"Hello, {name}!\")"
   ]
  },
  {
   "cell_type": "markdown",
   "metadata": {},
   "source": [
    "In this example, the `print` statement is indented to show that it's part of the `greet` function. If it wasn't indented, Python would raise a `IndentationError`.\n",
    "\n",
    "Python doesn't require a specific number of spaces for indentation, but the number of spaces must be consistent throughout your code. The official Python style guide (PEP 8) recommends using 4 spaces for each level of indentation.\n",
    "\n",
    "In many other programming languages, such as C++, Java, and JavaScript, indentation is used to improve readability, but it's not part of the syntax. These languages use braces `{}` to define blocks of code, and semicolons `;` to separate statements.\n",
    "\n",
    "Here's an example in JavaScript:\n",
    "\n",
    "```javascript\n",
    "function greet(name) {\n",
    "    console.log(`Hello, ${name}!`);\n",
    "}\n",
    "```\n",
    "\n",
    "In this example, the `console.log` statement is indented to show that it's part of the `greet` function, but it would still work if it wasn't indented. The braces `{}` show where the function starts and ends.\n",
    "\n",
    "Indentation in Python is a syntactic requirement and an integral part of the language. It enforces a clean and consistent coding style. In contrast, in many other languages, indentation is optional and used for readability. This difference makes Python unique and contributes to its reputation for readability and ease of learning."
   ]
  }
 ],
 "metadata": {
  "kernelspec": {
   "display_name": "base",
   "language": "python",
   "name": "python3"
  },
  "language_info": {
   "codemirror_mode": {
    "name": "ipython",
    "version": 3
   },
   "file_extension": ".py",
   "mimetype": "text/x-python",
   "name": "python",
   "nbconvert_exporter": "python",
   "pygments_lexer": "ipython3",
   "version": "3.12.2"
  }
 },
 "nbformat": 4,
 "nbformat_minor": 2
}
