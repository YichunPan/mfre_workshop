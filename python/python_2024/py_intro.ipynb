{
 "cells": [
  {
   "cell_type": "markdown",
   "metadata": {},
   "source": [
    "# Introduction in Python\n",
    "\n",
    "Python is a high-level, interpreted, interactive and object-oriented scripting language. Python is designed to be highly readable. It uses English keywords frequently where as other languages use punctuation, and it has fewer syntactical constructions than other languages.\n",
    "\n",
    "Now that you have gone through the basics of computer programming, let's dive deeper into Python and the the ways in which we can do things pythonically.\n",
    "\n",
    "## Table of Contents\n",
    "\n",
    "1. [Object Oriented Programming](#object-oriented-programming)\n",
    "2. [Pythonics](#pythonics)\n",
    "3. [Data Handling](#data-handling)\n",
    "4. [Machine Learning](#machine-learning)\n",
    "5. [Visualization](#visualization)\n",
    "6. [Application Programming Interface](#application-programming-interface)\n",
    "7. [Python Environments](#python-environments)\n",
    "8. [Code Segmentation](#code-segmentation)\n",
    "9. [Useful Plugins](#useful-plugins)\n",
    "10. [Dynamic Programming](#dynamic-programming)\n"
   ]
  },
  {
   "cell_type": "markdown",
   "metadata": {},
   "source": [
    "## Object Oriented Programming\n",
    "\n",
    "Object-oriented programming (OOP) is a programming paradigm based on the concept of \"objects\", which can contain data, in the form of fields (often known as attributes or properties), and code, in the form of procedures (often known as methods). For example, a car is an object which has certain properties such as color, model, and certain methods such as drive, stop, and so on.\n",
    "\n",
    "### Classes and Objects\n",
    "\n",
    "A class is a blueprint for the object. We can think of class as a sketch (prototype) of a house. It contains all the details about the floors, doors, windows etc. Based on these descriptions we build the house. House is the object. When we create an object of a class, we are creating an instance of the class. This process is known as instantiation."
   ]
  },
  {
   "cell_type": "code",
   "execution_count": 2,
   "metadata": {},
   "outputs": [
    {
     "name": "stdout",
     "output_type": "stream",
     "text": [
      "My dog's name is Willie.\n",
      "My dog is 6 years old.\n",
      "Willie is now sitting.\n",
      "Willie rolled over!\n"
     ]
    }
   ],
   "source": [
    "# Create a class \n",
    "\n",
    "class Dog:\n",
    "    def __init__(self, name, age):\n",
    "        self.name = name\n",
    "        self.age = age\n",
    "    def sit(self):\n",
    "        print(f\"{self.name} is now sitting.\")\n",
    "    def roll_over(self):\n",
    "        print(f\"{self.name} rolled over!\")\n",
    "\n",
    "my_dog = Dog('Willie', 6)\n",
    "print(f\"My dog's name is {my_dog.name}.\")\n",
    "print(f\"My dog is {my_dog.age} years old.\")\n",
    "\n",
    "my_dog.sit()\n",
    "my_dog.roll_over()"
   ]
  },
  {
   "cell_type": "markdown",
   "metadata": {},
   "source": [
    "### Important Concepts\n",
    "\n",
    "1. Inheritance\n",
    "    - Inheritance is a way of creating a new class for using details of an existing class without modifying it. The newly formed class is a derived class (or child class). Similarly, the existing class is a base class (or parent class). \n",
    "2. Encapsulation\n",
    "    - Encapsulation is an another mechanism to restrict direct access to some of the object's components. Encapsulation is implemented by using access specifiers. An access specifier defines the scope and visibility of a class member.\n",
    "3. Polymorphism\n",
    "    - Polymorphism is an ability (in OOP) to use a common interface for multiple forms (data types). It allows objects of different classes to be treated as objects of a common superclass.\n",
    "4. Abstraction\n",
    "    - Abstraction is the concept of object-oriented programming that \"shows\" only essential attributes and \"hides\" unnecessary information. The main purpose of abstraction is hiding the unnecessary details from the users."
   ]
  },
  {
   "cell_type": "code",
   "execution_count": 3,
   "metadata": {},
   "outputs": [
    {
     "name": "stdout",
     "output_type": "stream",
     "text": [
      "Willie is now searching.\n",
      "updating software\n",
      "driving\n",
      "Parrot can fly\n",
      "Penguin can't fly\n"
     ]
    }
   ],
   "source": [
    "# Example of inheritance\n",
    "\n",
    "class SARDog(Dog):\n",
    "    def __init__(self, name, age):\n",
    "        super().__init__(name, age)\n",
    "    def search(self):\n",
    "        print(f\"{self.name} is now searching.\")\n",
    "\n",
    "my_dog = SARDog('Willie', 6)\n",
    "\n",
    "my_dog.search()\n",
    "\n",
    "# Example of encapsulation\n",
    "\n",
    "class Car:\n",
    "    def __init__(self):\n",
    "        self.__updateSoftware()\n",
    "    def drive(self):\n",
    "        print('driving')\n",
    "    def __updateSoftware(self):\n",
    "        print('updating software')\n",
    "\n",
    "redcar = Car()\n",
    "redcar.drive()\n",
    "#redcar.__updateSoftware()  # not accesible from object\n",
    "\n",
    "# Example of polymorphism\n",
    "\n",
    "class Parrot:\n",
    "    def fly(self):\n",
    "        print(\"Parrot can fly\")\n",
    "    def swim(self):\n",
    "        print(\"Parrot can't swim\")\n",
    "\n",
    "class Penguin:\n",
    "    def fly(self):\n",
    "        print(\"Penguin can't fly\")\n",
    "    def swim(self):\n",
    "        print(\"Penguin can swim\")\n",
    "\n",
    "def flying_test(bird):\n",
    "    bird.fly()\n",
    "\n",
    "blu = Parrot()\n",
    "peggy = Penguin()\n",
    "\n",
    "flying_test(blu)\n",
    "flying_test(peggy)"
   ]
  },
  {
   "cell_type": "markdown",
   "metadata": {},
   "source": [
    "### Benefits of Object Oriented Programming\n",
    "\n",
    "1. **Modularity for easier troubleshooting**\n",
    "    - Something has gone wrong, and you have no idea where to look. Is the problem in the Widget, or is it the Wodget? If objects are well defined, you can more easily narrow down the problem to a particular object.\n",
    "2. **Reuse of code through inheritance**\n",
    "    - If an object already exists (perhaps written by someone else in your company), you can use that object in your program. And, if you have an object that almost does what you want but just needs a little extra functionality, you can create a new object based on the existing object.\n",
    "3. **Flexibility through polymorphism**\n",
    "    - If you have a bunch of objects that are all of the same class, but you want to iterate over them and call a particular method for each, polymorphism allows you to treat objects of different classes the same way if they contain a particular method.\n",
    "4. **Interface Descriptions**\n",
    "    - Objects can be described by the interfaces they support. If an object says it supports a particular interface, it means that the object has certain methods and properties. If an object says it supports a particular interface, it means that the object has certain methods and properties.\n",
    "\n",
    "Object Oriented Programming is a very important concept in Python. It is the foundation of many libraries and frameworks in Python. In order to better understand the concept of Object Oriented Programming, you can refer to the following resources:\n",
    "\n",
    "1. [Real Python](https://realpython.com/python3-object-oriented-programming/)\n",
    "2. [Geeks for Geeks](https://www.geeksforgeeks.org/object-oriented-programming-in-python-set-1-class-and-its-members/)\n",
    "3. [Programiz](https://www.programiz.com/python-programming/object-oriented-programming)  "
   ]
  },
  {
   "cell_type": "markdown",
   "metadata": {},
   "source": [
    "## Pythonics\n",
    "\n",
    "To clarify, Pythonics is a word I made up. But people often refer to best practices when writting code in Python as Pythonic. Python is a very versatile language. It is known for its simplicity and readability. There are certain ways in which we can write code in Python which are more efficient and readable. There are also certain attributes of Python which make it unique, which changes the way we write code in Python. \n",
    "\n",
    "### The Zen of Python\n",
    "\n",
    "The Zen of Python is a collection of 19 software principles that influences the design of Python Programming Language. It is written by Tim Peters. The Zen of Python is a collection of aphorisms that capture the guiding principles of Python's design. "
   ]
  },
  {
   "cell_type": "code",
   "execution_count": 1,
   "metadata": {},
   "outputs": [
    {
     "name": "stdout",
     "output_type": "stream",
     "text": [
      "The Zen of Python, by Tim Peters\n",
      "\n",
      "Beautiful is better than ugly.\n",
      "Explicit is better than implicit.\n",
      "Simple is better than complex.\n",
      "Complex is better than complicated.\n",
      "Flat is better than nested.\n",
      "Sparse is better than dense.\n",
      "Readability counts.\n",
      "Special cases aren't special enough to break the rules.\n",
      "Although practicality beats purity.\n",
      "Errors should never pass silently.\n",
      "Unless explicitly silenced.\n",
      "In the face of ambiguity, refuse the temptation to guess.\n",
      "There should be one-- and preferably only one --obvious way to do it.\n",
      "Although that way may not be obvious at first unless you're Dutch.\n",
      "Now is better than never.\n",
      "Although never is often better than *right* now.\n",
      "If the implementation is hard to explain, it's a bad idea.\n",
      "If the implementation is easy to explain, it may be a good idea.\n",
      "Namespaces are one honking great idea -- let's do more of those!\n"
     ]
    }
   ],
   "source": [
    "import this"
   ]
  },
  {
   "cell_type": "markdown",
   "metadata": {},
   "source": [
    "### Try and Except\n",
    "\n",
    "In Python, we can use try and except blocks to handle exceptions. This is a more efficient way of handling exceptions than using if-else blocks. "
   ]
  },
  {
   "cell_type": "code",
   "execution_count": 4,
   "metadata": {},
   "outputs": [
    {
     "name": "stdout",
     "output_type": "stream",
     "text": [
      "15\n"
     ]
    }
   ],
   "source": [
    "# Add all numbers in a list\n",
    "\n",
    "mis_list = ['teh', 'smae', 'htis', 'wrod']\n",
    "int_list = [1, 2, 3, 4, 5]\n",
    "g_list = ['apple', 'banana', 'cherry', 'date', 'elderberry']\n",
    "combo_list = mis_list + int_list + g_list\n",
    "\n",
    "def cum_sum(list):\n",
    "    sum = 0\n",
    "    for i in list:\n",
    "        try:\n",
    "            sum += i\n",
    "        except:\n",
    "            continue\n",
    "    return sum\n",
    "\n",
    "print(cum_sum(combo_list))"
   ]
  },
  {
   "cell_type": "markdown",
   "metadata": {},
   "source": [
    "### Value Swapping and Multiple Assignment\n",
    "\n",
    "In Python, we can swap the values of two variables without using a temporary variable. We can also assign multiple values to multiple variables in a single line."
   ]
  },
  {
   "cell_type": "code",
   "execution_count": 2,
   "metadata": {},
   "outputs": [
    {
     "name": "stdout",
     "output_type": "stream",
     "text": [
      "apple\n"
     ]
    }
   ],
   "source": [
    "fruits = ['apple', 'banana', 'cherry']\n",
    "f1, f2, f3 = fruits\n",
    "\n",
    "print(f1)"
   ]
  },
  {
   "cell_type": "markdown",
   "metadata": {},
   "source": [
    "### Passing Multiple Arguments\n",
    "\n",
    "In Python, we can pass multiple arguments to a function using the *args and **kwargs syntax. These will be unpacked into a tuple and a dictionary respectively. This also allows you to easily merge two dictionaries or lists. If you try to merge two lists by putting both variables in the list, it will create a list of lists, which is not what you want."
   ]
  },
  {
   "cell_type": "code",
   "execution_count": 4,
   "metadata": {},
   "outputs": [
    {
     "name": "stdout",
     "output_type": "stream",
     "text": [
      "[(1, 2), (3, 4), (5, 6), (1, 2), (3, 4), (5, 6)]\n",
      "[[(1, 2), (3, 4), (5, 6)], [(1, 2), (3, 4), (5, 6)]]\n",
      "{'a': 1, 'b': 2, 'c': 3, 'd': 4}\n"
     ]
    }
   ],
   "source": [
    "# Create a list of tuples\n",
    "\n",
    "list1 = [(1, 2), (3, 4), (5, 6)]\n",
    "list2 = [(1, 2), (3, 4), (5, 6)]\n",
    "long_list = [*list1, *list2]\n",
    "incorrect_list = [list1, list2]\n",
    "\n",
    "print(long_list)\n",
    "print(incorrect_list)\n",
    "\n",
    "# Create a list of dictionaries\n",
    "\n",
    "dict1 = {'a': 1, 'b': 2}\n",
    "dict2 = {'c': 3, 'd': 4}\n",
    "long_dict = {**dict1, **dict2}\n",
    "\n",
    "print(long_dict)"
   ]
  },
  {
   "cell_type": "markdown",
   "metadata": {},
   "source": [
    "### Comprehension\n",
    "\n",
    "List comprihension is a concise way to loop through all elements of a list and apply a function to them. The same effect can be achieved using a for loop, but list comprehension is more efficient and readable. \n",
    "\n",
    "Lambda functions are small anonymous functions. They can have any number of arguments but only one expression. They are used when you need a small function that you will only use once. While list comprehensions and lambda functions are very useful to clean up your code, they can also make your code less readable. So don't force their usage if it makes your code less readable."
   ]
  },
  {
   "cell_type": "code",
   "execution_count": 5,
   "metadata": {},
   "outputs": [
    {
     "name": "stdout",
     "output_type": "stream",
     "text": [
      "[1, 4, 9, 16, 25]\n",
      "[1, 4, 9, 16, 25]\n",
      "{'a': 1, 'b': 4, 'c': 9, 'd': 16}\n",
      "10\n"
     ]
    }
   ],
   "source": [
    "# Example of list comprehension\n",
    "\n",
    "list1 = [1, 2, 3, 4, 5]\n",
    "list2 = [x**2 for x in list1]\n",
    "result = []\n",
    "for x in list1:\n",
    "    result.append(x**2)\n",
    "\n",
    "print(list2)\n",
    "print(result) # Same result\n",
    "\n",
    "# Example of dictionary comprehension\n",
    "\n",
    "dict1 = {'a': 1, 'b': 2, 'c': 3, 'd': 4}\n",
    "dict2 = {k:v**2 for (k, v) in dict1.items()}\n",
    "print(dict2)\n",
    "\n",
    "# Example of an anonymous function\n",
    "\n",
    "double = lambda x: x * 2\n",
    "print(double(5))"
   ]
  },
  {
   "cell_type": "markdown",
   "metadata": {},
   "source": [
    "### Underscores in Python\n",
    "\n",
    "In Python, there is more than one way of using underscores. Each of these has a different meaning. \n",
    "\n",
    "1. Single Underscore\n",
    "    - A single underscore is used to indicate a private variable, method or class. It is a convention and does not actually make the variable private.\n",
    "2. Double Underscore\n",
    "    - A double underscore prefix causes the Python interpreter to rewrite the attribute name in order to avoid naming conflicts in subclasses. This is also called name mangling.\n",
    "3. Double Underscore and Double Underscore\n",
    "    - If a name starts and ends with double underscores, it is considered a magic method. "
   ]
  },
  {
   "cell_type": "code",
   "execution_count": 13,
   "metadata": {},
   "outputs": [
    {
     "name": "stdout",
     "output_type": "stream",
     "text": [
      "100000\n"
     ]
    }
   ],
   "source": [
    "class House:\n",
    "    def __init__(self, price):\n",
    "        self.price = price\n",
    "\n",
    "h1 = House(100000)\n",
    "h2 = House(150000)\n",
    "\n",
    "print(h1.price)"
   ]
  },
  {
   "cell_type": "markdown",
   "metadata": {},
   "source": [
    "### A Note on Indentation\n",
    "\n",
    "In Python, indentation is not just a matter of style or readability, it's a matter of syntax. Python uses indentation to define blocks of code. For example, the code within a function, loop, if statement, or class must be indented.\n",
    "\n",
    "Here is an example:"
   ]
  },
  {
   "cell_type": "code",
   "execution_count": null,
   "metadata": {},
   "outputs": [],
   "source": [
    "def greet(name):\n",
    "    print(f\"Hello, {name}!\")"
   ]
  },
  {
   "cell_type": "markdown",
   "metadata": {},
   "source": [
    "In this example, the `print` statement is indented to show that it's part of the `greet` function. If it wasn't indented, Python would raise a `IndentationError`.\n",
    "\n",
    "Python doesn't require a specific number of spaces for indentation, but the number of spaces must be consistent throughout your code. The official Python style guide (PEP 8) recommends using 4 spaces for each level of indentation.\n",
    "\n",
    "In many other programming languages, such as C++, Java, and JavaScript, indentation is used to improve readability, but it's not part of the syntax. These languages use braces `{}` to define blocks of code, and semicolons `;` to separate statements.\n",
    "\n",
    "Here's an example in JavaScript:\n",
    "\n",
    "```javascript\n",
    "function greet(name) {\n",
    "    console.log(`Hello, ${name}!`);\n",
    "}\n",
    "```\n",
    "\n",
    "In this example, the `console.log` statement is indented to show that it's part of the `greet` function, but it would still work if it wasn't indented. The braces `{}` show where the function starts and ends.\n",
    "\n",
    "Indentation in Python is a syntactic requirement and an integral part of the language. It enforces a clean and consistent coding style. In contrast, in many other languages, indentation is optional and used for readability. This difference makes Python unique and contributes to its reputation for readability and ease of learning."
   ]
  },
  {
   "cell_type": "markdown",
   "metadata": {},
   "source": [
    "## Data Handling\n",
    "\n",
    "Data handling is an important aspect of programming. In Python, we can handle data in many ways. We can use lists, tuples, dictionaries, sets, and many other data structures to store and manipulate data. We can also use libraries such as NumPy, Pandas, and Matplotlib to handle data more efficiently.\n",
    "\n",
    "### Built in Data Structures\n",
    "\n",
    "1. Lists\n",
    "    - A list is a collection which is ordered and changeable. In Python lists are written with square brackets.\n",
    "2. Tuples\n",
    "    - A tuple is a collection which is ordered and unchangeable. In Python tuples are written with round brackets.\n",
    "3. Sets\n",
    "    - A set is a collection which is unordered and unindexed. In Python sets are written with curly brackets.\n",
    "4. Dictionaries\n",
    "    - A dictionary is a collection which is unordered, changeable and indexed. In Python dictionaries are written with curly brackets, and they have keys and values.\n",
    "\n",
    "In my personal experience, you're going to be using lists and dictionaries the most. Lists are used to store multiple items in a single variable. Dictionaries are used to store key-value pairs.\n",
    "\n",
    "You would use a list when you have a collection of items that you want to keep in order. For example, you might use a list to store the names of all the students in a class. You would use a dictionary when you have a collection of items that you want to access by a unique key. For example, you might use a dictionary to store the email addresses of all the students in a class, with the student names as the keys.\n",
    "\n",
    "You can nest lists and dictionaries inside each other to create more complex data structures. For example, you might use a list of dictionaries to store information about a collection of students, with each dictionary representing a student. You can similarly nest lists within dictionaries and lists within lists and dictionaries within dictionaries.\n",
    "\n",
    "You may be tempted to always use dictionaries as they are more flexible than lists, but remember that lists are more efficient for storing ordered collections of items. As a rule of thumb, use lists when you need to keep items in order, and use dictionaries when you need to access items by a unique key.\n",
    "\n",
    "One reason you may want to use a list over a dictionary is if you need to access items by their index. Lists are ordered collections, so you can access items by their index. Dictionaries are unordered collections, so you can't access items by their index.\n",
    "\n",
    "One way you can use a dictionary to store items in order is to use a dictionary with integer keys. For example, you could use a dictionary with integer keys to store the names of all the students in a class, with the student names as the values and the student IDs as the keys. This way, you can access the student names by their student IDs. This way you can take advantage of the flexibility of dictionaries while still keeping items in order to enable indexing. Let's take a look at how this may be implemented:"
   ]
  },
  {
   "cell_type": "code",
   "execution_count": 19,
   "metadata": {},
   "outputs": [
    {
     "name": "stdout",
     "output_type": "stream",
     "text": [
      "[{'name': 'John', 'age': 15, 'gender': 'M'}, {'name': 'Mary', 'age': 16, 'gender': 'F'}, {'name': 'Mike', 'age': 17, 'gender': 'M'}, {'name': 'Jane', 'age': 18, 'gender': 'F'}]\n",
      "First student: {'name': 'Jane', 'age': 18, 'gender': 'F', 'student_number': 1}\n",
      "Male student above 16: {'name': 'Mike', 'age': 17, 'gender': 'M', 'student_number': 4}\n",
      "First two students: [{'name': 'Jane', 'age': 18, 'gender': 'F', 'student_number': 1}, {'name': 'John', 'age': 15, 'gender': 'M', 'student_number': 2}]\n"
     ]
    }
   ],
   "source": [
    "# List of student names, ages, and gender\n",
    "students = ['John', 'Mary', 'Mike', 'Jane']\n",
    "ages = [15, 16, 17, 18]\n",
    "gender = ['M', 'F', 'M', 'F']\n",
    "\n",
    "# Create a dictionary of students\n",
    "student_list = [{'name': student, 'age': age, 'gender': gen} for student, age, gen in zip(students, ages, gender)]\n",
    "print(student_list)\n",
    "\n",
    "# Order by name in ascending order\n",
    "student_list.sort(key=lambda x: x['name'])\n",
    "\n",
    "# Assign a student number based on the order of the list\n",
    "for i, student in enumerate(student_list):\n",
    "    student['student_number'] = i + 1\n",
    "\n",
    "print(f\"First student: {student_list[0]}\")\n",
    "\n",
    "# Print all male students who are above 16 years old\n",
    "for student in student_list:\n",
    "    if student['gender'] == 'M' and student['age'] > 16:\n",
    "        print(f\"Male student above 16: {student}\")\n",
    "\n",
    "# Slice the list to get the first two students\n",
    "first_two_students = student_list[:2]\n",
    "print(f\"First two students: {first_two_students}\")"
   ]
  },
  {
   "cell_type": "markdown",
   "metadata": {},
   "source": [
    "### NumPy\n",
    "\n",
    "NumPy is a library for the Python programming language, adding support for large, multi-dimensional arrays and matrices, along with a large collection of high-level mathematical functions to operate on these arrays. Like all data structures in Python, NumPy arrays are zero-indexed, meaning that the first element is at index 0, the second element is at index 1, and so on.\n",
    "\n",
    "You can also combine NumPy arrays with other NumPy arrays, or with Python lists, tuples, or dictionaries. This can be useful if you need to combine data from different sources, or if you need to perform operations on multiple arrays at once.\n",
    "\n",
    "Aside from when you need to perform matrix operations, you may also want to use NumPy arrays when you need to perform operations on large datasets. NumPy arrays are more efficient than Python lists for performing operations on large datasets, because NumPy arrays are implemented in C, which is a faster language than Python.\n",
    "\n",
    "When trying to perform mathmatical operations on elements in a list, you would have to loop through each element in the list and perform the operation on each element. This can be slow for large datasets. NumPy arrays allow you to perform operations on all elements in the array at once, which is much faster than looping through each element."
   ]
  },
  {
   "cell_type": "code",
   "execution_count": 13,
   "metadata": {},
   "outputs": [
    {
     "name": "stdout",
     "output_type": "stream",
     "text": [
      "[1, 2, 3, 4, 5, 1, 2, 3, 4, 5, 1, 2, 3, 4, 5, 1, 2, 3, 4, 5, 1, 2, 3, 4, 5, 1, 2, 3, 4, 5, 1, 2, 3, 4, 5, 1, 2, 3, 4, 5, 1, 2, 3, 4, 5, 1, 2, 3, 4, 5]\n",
      "Time taken to multiply each element in a list by 2: 0.2880246639251709\n",
      "Time taken to multiply each element in a numpy array by 2: 0.017303943634033203\n"
     ]
    }
   ],
   "source": [
    "# What happens when you try to apply a mathmatical operator directly to a list\n",
    "list1 = [1, 2, 3, 4, 5]\n",
    "list1 = list1 * 10\n",
    "print(list1)\n",
    "\n",
    "# Comparison between numpy and python lists\n",
    "import numpy as np\n",
    "import time\n",
    "\n",
    "# Create a list of 10 million elements\n",
    "list1 = list(range(10000000))\n",
    "list2 = list(range(10000000))\n",
    "\n",
    "# Create a numpy array of 10 million elements\n",
    "array1 = np.array(list1)\n",
    "array2 = np.array(list2)\n",
    "\n",
    "# Multiply each element in the list by 2\n",
    "start = time.time()\n",
    "list1 = [x * 2 for x in list1]\n",
    "end = time.time()\n",
    "print(f\"Time taken to multiply each element in a list by 2: {end - start}\")\n",
    "\n",
    "# Multiply each element in the numpy array by 2\n",
    "start = time.time()\n",
    "array1 = array1 * 2\n",
    "end = time.time()\n",
    "print(f\"Time taken to multiply each element in a numpy array by 2: {end - start}\")"
   ]
  },
  {
   "cell_type": "markdown",
   "metadata": {},
   "source": [
    "At risk of turning this into a math camp, here's just a quick reminder matrix multiplication. When you multiply two matrices, the number of columns in the first matrix must be equal to the number of rows in the second matrix. The resulting matrix will have the same number of rows as the first matrix and the same number of columns as the second matrix. The elements of the resulting matrix are calculated by taking the dot product of the corresponding rows and columns of the two matrices. This is reffered to as the dot product.\n",
    "\n",
    "There are two ways you can multiply matrices in NumPy. You can use the `np.dot()` function, or you can use the `@` operator. The `np.dot()` function is more flexible, as it allows you to multiply arrays of different shapes. The `@` operator is more concise, as it allows you to multiply arrays with a single character. \n",
    "\n",
    "If you want to multiply two matrices element-wise, you can use the `*` operator. This will multiply the corresponding elements of the two matrices. This is different from matrix multiplication, which multiplies the corresponding rows and columns of the two matrices. \n",
    "\n",
    "You can also apply exponentiation to a NumPy array using the `**` operator. This will raise each element of the array to the power of the exponent. This can also be done with the `np.power()` function.\n",
    "\n",
    "In order to perform a cholesky decomposition on a matrix, you can use the `np.linalg.cholesky()` function. This will return the lower triangular matrix of the cholesky decomposition. If teh matrix is not positive definite, the function will raise a `LinAlgError`.\n",
    "\n",
    "You can also apply a function to each element of a NumPy array using the `np.vectorize()` function. This will return a new array with the same shape as the original array, where each element is the result of applying the function to the corresponding element of the original array. This can be useful if you need to apply a function to each element of an array, but the function is not vectorized. This will be equivalent to using a for loop to apply the function to each element of the array."
   ]
  },
  {
   "cell_type": "code",
   "execution_count": 16,
   "metadata": {},
   "outputs": [
    {
     "name": "stdout",
     "output_type": "stream",
     "text": [
      "130\n",
      "[ 6 14 24 36 50]\n",
      "[ 1  4  9 16 25]\n",
      "[ 1  4  9 16 25]\n"
     ]
    }
   ],
   "source": [
    "array1 = np.array([1, 2, 3, 4, 5])\n",
    "array2 = np.array([6, 7, 8, 9, 10])\n",
    "\n",
    "# Dot product of two arrays\n",
    "dot_product = np.dot(array1, array2)\n",
    "print(dot_product)\n",
    "\n",
    "# Element wise multiplication of two arrays\n",
    "element_wise = array1 * array2\n",
    "print(element_wise)\n",
    "\n",
    "# Exponential of each element in the array\n",
    "exponential = np.power(array1, 2)\n",
    "print(exponential)\n",
    "\n",
    "# Apply a function to each element in the array\n",
    "def func(x):\n",
    "    return x**2\n",
    "\n",
    "result = np.vectorize(func)(array1)\n",
    "print(result)"
   ]
  },
  {
   "cell_type": "markdown",
   "metadata": {},
   "source": [
    "### Pandas\n",
    "\n",
    "Pandas is a fast, powerful, flexible and easy to use open source data analysis and data manipulation library built on top of the Python programming language. It is used in a variety of fields, including data analysis, data visualization, and machine learning. Pandas is built on top of NumPy, so it is compatible with NumPy arrays.\n",
    "\n",
    "Pandas provides two main data structures for working with data: Series and DataFrame. A Series is a one-dimensional array-like object that can hold any data type. A DataFrame is a two-dimensional tabular data structure that can hold multiple Series objects. You can think of a DataFrame as a table, where each row is a Series and each column is a column in the table.\n",
    "\n",
    "You can create a Series object by passing a list, tuple, or dictionary to the Series constructor. You can create a DataFrame object by passing a dictionary of Series objects to the DataFrame constructor. You can also create a DataFrame object by passing a list of dictionaries to the DataFrame constructor. This will create a DataFrame where each dictionary is a row in the table.\n",
    "\n",
    "You can access elements in a Series object by passing an index to the Series object. You can access elements in a DataFrame object by passing a column name to the DataFrame object. You can also access elements in a DataFrame object by passing a row index and a column name to the DataFrame object. You can also access elements in a DataFrame object by passing a row index to the DataFrame object. This will return a Series object containing the row at the specified index.\n",
    "\n",
    "I won't be able to cover all the functionality of Pandas in this introduction, but I will cover some of the most important features. You can use the `head()` method to view the first few rows of a DataFrame. You can use the `tail()` method to view the last few rows of a DataFrame. You can use the `info()` method to view information about a DataFrame, including the data types of each column and the number of non-null values in each column. You can use the `describe()` method to view summary statistics about a DataFrame, including the mean, standard deviation, minimum, maximum, and quartiles of each column.\n",
    "\n",
    "You can read up on the documentation for Pandas [here](https://pandas.pydata.org/docs/)."
   ]
  },
  {
   "cell_type": "code",
   "execution_count": 24,
   "metadata": {},
   "outputs": [
    {
     "name": "stdout",
     "output_type": "stream",
     "text": [
      "<class 'pandas.core.frame.DataFrame'>\n",
      "RangeIndex: 1000 entries, 0 to 999\n",
      "Data columns (total 2 columns):\n",
      " #   Column  Non-Null Count  Dtype  \n",
      "---  ------  --------------  -----  \n",
      " 0   A       1000 non-null   float64\n",
      " 1   B       1000 non-null   float64\n",
      "dtypes: float64(2)\n",
      "memory usage: 15.8 KB\n"
     ]
    },
    {
     "data": {
      "text/html": [
       "<div>\n",
       "<style scoped>\n",
       "    .dataframe tbody tr th:only-of-type {\n",
       "        vertical-align: middle;\n",
       "    }\n",
       "\n",
       "    .dataframe tbody tr th {\n",
       "        vertical-align: top;\n",
       "    }\n",
       "\n",
       "    .dataframe thead th {\n",
       "        text-align: right;\n",
       "    }\n",
       "</style>\n",
       "<table border=\"1\" class=\"dataframe\">\n",
       "  <thead>\n",
       "    <tr style=\"text-align: right;\">\n",
       "      <th></th>\n",
       "      <th>A</th>\n",
       "      <th>B</th>\n",
       "    </tr>\n",
       "  </thead>\n",
       "  <tbody>\n",
       "    <tr>\n",
       "      <th>count</th>\n",
       "      <td>1000.000000</td>\n",
       "      <td>1000.000000</td>\n",
       "    </tr>\n",
       "    <tr>\n",
       "      <th>mean</th>\n",
       "      <td>0.017515</td>\n",
       "      <td>0.031041</td>\n",
       "    </tr>\n",
       "    <tr>\n",
       "      <th>std</th>\n",
       "      <td>1.027986</td>\n",
       "      <td>1.008806</td>\n",
       "    </tr>\n",
       "    <tr>\n",
       "      <th>min</th>\n",
       "      <td>-3.381307</td>\n",
       "      <td>-3.312436</td>\n",
       "    </tr>\n",
       "    <tr>\n",
       "      <th>25%</th>\n",
       "      <td>-0.690083</td>\n",
       "      <td>-0.692161</td>\n",
       "    </tr>\n",
       "    <tr>\n",
       "      <th>50%</th>\n",
       "      <td>0.040617</td>\n",
       "      <td>0.014371</td>\n",
       "    </tr>\n",
       "    <tr>\n",
       "      <th>75%</th>\n",
       "      <td>0.729588</td>\n",
       "      <td>0.751258</td>\n",
       "    </tr>\n",
       "    <tr>\n",
       "      <th>max</th>\n",
       "      <td>2.938077</td>\n",
       "      <td>3.862477</td>\n",
       "    </tr>\n",
       "  </tbody>\n",
       "</table>\n",
       "</div>"
      ],
      "text/plain": [
       "                 A            B\n",
       "count  1000.000000  1000.000000\n",
       "mean      0.017515     0.031041\n",
       "std       1.027986     1.008806\n",
       "min      -3.381307    -3.312436\n",
       "25%      -0.690083    -0.692161\n",
       "50%       0.040617     0.014371\n",
       "75%       0.729588     0.751258\n",
       "max       2.938077     3.862477"
      ]
     },
     "execution_count": 24,
     "metadata": {},
     "output_type": "execute_result"
    }
   ],
   "source": [
    "import pandas as pd\n",
    "import random\n",
    "\n",
    "# Generate some random normal data \n",
    "data = {'A': [random.normalvariate(0, 1) for _ in range(1000)], 'B': [random.normalvariate(0, 1) for _ in range(1000)]}\n",
    "\n",
    "# Create a pandas dataframe\n",
    "df = pd.DataFrame(data)\n",
    "\n",
    "# Print the first 5 rows of the dataframe\n",
    "df.head()\n",
    "\n",
    "# Print the last 5 rows of the dataframe\n",
    "df.tail()\n",
    "\n",
    "df.info()\n",
    "df.describe()\n"
   ]
  },
  {
   "cell_type": "markdown",
   "metadata": {},
   "source": [
    "Indexing and slicing in Pandas is a bit different from NumPy. In NumPy, you can use integer indices to access elements in an array. In Pandas, you can use column names to access elements in a DataFrame. You can also use row indices to access rows in a DataFrame. You can use the `loc[]` method to access rows by label, and the `iloc[]` method to access rows by integer index. You can use the `loc[]` method to access columns by label, and the `iloc[]` method to access columns by integer index.\n",
    "\n",
    "Indexing is unavoidable in the dataframe I gave you, but in general you should avoid using integer indices to access elements in a DataFrame. This is because integer indices can be ambiguous, especially if the DataFrame has been sorted or filtered. It is better to use column names to access elements in a DataFrame, as this is more explicit and less error-prone.\n",
    "\n",
    "But let's say you are given a dataframe with well defined columns and rows, you can access elements by either using the `loc[]` method or by directly accessing the element using the column name and row index. You can also apply functions to each element in a DataFrame using the `apply()` method. "
   ]
  },
  {
   "cell_type": "code",
   "execution_count": 23,
   "metadata": {},
   "outputs": [
    {
     "data": {
      "text/html": [
       "<div>\n",
       "<style scoped>\n",
       "    .dataframe tbody tr th:only-of-type {\n",
       "        vertical-align: middle;\n",
       "    }\n",
       "\n",
       "    .dataframe tbody tr th {\n",
       "        vertical-align: top;\n",
       "    }\n",
       "\n",
       "    .dataframe thead th {\n",
       "        text-align: right;\n",
       "    }\n",
       "</style>\n",
       "<table border=\"1\" class=\"dataframe\">\n",
       "  <thead>\n",
       "    <tr style=\"text-align: right;\">\n",
       "      <th></th>\n",
       "      <th>name</th>\n",
       "      <th>age</th>\n",
       "      <th>gender</th>\n",
       "      <th>vowel_count</th>\n",
       "    </tr>\n",
       "    <tr>\n",
       "      <th>student_number</th>\n",
       "      <th></th>\n",
       "      <th></th>\n",
       "      <th></th>\n",
       "      <th></th>\n",
       "    </tr>\n",
       "  </thead>\n",
       "  <tbody>\n",
       "    <tr>\n",
       "      <th>1</th>\n",
       "      <td>Jane</td>\n",
       "      <td>18</td>\n",
       "      <td>F</td>\n",
       "      <td>NaN</td>\n",
       "    </tr>\n",
       "    <tr>\n",
       "      <th>2</th>\n",
       "      <td>John</td>\n",
       "      <td>15</td>\n",
       "      <td>M</td>\n",
       "      <td>1.0</td>\n",
       "    </tr>\n",
       "    <tr>\n",
       "      <th>3</th>\n",
       "      <td>Mary</td>\n",
       "      <td>16</td>\n",
       "      <td>F</td>\n",
       "      <td>NaN</td>\n",
       "    </tr>\n",
       "    <tr>\n",
       "      <th>4</th>\n",
       "      <td>Mike</td>\n",
       "      <td>17</td>\n",
       "      <td>M</td>\n",
       "      <td>2.0</td>\n",
       "    </tr>\n",
       "  </tbody>\n",
       "</table>\n",
       "</div>"
      ],
      "text/plain": [
       "                name  age gender  vowel_count\n",
       "student_number                               \n",
       "1               Jane   18      F          NaN\n",
       "2               John   15      M          1.0\n",
       "3               Mary   16      F          NaN\n",
       "4               Mike   17      M          2.0"
      ]
     },
     "execution_count": 23,
     "metadata": {},
     "output_type": "execute_result"
    }
   ],
   "source": [
    "# Let's reuse the student list from earlier\n",
    "student_df = pd.DataFrame(student_list)\n",
    "\n",
    "# Set the index of the dataframe to the student number\n",
    "student_df.set_index('student_number', inplace=True)\n",
    "student_df.head()\n",
    "\n",
    "# For students with an even student number, count the number of vowels in their name\n",
    "def count_vowels(name):\n",
    "    vowels = 'aeiou'\n",
    "    return sum([1 for char in name if char.lower() in vowels])\n",
    "\n",
    "student_df.loc[student_df.index % 2 == 0, 'vowel_count'] = student_df.loc[student_df.index % 2 == 0, 'name'].apply(count_vowels)\n",
    "student_df.head()"
   ]
  },
  {
   "cell_type": "markdown",
   "metadata": {},
   "source": [
    "### Statsmodels\n",
    "\n",
    "Statsmodels is a Python module that provides classes and functions for the estimation of many different statistical models, as well as for conducting statistical tests, and statistical data exploration. An extensive list of result statistics are available for each estimator. The results are tested against existing statistical packages to ensure that they are correct.\n",
    "\n",
    "Statsmodels is built on top of NumPy and Pandas, so it is compatible with NumPy arrays and Pandas DataFrames. Statsmodels provides classes and functions for estimating many different statistical models, including linear regression, logistic regression, and time series models. Statsmodels also provides classes and functions for conducting statistical tests, including hypothesis tests and goodness-of-fit tests.\n",
    "\n",
    "You can use the `OLS()` function to estimate a linear regression model. You can use the `fit()` method to fit the model to the data. You can use the `summary()` method to view the results of the model. You can use the `predict()` method to make predictions with the model. You can use the `t_test()` method to conduct a t-test on the coefficients of the model. You can use the `f_test()` method to conduct an F-test on the coefficients of the model.\n",
    "\n",
    "I will not be able to cover all the functionality of Statsmodels because that would require me to cover all the different statistical models that Statsmodels provides. But for the purposes for this demonstration, I will only cover linear regression. You can read up on the documentation for Statsmodels [here](https://www.statsmodels.org/stable/index.html)."
   ]
  },
  {
   "cell_type": "code",
   "execution_count": 29,
   "metadata": {},
   "outputs": [
    {
     "data": {
      "text/html": [
       "<table class=\"simpletable\">\n",
       "<caption>OLS Regression Results</caption>\n",
       "<tr>\n",
       "  <th>Dep. Variable:</th>    <td>disease_progression</td> <th>  R-squared:         </th> <td>   0.035</td>\n",
       "</tr>\n",
       "<tr>\n",
       "  <th>Model:</th>                    <td>OLS</td>         <th>  Adj. R-squared:    </th> <td>   0.033</td>\n",
       "</tr>\n",
       "<tr>\n",
       "  <th>Method:</th>              <td>Least Squares</td>    <th>  F-statistic:       </th> <td>   16.10</td>\n",
       "</tr>\n",
       "<tr>\n",
       "  <th>Date:</th>              <td>Tue, 04 Jun 2024</td>   <th>  Prob (F-statistic):</th> <td>7.06e-05</td>\n",
       "</tr>\n",
       "<tr>\n",
       "  <th>Time:</th>                  <td>01:18:54</td>       <th>  Log-Likelihood:    </th> <td> -2539.2</td>\n",
       "</tr>\n",
       "<tr>\n",
       "  <th>No. Observations:</th>       <td>   442</td>        <th>  AIC:               </th> <td>   5082.</td>\n",
       "</tr>\n",
       "<tr>\n",
       "  <th>Df Residuals:</th>           <td>   440</td>        <th>  BIC:               </th> <td>   5091.</td>\n",
       "</tr>\n",
       "<tr>\n",
       "  <th>Df Model:</th>               <td>     1</td>        <th>                     </th>     <td> </td>   \n",
       "</tr>\n",
       "<tr>\n",
       "  <th>Covariance Type:</th>       <td>nonrobust</td>      <th>                     </th>     <td> </td>   \n",
       "</tr>\n",
       "</table>\n",
       "<table class=\"simpletable\">\n",
       "<tr>\n",
       "    <td></td>       <th>coef</th>     <th>std err</th>      <th>t</th>      <th>P>|t|</th>  <th>[0.025</th>    <th>0.975]</th>  \n",
       "</tr>\n",
       "<tr>\n",
       "  <th>const</th> <td>  152.1335</td> <td>    3.606</td> <td>   42.192</td> <td> 0.000</td> <td>  145.047</td> <td>  159.220</td>\n",
       "</tr>\n",
       "<tr>\n",
       "  <th>age</th>   <td>  304.1831</td> <td>   75.806</td> <td>    4.013</td> <td> 0.000</td> <td>  155.196</td> <td>  453.170</td>\n",
       "</tr>\n",
       "</table>\n",
       "<table class=\"simpletable\">\n",
       "<tr>\n",
       "  <th>Omnibus:</th>       <td>52.996</td> <th>  Durbin-Watson:     </th> <td>   1.921</td>\n",
       "</tr>\n",
       "<tr>\n",
       "  <th>Prob(Omnibus):</th> <td> 0.000</td> <th>  Jarque-Bera (JB):  </th> <td>  26.909</td>\n",
       "</tr>\n",
       "<tr>\n",
       "  <th>Skew:</th>          <td> 0.438</td> <th>  Prob(JB):          </th> <td>1.43e-06</td>\n",
       "</tr>\n",
       "<tr>\n",
       "  <th>Kurtosis:</th>      <td> 2.167</td> <th>  Cond. No.          </th> <td>    21.0</td>\n",
       "</tr>\n",
       "</table><br/><br/>Notes:<br/>[1] Standard Errors assume that the covariance matrix of the errors is correctly specified."
      ],
      "text/latex": [
       "\\begin{center}\n",
       "\\begin{tabular}{lclc}\n",
       "\\toprule\n",
       "\\textbf{Dep. Variable:}    & disease\\_progression & \\textbf{  R-squared:         } &     0.035   \\\\\n",
       "\\textbf{Model:}            &         OLS          & \\textbf{  Adj. R-squared:    } &     0.033   \\\\\n",
       "\\textbf{Method:}           &    Least Squares     & \\textbf{  F-statistic:       } &     16.10   \\\\\n",
       "\\textbf{Date:}             &   Tue, 04 Jun 2024   & \\textbf{  Prob (F-statistic):} &  7.06e-05   \\\\\n",
       "\\textbf{Time:}             &       01:18:54       & \\textbf{  Log-Likelihood:    } &   -2539.2   \\\\\n",
       "\\textbf{No. Observations:} &           442        & \\textbf{  AIC:               } &     5082.   \\\\\n",
       "\\textbf{Df Residuals:}     &           440        & \\textbf{  BIC:               } &     5091.   \\\\\n",
       "\\textbf{Df Model:}         &             1        & \\textbf{                     } &             \\\\\n",
       "\\textbf{Covariance Type:}  &      nonrobust       & \\textbf{                     } &             \\\\\n",
       "\\bottomrule\n",
       "\\end{tabular}\n",
       "\\begin{tabular}{lcccccc}\n",
       "               & \\textbf{coef} & \\textbf{std err} & \\textbf{t} & \\textbf{P$> |$t$|$} & \\textbf{[0.025} & \\textbf{0.975]}  \\\\\n",
       "\\midrule\n",
       "\\textbf{const} &     152.1335  &        3.606     &    42.192  &         0.000        &      145.047    &      159.220     \\\\\n",
       "\\textbf{age}   &     304.1831  &       75.806     &     4.013  &         0.000        &      155.196    &      453.170     \\\\\n",
       "\\bottomrule\n",
       "\\end{tabular}\n",
       "\\begin{tabular}{lclc}\n",
       "\\textbf{Omnibus:}       & 52.996 & \\textbf{  Durbin-Watson:     } &    1.921  \\\\\n",
       "\\textbf{Prob(Omnibus):} &  0.000 & \\textbf{  Jarque-Bera (JB):  } &   26.909  \\\\\n",
       "\\textbf{Skew:}          &  0.438 & \\textbf{  Prob(JB):          } & 1.43e-06  \\\\\n",
       "\\textbf{Kurtosis:}      &  2.167 & \\textbf{  Cond. No.          } &     21.0  \\\\\n",
       "\\bottomrule\n",
       "\\end{tabular}\n",
       "%\\caption{OLS Regression Results}\n",
       "\\end{center}\n",
       "\n",
       "Notes: \\newline\n",
       " [1] Standard Errors assume that the covariance matrix of the errors is correctly specified."
      ],
      "text/plain": [
       "<class 'statsmodels.iolib.summary.Summary'>\n",
       "\"\"\"\n",
       "                             OLS Regression Results                            \n",
       "===============================================================================\n",
       "Dep. Variable:     disease_progression   R-squared:                       0.035\n",
       "Model:                             OLS   Adj. R-squared:                  0.033\n",
       "Method:                  Least Squares   F-statistic:                     16.10\n",
       "Date:                 Tue, 04 Jun 2024   Prob (F-statistic):           7.06e-05\n",
       "Time:                         01:18:54   Log-Likelihood:                -2539.2\n",
       "No. Observations:                  442   AIC:                             5082.\n",
       "Df Residuals:                      440   BIC:                             5091.\n",
       "Df Model:                            1                                         \n",
       "Covariance Type:             nonrobust                                         \n",
       "==============================================================================\n",
       "                 coef    std err          t      P>|t|      [0.025      0.975]\n",
       "------------------------------------------------------------------------------\n",
       "const        152.1335      3.606     42.192      0.000     145.047     159.220\n",
       "age          304.1831     75.806      4.013      0.000     155.196     453.170\n",
       "==============================================================================\n",
       "Omnibus:                       52.996   Durbin-Watson:                   1.921\n",
       "Prob(Omnibus):                  0.000   Jarque-Bera (JB):               26.909\n",
       "Skew:                           0.438   Prob(JB):                     1.43e-06\n",
       "Kurtosis:                       2.167   Cond. No.                         21.0\n",
       "==============================================================================\n",
       "\n",
       "Notes:\n",
       "[1] Standard Errors assume that the covariance matrix of the errors is correctly specified.\n",
       "\"\"\""
      ]
     },
     "execution_count": 29,
     "metadata": {},
     "output_type": "execute_result"
    }
   ],
   "source": [
    "from sklearn.datasets import load_diabetes\n",
    "import pandas as pd\n",
    "import statsmodels.api as sm\n",
    "\n",
    "# Load the 'diabetes' dataset\n",
    "diabetes = load_diabetes()\n",
    "\n",
    "# Create a DataFrame with the feature data\n",
    "df = pd.DataFrame(diabetes.data, columns=diabetes.feature_names)\n",
    "\n",
    "# Add the target variable to the DataFrame\n",
    "df['disease_progression'] = diabetes.target\n",
    "\n",
    "# Print the first few rows of the DataFrame\n",
    "df.head()\n",
    "\n",
    "# Perform ols for age on disease progression\n",
    "X = df['age']\n",
    "y = df['disease_progression']\n",
    "\n",
    "X = sm.add_constant(X)\n",
    "model = sm.OLS(y, X).fit()\n",
    "model.summary()\n"
   ]
  },
  {
   "cell_type": "markdown",
   "metadata": {},
   "source": [
    "## Machine Learning\n",
    "\n",
    "Machine learning is a field of artificial intelligence that uses statistical techniques to give computer systems the ability to \"learn\" (i.e., progressively improve performance on a specific task) from data, without being explicitly programmed. Machine learning is a subset of artificial intelligence. It is based on the idea that systems can learn from data, identify patterns and make decisions with minimal human intervention.\n",
    "\n",
    "### Brief Overview of Algorithms\n",
    "\n",
    "1. Linear Regression\n",
    "    - Linear regression is a linear approach to modeling the relationship between a dependent variable and one or more independent variables. In linear regression, the dependent variable is a continuous variable, while the independent variables can be continuous or categorical variables. The goal of linear regression is to find the best-fitting line through the data, which minimizes the sum of the squared differences between the observed values and the predicted values.\n",
    "2. Logistic Regression\n",
    "    - Logistic regression is a statistical model that is used to predict the probability of a binary outcome based on one or more independent variables. In logistic regression, the dependent variable is a binary variable, while the independent variables can be continuous or categorical variables. The goal of logistic regression is to find the best-fitting line through the data, which minimizes the sum of the squared differences between the observed values and the predicted values.\n",
    "3. Decision Trees\n",
    "    - Decision trees are a type of supervised learning algorithm that is used for classification and regression tasks. A decision tree is a tree-like structure that is made up of nodes and branches. Each node represents a decision point, and each branch represents a possible outcome of that decision. The goal of a decision tree is to split the data into subsets that are as homogeneous as possible with respect to the target variable.\n",
    "4. Random Forest\n",
    "    - Random forests are an ensemble learning method that is used for classification and regression tasks. An ensemble learning method is a method that combines the predictions of multiple models to improve the overall performance of the model. Random forests are made up of multiple decision trees, each of which is trained on a random subset of the data. The predictions of the individual decision trees are then combined to make the final prediction.\n",
    "5. Support Vector Machines\n",
    "    - Support vector machines are a type of supervised learning algorithm that is used for classification and regression tasks. Support vector machines work by finding the hyperplane that best separates the data into two classes. The hyperplane is the line that maximizes the margin between the two classes. The goal of support vector machines is to find the hyperplane that best separates the data into two classes, while minimizing the classification error.\n",
    "6. K-Nearest Neighbors\n",
    "    - K-nearest neighbors is a type of supervised learning algorithm that is used for classification and regression tasks. K-nearest neighbors works by finding the k-nearest neighbors of a data point, and then using the majority class of the k-nearest neighbors to make a prediction. The value of k is a hyperparameter that can be tuned to improve the performance of the model.\n",
    "7. K-Means Clustering\n",
    "    - K-means clustering is a type of unsupervised learning algorithm that is used for clustering tasks. K-means clustering works by finding the k clusters that best separate the data into groups. The value of k is a hyperparameter that can be tuned to improve the performance of the model. The goal of k-means clustering is to find the k clusters that best separate the data into groups, while minimizing the within-cluster variance. \n",
    "\n",
    "### Scikit-learn\n",
    "\n",
    "Scikit-learn is a free software machine learning library for the Python programming language. It features various classification, regression and clustering algorithms including support vector machines, random forests, gradient boosting, k-means and DBSCAN, and is designed to interoperate with the Python numerical and scientific libraries NumPy and SciPy.\n",
    "\n",
    "Scikit-learn provides classes and functions for estimating many different machine learning models, including classification models, regression models, and clustering models. Scikit-learn also provides classes and functions for evaluating the performance of machine learning models, including cross-validation, grid search, and model selection.\n",
    "\n",
    "You can use the `fit()` method to fit a machine learning model to the data. You can use the `predict()` method to make predictions with the model. You can use the `score()` method to evaluate the performance of the model. You can use the `cross_val_score()` function to evaluate the performance of the model using cross-validation. You can use the `GridSearchCV()` class to perform grid search on the hyperparameters of the model.\n",
    "\n",
    "I will not be able to cover all the functionality of Scikit-learn because that would require me to cover all the different machine learning models that Scikit-learn provides. But for the purposes for this demonstration, I will only cover linear regression. You can read up on the documentation for Scikit-learn [here](https://scikit-learn.org/stable/index.html)."
   ]
  },
  {
   "cell_type": "code",
   "execution_count": null,
   "metadata": {},
   "outputs": [],
   "source": [
    "# K means clustering\n",
    "from sklearn.cluster import KMeans\n",
    "import numpy as np\n",
    "\n",
    "# Create some random data\n",
    "data = np.random.rand(100, 2)\n",
    "\n",
    "# Create a KMeans object\n",
    "kmeans = KMeans(n_clusters=3)\n",
    "\n",
    "# Fit the KMeans object to the data\n",
    "kmeans.fit(data)\n",
    "\n",
    "# Get the cluster centers\n",
    "cluster_centers = kmeans.cluster_centers_\n",
    "\n",
    "# Get the cluster labels\n",
    "cluster_labels = kmeans.labels_\n",
    "\n",
    "# Print the cluster centers\n",
    "print(cluster_centers)\n",
    "\n",
    "# Print the cluster labels\n",
    "print(cluster_labels)\n",
    "\n",
    "# Create a scatter plot of the data\n",
    "import matplotlib.pyplot as plt\n",
    "\n",
    "plt.scatter(data[:, 0], data[:, 1], c=cluster_labels, cmap='viridis')\n",
    "plt.scatter(cluster_centers[:, 0], cluster_centers[:, 1], c='red', s=100, alpha=0.5)\n",
    "plt.show()"
   ]
  }
 ],
 "metadata": {
  "kernelspec": {
   "display_name": "base",
   "language": "python",
   "name": "python3"
  },
  "language_info": {
   "codemirror_mode": {
    "name": "ipython",
    "version": 3
   },
   "file_extension": ".py",
   "mimetype": "text/x-python",
   "name": "python",
   "nbconvert_exporter": "python",
   "pygments_lexer": "ipython3",
   "version": "3.12.2"
  }
 },
 "nbformat": 4,
 "nbformat_minor": 2
}
