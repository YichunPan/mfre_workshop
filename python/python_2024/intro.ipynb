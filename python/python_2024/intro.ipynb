{
 "cells": [
  {
   "cell_type": "markdown",
   "metadata": {},
   "source": [
    "# MFRE Coding Workshop 2024\n",
    "\n",
    "Throughout the next week, we will be undergoing a crash course on the basics of computer science with a focus on applications in data manipulation and analysis. The course will be mostly taught in Python, a versatile and powerful programming language that is widely used in data science, machine learning, and scientific computing. \n",
    "\n",
    "Past the half way mark, we will be switching to R, another popular language for data analysis and visualization. While the syntax and structure of R is different from Python, the concepts and principles we have learned will still apply. And if I did my job right, you should be able to think about implementing code in R, even if it takes a bit of time to get used to the new language.\n",
    "\n",
    "You all should have recieved a recommndation early on to take CS50, a free online course offered by Harvard University. If you haven't already, I highly recommend you take the course as it will provide a solid foundation in computer science and programming.\n",
    "\n",
    "This workshop is meant to cover the very basics of that course, enough for you to be able to understand and implement code in Python and R while also extending your knowledge to more advanced topics in data manipulation and analysis.\n",
    "\n",
    "This notebook is meant to cover the basic concpets of programming and while it is written as a Jupyter notebook, the conepts should be applicable in any programming language.\n",
    "\n",
    "## Table of Contents\n",
    "1. [Functions](#functions)\n",
    "2. [Variables](#variables)\n",
    "3. [Data Types](#data-types)\n",
    "4. [Control Structures](#control-structures)\n",
    "5. [Operators and Abstraction](#operators-and-abstraction)\n",
    "6. [Excersises](#excersises)"
   ]
  },
  {
   "cell_type": "markdown",
   "metadata": {},
   "source": [
    "## Functions\n",
    "\n",
    "Most langauges have a concept of functions, which are blocks of code that are designed to do one job. Functions are used to organize code and make it more readable and reusable. In Python, functions are defined using the `def` keyword followed by the function name and a set of parentheses. The function body is indented and can contain any number of statements. \n",
    "\n",
    "Before we dive into creating our own functions let's look at some built-in functions in Python."
   ]
  },
  {
   "cell_type": "code",
   "execution_count": 1,
   "metadata": {},
   "outputs": [
    {
     "name": "stdout",
     "output_type": "stream",
     "text": [
      "Hello, World!\n"
     ]
    }
   ],
   "source": [
    "print(\"Hello, World!\")"
   ]
  },
  {
   "cell_type": "markdown",
   "metadata": {},
   "source": [
    "The `print()` function is used to display output to the console. It can take any number of arguments and will print them to the console separated by a space. Let's say you want to print strings on different lines, you can add a newline character `\\n` to the end of the string to specify a new line."
   ]
  },
  {
   "cell_type": "code",
   "execution_count": 2,
   "metadata": {},
   "outputs": [
    {
     "name": "stdout",
     "output_type": "stream",
     "text": [
      "This is the first line.\n",
      "\n",
      "This is the second line.\n"
     ]
    }
   ],
   "source": [
    "print(\"This is the first line.\\n\")\n",
    "print(\"This is the second line.\")"
   ]
  },
  {
   "cell_type": "markdown",
   "metadata": {},
   "source": [
    "While the `print()` function may seem basic, it is a powerful tool for debugging and understanding how your code is running. It is a good idea to use `print()` statements to check the values of variables and the flow of your code."
   ]
  },
  {
   "cell_type": "markdown",
   "metadata": {},
   "source": [
    "## Variables\n",
    "\n",
    "Variables are used to store data in a program. They are like containers that hold values. In Python, variables are created by assigning a value to a name. The name of the variable can be anything you want, but it should be descriptive of the data it holds. Variable names can contain letters, numbers, and underscores, but they cannot start with a number.\n",
    "\n",
    "While it may be tempting to use single letter variable names, it is a good idea to use descriptive names that indicate what the variable is used for. This will make your code more readable and easier to understand.\n",
    "\n",
    "Here are some common naming conventions for variables:\n",
    "\n",
    "1. **CamelCase**: The first letter of each word is capitalized except for the first word, e.g., `myVariableName`.\n",
    "2. **snake_case**: Words are separated by underscores, e.g., `my_variable_name`.\n",
    "3. **PascalCase**: The first letter of each word is capitalized, e.g., `MyVariableName`.\n",
    "\n",
    "Descriptive variable names become espeecially important when you are working on large projects with many variables. It is a good idea to use names that are meaningful and indicate what the variable is used for.\n",
    "\n",
    "Let's go back to the `print()` function and see how we can use variables to store data and pass it to the function."
   ]
  },
  {
   "cell_type": "code",
   "execution_count": 4,
   "metadata": {},
   "outputs": [
    {
     "name": "stdout",
     "output_type": "stream",
     "text": [
      "10\n",
      "10\n"
     ]
    }
   ],
   "source": [
    "random_number = 10\n",
    "\n",
    "print(random_number)\n",
    "print(10)"
   ]
  },
  {
   "cell_type": "markdown",
   "metadata": {},
   "source": [
    "As illustrated above, the print function can directly take an arguement and print it to teh console, but we can also store the value in a variable and pass the variable to the function. This is useful when we want to reuse the value in multiple places or when we want to perform operations on the value before passing it to the function.\n",
    "\n",
    "We can even combine the two use cases by printing what's called a formatted string. A formatted string is a string that contains placeholders for variables that will be replaced with the actual values when the string is printed. Formatted strings are created by prefixing the string with an `f` and placing the variables inside curly braces `{}`. The variables are replaced with their values when the string is printed.\n",
    "\n",
    "We can also append the value of a variable to a string using the `+` operator. This is called string concatenation and is a useful way to build strings from multiple parts."
   ]
  },
  {
   "cell_type": "code",
   "execution_count": 8,
   "metadata": {},
   "outputs": [
    {
     "name": "stdout",
     "output_type": "stream",
     "text": [
      "This is the value of random_number: 10. We like this number.\n",
      "This is the value of random_number: 10. We like this number.\n"
     ]
    }
   ],
   "source": [
    "print(f\"This is the value of random_number: {random_number}. We like this number.\")\n",
    "print(\"This is the value of random_number: \" + str(random_number) + \". We like this number.\")"
   ]
  },
  {
   "cell_type": "markdown",
   "metadata": {},
   "source": [
    "## Data Types\n",
    "\n",
    "Each language has a set of data types that are used to represent different kinds of data. Python has several built-in data types that are commonly used in programming. Here are some of the most common data types in Python:\n",
    "\n",
    "1. **int**: Integer values, e.g., `42`.\n",
    "2. **float**: Floating-point values, e.g., `3.14`.\n",
    "3. **str**: String values, e.g., `'hello'`.\n",
    "4. **bool**: Boolean values, e.g., `True` or `False`.\n",
    "5. **list**: Ordered collection of values, e.g., `[1, 2, 3]`.\n",
    "6. **tuple**: Ordered, immutable collection of values, e.g., `(1, 2, 3)`.\n",
    "7. **dict**: Unordered collection of key-value pairs, e.g., `{'name': 'Alice', 'age': 42}`.\n",
    "8. **set**: Unordered collection of unique values, e.g., `{1, 2, 3}`.\n",
    "\n",
    "Each data type has its own set of operations and methods that can be used to manipulate the data. For example, you can perform arithmetic operations on integers and floating-point values, but not on strings. Similarly, you can access elements in a list using an index, but not in a dictionary. Understanding the different data types and how to work with them is an important part of programming.\n",
    "\n",
    "Some data types can be converted to other data types using built-in functions. For example, you can convert an integer to a float using the `float()` function, or a float to an integer using the `int()` function. You can also convert a string to an integer or float if the string contains a valid representation of a number.\n",
    "\n",
    "It is important to be aware of the data types you are working with and how they interact with each other. Mixing data types can lead to unexpected results and errors in your code."
   ]
  },
  {
   "cell_type": "code",
   "execution_count": 11,
   "metadata": {},
   "outputs": [
    {
     "name": "stdout",
     "output_type": "stream",
     "text": [
      "20.0\n",
      "20\n",
      "1010\n",
      "unsupported operand type(s) for +: 'int' and 'str'\n"
     ]
    }
   ],
   "source": [
    "random_int = 10\n",
    "random_float = 10.0\n",
    "random_string = \"10\"\n",
    "\n",
    "print(random_int + random_float)\n",
    "print(random_int + int(random_string))\n",
    "print(str(random_int) + random_string)\n",
    "\n",
    "try:\n",
    "    print(random_int + random_string)\n",
    "except Exception as e:\n",
    "    print(e)"
   ]
  },
  {
   "cell_type": "markdown",
   "metadata": {},
   "source": [
    "When we try to add an integer to a float, Python will automatically convert the integer to a float and perform the addition. This is an example of type coercion, where Python automatically converts one data type to another to perform an operation. Type coercion can be useful in some cases, but it can also lead to unexpected results if you are not aware of how Python handles data types.\n",
    "\n",
    "We may get around this by converting the float to an integer before performing the addition. This is called type casting, where we explicitly convert a value from one data type to another. Type casting can be useful when you want to ensure that the data types are compatible before performing an operation.\n",
    "\n",
    "Not all data types can be converted to each other. For example, you cannot convert a string to a list or a dictionary directly. You will need to use other methods to convert the data to the desired format.\n",
    "\n",
    "If we try to convert a string that does not contain a valid representation of a number to an integer or float, Python will raise a `ValueError` indicating that the conversion is not possible. It is important to handle errors like this in your code to prevent it from crashing when unexpected input is provided.\n",
    "\n",
    "Lists are soemtimes referred to as arrays in other languages. They are ordered collections of values that can be accessed by an index. Lists can contain values of different data types and can be modified after they are created. Lists are mutable, which means that you can change the values in a list after it is created.\n",
    "\n",
    "Lists can be created using square brackets `[]` and values separated by commas. You can access elements in a list using an index, which is the position of the element in the list. Indexing in Python starts at 0, so the first element in a list has an index of 0, the second element has an index of 1, and so on.\n",
    "\n",
    "You can also use negative indices to access elements from the end of the list. For example, `-1` refers to the last element in the list, `-2` refers to the second-to-last element, and so on.\n",
    "\n",
    "Lists can be modified using methods like `append()`, `insert()`, `remove()`, and `pop()`. These methods allow you to add, insert, remove, and retrieve elements from a list. You can also use slicing to access a subset of elements from a list. Slicing is done using the colon `:` operator and allows you to specify a start index, end index, and step size.\n",
    "\n",
    "Lists are a versatile data type that can be used to store collections of values of any data type. They are commonly used in Python for tasks like storing data, iterating over elements, and manipulating sequences of values.\n",
    "\n",
    "Dictionaries are another common data type in Python that are used to store key-value pairs. Dictionaries are unordered collections of key-value pairs, where each key is associated with a value. Dictionaries can contain values of different data types and can be modified after they are created. Dictionaries are mutable, which means that you can change the values associated with a key after the dictionary is created.\n",
    "\n",
    "Dictionaries can be created using curly braces `{}` and key-value pairs separated by colons `:`. You can access values in a dictionary using the key, which is a unique identifier for the value. If you try to access a key that does not exist in the dictionary, Python will raise a `KeyError` indicating that the key is not found.\n",
    "\n",
    "You can modify a dictionary by adding, updating, or removing key-value pairs. You can also use methods like `keys()`, `values()`, and `items()` to access the keys, values, and key-value pairs in a dictionary. Dictionaries are a powerful data type that can be used to store and manipulate structured data in Python."
   ]
  },
  {
   "cell_type": "code",
   "execution_count": 12,
   "metadata": {},
   "outputs": [
    {
     "name": "stdout",
     "output_type": "stream",
     "text": [
      "['Alice', 'Bob', 'Charlie', 'David', 'Eve']\n",
      "Alice\n",
      "['Alice', 'Bob', 'Charlie', 'David', 'Eve', 'Frank']\n",
      "['Alice', 'Bob', 'Charlie', 'Eve', 'Frank']\n"
     ]
    }
   ],
   "source": [
    "names_list = [\"Alice\", \"Bob\", \"Charlie\", \"David\", \"Eve\"]\n",
    "print(names_list)\n",
    "\n",
    "print(names_list[0])\n",
    "\n",
    "names_list.append(\"Frank\")\n",
    "print(names_list)\n",
    "\n",
    "names_list.remove(\"David\")\n",
    "print(names_list)"
   ]
  },
  {
   "cell_type": "code",
   "execution_count": 14,
   "metadata": {},
   "outputs": [
    {
     "name": "stdout",
     "output_type": "stream",
     "text": [
      "{'Alice': 100, 'Bob': 200, 'Charlie': 300, 'David': 400, 'Eve': 500}\n",
      "100\n"
     ]
    }
   ],
   "source": [
    "salary_dict = { \"Alice\": 100, \"Bob\": 200, \"Charlie\": 300, \"David\": 400, \"Eve\": 500 }\n",
    "\n",
    "print(salary_dict)\n",
    "\n",
    "print(salary_dict[\"Alice\"])"
   ]
  },
  {
   "cell_type": "markdown",
   "metadata": {},
   "source": [
    "### Data Structures\n",
    "\n",
    "Like in most languages, Python has a way for you to create your own data structure. Data structures are a way of organizing and storing data in a computer so that it can be accessed and modified efficiently. In Python, these are called classes and they allow you to define the structure and behavior of objects in your program. Classes are a fundamental concept in object-oriented programming, which is a programming paradigm that focuses on objects and their interactions.\n",
    "\n",
    "Classes are defined using the `class` keyword followed by the class name and a set of parentheses. The class body is indented and can contain attributes and methods. Attributes are variables that store data, while methods are functions that perform operations on the data. When you create an object from a class, it is called an instance of the class. You can create multiple instances of a class, each with its own set of attributes and methods. Objects can interact with each other by calling methods and accessing attributes.\n",
    "\n",
    "Classes can also inherit from other classes, which allows you to reuse code and create a hierarchy of classes. When a class inherits from another class, it inherits its attributes and methods, and can also define its own attributes and methods. This is called inheritance and is a powerful feature of object-oriented programming.\n",
    "\n",
    "Classes are a powerful tool for organizing and structuring code. They allow you to create objects that represent real-world entities and define their behavior in a structured way. Classes are used in many Python libraries and frameworks to create complex data structures and systems."
   ]
  },
  {
   "cell_type": "code",
   "execution_count": 1,
   "metadata": {},
   "outputs": [
    {
     "name": "stdout",
     "output_type": "stream",
     "text": [
      "This person's name is Alice and they are 20 years old.\n",
      "This person's name is Alice Smith and they are 21 years old.\n"
     ]
    }
   ],
   "source": [
    "# How to create a class\n",
    "\n",
    "class Person:\n",
    "    def __init__(self, name, age):\n",
    "        self.name = name\n",
    "        self.age = age\n",
    "\n",
    "    def get_name(self):\n",
    "        return self.name\n",
    "\n",
    "    def get_age(self):\n",
    "        return self.age\n",
    "    \n",
    "    def set_name(self, name):\n",
    "        self.name = name\n",
    "\n",
    "    def set_age(self, age):\n",
    "        self.age = age\n",
    "\n",
    "alice = Person(\"Alice\", 20)\n",
    "\n",
    "print(f\"This person's name is {alice.get_name()} and they are {alice.get_age()} years old.\")\n",
    "\n",
    "alice.set_name(\"Alice Smith\")\n",
    "alice.set_age(21)\n",
    "\n",
    "print(f\"This person's name is {alice.get_name()} and they are {alice.get_age()} years old.\")"
   ]
  },
  {
   "cell_type": "markdown",
   "metadata": {},
   "source": [
    "For those of you wondering, Python classes don't just allow you to implement data structures, they also allow you to implement algorithms or functions. This is because classes can contain methods that perform operations on the data stored in the class. You can define methods that implement algorithms like sorting, searching, and graph traversal, and use them to manipulate the data in the class. More on this in the dedicated Python section."
   ]
  },
  {
   "cell_type": "markdown",
   "metadata": {},
   "source": [
    "## Control Structures\n",
    "\n",
    "Control structures are used to control the flow of a program. They allow you to make decisions, repeat code, and perform different actions based on conditions. There are three main types of control structures in Python:\n",
    "\n",
    "1. **if statements**: Used to make decisions based on conditions.\n",
    "2. **for loops**: Used to repeat code a specific number of times.\n",
    "3. **while loops**: Used to repeat code as long as a condition is true.\n",
    "\n",
    "If statements are used to make decisions based on conditions. An if statement consists of a condition followed by an indented block of code that is executed if the condition is true. You can also use else and elif (short for else if) statements to execute code when the condition is false or to check additional conditions.\n",
    "\n",
    "For loops are used to repeat code a specific number of times. A for loop consists of an iterable object followed by an indented block of code that is executed for each element in the iterable. You can use the range() function to generate a sequence of numbers that can be used in a for loop.\n",
    "\n",
    "While loops are used to repeat code as long as a condition is true. A while loop consists of a condition followed by an indented block of code that is executed as long as the condition is true. You can use while loops to repeat code until a specific condition is met.\n",
    "\n",
    "Control structures are an important part of programming and allow you to create complex programs that can make decisions, repeat code, and perform different actions based on conditions.\n",
    "\n",
    "### Conditionals\n",
    "\n",
    "Conditionals are used to make decisions in a program. They allow you to execute different blocks of code based on whether a condition is true or false. Conditionals are often used in conjunction with control structures like if statements to control the flow of a program.\n",
    "\n",
    "In Python, conditionals are created using comparison operators like `==`, `!=`, `<`, `>`, `<=`, and `>=`. These operators compare two values and return a boolean value indicating whether the comparison is true or false. You can use these operators to compare numbers, strings, and other data types in Python.\n",
    "\n",
    "You can also use logical operators like `and`, `or`, and `not` to combine multiple conditions in a conditional statement. These operators allow you to create more complex conditions that depend on multiple values.\n",
    "\n",
    "Conditionals are an important part of programming and allow you to create programs that can make decisions based on input and perform different actions based on the conditions that are met.\n",
    "\n",
    "### Asci Art\n",
    "\n",
    "ASCII art is a way of creating pictures using characters from the ASCII character set. ASCII art has been around since the early days of computing and is still used today in various forms. ASCII art can be created by hand or using specialized software that converts images into ASCII characters.\n",
    "\n",
    "FOr our purposes, we will be using this to create simple shapes and patterns using ASCII characters. This is a fun way to practice your programming skills and create interesting visual effects in the console.\n",
    "\n",
    "Let's say we want to create a column of stars that is 10 rows long. We can use a for loop to repeat the star character 10 times and print it to the console. This will create a column of stars that is 10 rows long."
   ]
  },
  {
   "cell_type": "code",
   "execution_count": 19,
   "metadata": {},
   "outputs": [
    {
     "name": "stdout",
     "output_type": "stream",
     "text": [
      "##########\n",
      "##########\n",
      "##########\n",
      "##########\n",
      "##########\n",
      "##########\n",
      "##########\n",
      "##########\n",
      "##########\n",
      "##########\n"
     ]
    }
   ],
   "source": [
    "for i in range(10):\n",
    "    for j in range(10):\n",
    "        print(\"#\", end=\"\")\n",
    "    print()"
   ]
  },
  {
   "cell_type": "markdown",
   "metadata": {},
   "source": [
    "Instead of a 10x10 square, we can create a triangle pattern using nested loops. We can use two for loops to create a triangle pattern that is 10 rows high. The outer loop will iterate over the rows of the triangle, and the inner loop will iterate over the columns of each row. By adjusting the range of the inner loop, we can create a triangle pattern that is 10 rows high."
   ]
  },
  {
   "cell_type": "code",
   "execution_count": 21,
   "metadata": {},
   "outputs": [
    {
     "name": "stdout",
     "output_type": "stream",
     "text": [
      "\n",
      "#\n",
      "##\n",
      "###\n",
      "####\n",
      "#####\n",
      "######\n",
      "#######\n",
      "########\n",
      "#########\n",
      "\n",
      "##########\n",
      "#########\n",
      "########\n",
      "#######\n",
      "######\n",
      "#####\n",
      "####\n",
      "###\n",
      "##\n",
      "#\n"
     ]
    }
   ],
   "source": [
    "for i in range(10):\n",
    "    for j in range(i):\n",
    "        print(\"#\", end=\"\")\n",
    "    print()\n",
    "\n",
    "print()\n",
    "\n",
    "# Now let's invert the triangle\n",
    "for i in range(10):\n",
    "    for j in range(10 - i):\n",
    "        print(\"#\", end=\"\")\n",
    "    print()"
   ]
  },
  {
   "cell_type": "markdown",
   "metadata": {},
   "source": [
    "Now let's try something a bit more complex. Let's say that instead of a triangle, we want to create a pyramid. We can use a combination of for loops and conditionals to create a diamond pattern that is 10 rows high. The diamond pattern requires us to calculate the number of spaces and stars in each row based on the row number. We can use the formula `spaces = height - row` and `hashes = 2 * row - 1` to calculate the number of spaces and stars in each row. By adjusting the range of the for loops and using conditionals to determine when to print spaces and stars, we can create a diamond pattern that is 10 rows high."
   ]
  },
  {
   "cell_type": "code",
   "execution_count": 3,
   "metadata": {},
   "outputs": [
    {
     "name": "stdout",
     "output_type": "stream",
     "text": [
      "          \n",
      "         #\n",
      "        ###\n",
      "       #####\n",
      "      #######\n",
      "     #########\n",
      "    ###########\n",
      "   #############\n",
      "  ###############\n",
      " #################\n"
     ]
    }
   ],
   "source": [
    "# Now let's print a diamond\n",
    "for i in range(10):\n",
    "    for j in range(10 - i):\n",
    "        print(\" \", end=\"\")\n",
    "    for j in range(2* i - 1):\n",
    "        print(\"#\", end=\"\")\n",
    "    print()"
   ]
  },
  {
   "cell_type": "markdown",
   "metadata": {},
   "source": [
    "### Recursion\n",
    "\n",
    "The Asci Art example above is meant for you to think about how to take simple tools and create more complex patterns. This is a good example of how recursion can be used to solve complex problems by breaking them down into smaller, more manageable subproblems.\n",
    "\n",
    "Recursion is a programming technique where a function calls itself to solve a problem. Recursion is a powerful tool that can be used to solve complex problems by breaking them down into smaller, more manageable subproblems. Recursion is often used in algorithms and data structures to solve problems like tree traversal, graph traversal, and sorting.\n",
    "\n",
    "Recursion consists of two main parts: the base case and the recursive case. The base case is the simplest form of the problem that can be solved directly without recursion. The recursive case is the more complex form of the problem that can be solved by breaking it down into smaller subproblems and solving them recursively.\n",
    "\n",
    "When writing recursive functions, it is important to define the base case to prevent the function from calling itself indefinitely. If the base case is not defined, the function will continue to call itself until it runs out of memory and crashes the program.\n",
    "\n",
    "Recursion is a powerful tool that can be used to solve complex problems by breaking them down into smaller, more manageable subproblems. It is an important concept in computer science and is used in many algorithms and data structures to solve problems efficiently."
   ]
  },
  {
   "cell_type": "code",
   "execution_count": 22,
   "metadata": {},
   "outputs": [
    {
     "name": "stdout",
     "output_type": "stream",
     "text": [
      "120\n"
     ]
    }
   ],
   "source": [
    "def factorial(n):\n",
    "    if n == 0:\n",
    "        return 1\n",
    "    return n * factorial(n - 1)\n",
    "\n",
    "print(factorial(5))"
   ]
  },
  {
   "cell_type": "markdown",
   "metadata": {},
   "source": [
    "Let's think about how the factorial function works. The factorial of a number is the product of all positive integers less than or equal to that number. For example, the factorial of 5 is 5 * 4 * 3 * 2 * 1 = 120. We can calculate the factorial of a number using a recursive function that calls itself to calculate the factorial of the number minus one.\n",
    "\n",
    "When we call the factorial function with a number, it will call itself with the number minus one until it reaches the base case of 1. At that point, the function will return 1 and the recursive calls will unwind, multiplying the result of each call to calculate the factorial of the original number.\n",
    "\n",
    "You have to be careful with recursion, not just because it can be complex to debug but also because of how it handles memory. Each recursive call creates a new stack frame on the call stack, which can lead to a stack overflow if too many recursive calls are made. It is important to define the base case and ensure that the recursive calls eventually reach the base case to prevent the function from calling itself indefinitely."
   ]
  },
  {
   "cell_type": "markdown",
   "metadata": {},
   "source": [
    "### Stack vs Heap\n",
    "\n",
    "When you create a variable in a program, it is stored in memory in one of two places: the stack or the heap. The stack is used for static memory allocation, while the heap is used for dynamic memory allocation. Understanding the difference between the stack and the heap is important for writing efficient and bug-free code.\n",
    "\n",
    "The stack is a region of memory that is used for static memory allocation. When a function is called, a block of memory is allocated on the stack to store the function's arguments, return address, and local variables. The stack is a LIFO (last in, first out) data structure, which means that the last item added to the stack is the first item removed.\n",
    "\n",
    "The stack is fast and efficient because memory is allocated and deallocated in a strict order. When a function returns, the memory allocated for the function is automatically deallocated, which prevents memory leaks and makes the stack a reliable way to manage memory.\n",
    "\n",
    "The heap is a region of memory that is used for dynamic memory allocation. When you create a variable on the heap, memory is allocated from a pool of memory that is managed by the operating system. The heap is a more flexible way to manage memory because you can allocate and deallocate memory at any time.\n",
    "\n",
    "The heap is slower than the stack because memory allocation and deallocation are not as efficient. When you allocate memory on the heap, the operating system has to search for a block of memory that is large enough to hold the data. When you deallocate memory on the heap, the memory is not automatically freed, which can lead to memory leaks if you forget to free the memory."
   ]
  },
  {
   "cell_type": "markdown",
   "metadata": {},
   "source": [
    "### Space Complexity\n",
    "\n",
    "Space complexity is a measure of how much memory an algorithm uses to solve a problem. Space complexity is an important consideration when designing algorithms because it determines how much memory is required to run the algorithm and how efficiently the algorithm uses memory.\n",
    "\n",
    "Space complexity is typically measured in terms of the amount of memory used by the algorithm as a function of the input size. For example, an algorithm that uses a fixed amount of memory regardless of the input size has a space complexity of O(1), while an algorithm that uses memory proportional to the input size has a space complexity of O(n).\n",
    "\n",
    "Space complexity is an important consideration when designing algorithms because it determines how much memory is required to run the algorithm and how efficiently the algorithm uses memory. Algorithms with high space complexity can be inefficient and lead to memory leaks, while algorithms with low space complexity are more efficient and use memory more effectively."
   ]
  },
  {
   "cell_type": "markdown",
   "metadata": {},
   "source": [
    "## Big O Notation\n",
    "\n",
    "Big O notation is a mathematical notation that describes the limiting behavior of a function when the argument tends towards a particular value or infinity. It is commonly used in computer science to analyze the time and space complexity of algorithms and data structures.\n",
    "\n",
    "Big O notation is used to classify algorithms according to their performance characteristics. It provides an upper bound on the growth rate of a function and allows us to compare the efficiency of different algorithms. The notation is based on the worst-case scenario, which is the maximum amount of time or space an algorithm will take to complete.\n",
    "\n",
    "There are several common time complexities that are used to classify algorithms:\n",
    "\n",
    "1. **O(1)**: Constant time complexity. The algorithm takes the same amount of time to complete regardless of the input size.\n",
    "2. **O(log n)**: Logarithmic time complexity. The algorithm's running time grows logarithmically with the input size.\n",
    "3. **O(n)**: Linear time complexity. The algorithm's running time grows linearly with the input size.\n",
    "4. **O(n log n)**: Linearithmic time complexity. The algorithm's running time grows linearithmically with the input size.\n",
    "5. **O(n^2)**: Quadratic time complexity. The algorithm's running time grows quadratically with the input size.\n",
    "6. **O(2^n)**: Exponential time complexity. The algorithm's running time grows exponentially with the input size.\n",
    "7. **O(n!)**: Factorial time complexity. The algorithm's running time grows factorially with the input size.\n",
    "\n",
    "Big O notation is a powerful tool that allows us to analyze the performance of algorithms and data structures and make informed decisions about which ones to use in different situations. By understanding the time and space complexity of algorithms, we can write more efficient code and build faster and more scalable systems.\n",
    "\n",
    "### Linear Search\n",
    "\n",
    "Linear search is a simple search algorithm that checks each element in a list sequentially until the target element is found. It is also known as a sequential search and is one of the simplest search algorithms to implement. Linear search has a time complexity of O(n) in the worst-case scenario, where n is the number of elements in the list.\n",
    "\n",
    "Linear search is useful for searching unsorted lists or small lists where the overhead of sorting the list is not justified. It is also useful for searching lists where the elements are not ordered in any particular way.\n",
    "\n",
    "To implement linear search, we can use a for loop to iterate over the elements in the list and compare each element to the target element. If the element matches the target, we return the index of the element. If the loop completes without finding the target, we return -1 to indicate that the target is not in the list.\n",
    "\n",
    "Linear search is a simple and intuitive search algorithm that is easy to implement and understand. While it is not the most efficient search algorithm, it is useful in situations where the list is small or unsorted.\n",
    "\n",
    "### Binary Search\n",
    "\n",
    "Binary search is a search algorithm that finds the position of a target value within a sorted array. It works by repeatedly dividing the array in half and comparing the target value to the middle element of the array. If the target value is equal to the middle element, the position of the target is found. If the target value is less than the middle element, the search continues in the lower half of the array. If the target value is greater than the middle element, the search continues in the upper half of the array. Binary search has a time complexity of O(log n) in the worst-case scenario, where n is the number of elements in the array.\n",
    "\n",
    "Binary search is a fast and efficient search algorithm that is commonly used in computer science and programming. It is especially useful for searching large sorted arrays where the overhead of sorting the array is justified.\n",
    "\n",
    "To implement binary search, we can use a while loop to repeatedly divide the array in half and compare the target value to the middle element. If the target value is equal to the middle element, we return the position of the target. If the target value is less than the middle element, we update the upper bound of the search range to the middle element minus one. If the target value is greater than the middle element, we update the lower bound of the search range to the middle element plus one. We continue this process until the target value is found or the search range is empty.\n",
    "\n",
    "Binary search is a powerful search algorithm that is fast and efficient for searching large sorted arrays. It is commonly used in computer science and programming to find the position of a target value within a sorted array."
   ]
  },
  {
   "cell_type": "code",
   "execution_count": 4,
   "metadata": {},
   "outputs": [
    {
     "name": "stdout",
     "output_type": "stream",
     "text": [
      "999999\n",
      "Linear search took 0.01613306999206543 seconds.\n",
      "999999\n",
      "Binary search took 3.504753112792969e-05 seconds.\n"
     ]
    },
    {
     "data": {
      "text/plain": [
       "Text(0, 0.5, 'Log(Time)')"
      ]
     },
     "execution_count": 4,
     "metadata": {},
     "output_type": "execute_result"
    },
    {
     "data": {
      "image/png": "[encoded data removed]",
      "text/plain": [
       "<Figure size 640x480 with 1 Axes>"
      ]
     },
     "metadata": {},
     "output_type": "display_data"
    }
   ],
   "source": [
    "import time\n",
    "import matplotlib.pyplot as plt\n",
    "import numpy as np\n",
    "\n",
    "def linear_search(arr, target):\n",
    "    for i in range(len(arr)):\n",
    "        if arr[i] == target:\n",
    "            return i\n",
    "    return -1\n",
    "\n",
    "def binary_search(arr, target):\n",
    "    left = 0\n",
    "    right = len(arr) - 1\n",
    "\n",
    "    while left <= right:\n",
    "        mid = (left + right) // 2\n",
    "        if arr[mid] == target:\n",
    "            return mid\n",
    "        elif arr[mid] < target:\n",
    "            left = mid + 1\n",
    "        else:\n",
    "            right = mid - 1\n",
    "    return -1\n",
    "\n",
    "arr = [i for i in range(1000000)]\n",
    "\n",
    "start = time.time()\n",
    "print(linear_search(arr, 999999))\n",
    "end = time.time()\n",
    "print(f\"Linear search took {end - start} seconds.\")\n",
    "\n",
    "start = time.time()\n",
    "print(binary_search(arr, 999999))\n",
    "end = time.time()\n",
    "print(f\"Binary search took {end - start} seconds.\")\n",
    "\n",
    "# Graphing the time complexity of linear search and binary search\n",
    "\n",
    "linear_search_times = []\n",
    "binary_search_times = []\n",
    "\n",
    "for i in range(1000, 1000000, 1000):\n",
    "    arr = [j for j in range(i)]\n",
    "    start = time.time()\n",
    "    linear_search(arr, i - 1)\n",
    "    end = time.time()\n",
    "    linear_search_times.append(np.log(end - start))\n",
    "\n",
    "    start = time.time()\n",
    "    binary_search(arr, i - 1)\n",
    "    end = time.time()\n",
    "    binary_search_times.append(np.log(end - start))\n",
    "\n",
    "plt.plot(range(1000, 1000000, 1000), linear_search_times, label=\"Linear Search\")\n",
    "plt.plot(range(1000, 1000000, 1000), binary_search_times, label=\"Binary Search\")\n",
    "plt.ylabel(\"Log(Time)\")"
   ]
  },
  {
   "cell_type": "markdown",
   "metadata": {},
   "source": [
    "## Operators and Abstraction\n",
    "\n",
    "Operators are used to perform operations on values in a program. They allow you to perform arithmetic, logical, and comparison operations on numbers, strings, and other data types. Operators are an important part of programming and are used in many different contexts to manipulate data and control the flow of a program.\n",
    "\n",
    "There are several types of operators in Python:\n",
    "\n",
    "1. **Arithmetic operators**: Used to perform arithmetic operations like addition, subtraction, multiplication, and division.\n",
    "2. **Comparison operators**: Used to compare values and return a boolean value indicating whether the comparison is true or false.\n",
    "3. **Logical operators**: Used to combine multiple conditions and return a boolean value indicating whether the conditions are true or false.\n",
    "4. **Assignment operators**: Used to assign values to variables.\n",
    "5. **Identity operators**: Used to compare the memory location of two objects.\n",
    "6. **Membership operators**: Used to check if a value is present in a sequence like a list or a dictionary.\n",
    "\n",
    "Arithmetic operators are used to perform arithmetic operations like addition, subtraction, multiplication, and division. These operators work on numbers and return a numerical value as the result. You can use arithmetic operators to perform calculations in a program and manipulate numerical data.\n",
    "\n",
    "Comparison operators are used to compare values and return a boolean value indicating whether the comparison is true or false. These operators work on numbers, strings, and other data types and allow you to compare values in a program. You can use comparison operators to make decisions based on conditions and control the flow of a program.\n",
    "\n",
    "Logical operators are used to combine multiple conditions and return a boolean value indicating whether the conditions are true or false. These operators work on boolean values and allow you to create more complex conditions in a program. You can use logical operators to combine conditions and control the flow of a program.\n",
    "\n",
    "Assignment operators are used to assign values to variables. These operators allow you to store data in a variable and manipulate it in a program. You can use assignment operators to create variables, update their values, and perform calculations with them.\n",
    "\n",
    "Identity operators are used to compare the memory location of two objects. These operators allow you to check if two objects are the same object in memory. You can use identity operators to compare objects and check if they are the same instance in a program.\n",
    "\n",
    "Membership operators are used to check if a value is present in a sequence like a list or a dictionary. These operators allow you to check if a value is in a collection of values and return a boolean value indicating whether the value is present. You can use membership operators to search for values in a sequence and perform different actions based on the result.\n",
    "\n",
    "Operators are an important part of programming and are used in many different contexts to manipulate data and control the flow of a program. By understanding how operators work and how to use them in your code, you can create more complex programs that can perform a wide range of tasks.\n",
    "\n",
    "We have already seen a few of these operators in action in the examples above. We used arithmetic operators to perform calculations, comparison operators to make decisions, and logical operators to combine conditions. These operators are essential tools in programming and are used in many different contexts to manipulate data and control the flow of a program.\n",
    "\n",
    "### Abstraction\n",
    "\n",
    "Abstraction is a programming concept that allows you to hide the details of a complex system and work with a simplified view of the system. Abstraction is used to manage complexity and make it easier to work with large, complex systems by breaking them down into smaller, more manageable parts.\n",
    "\n",
    "In programming, abstraction is used to create classes, functions, and modules that encapsulate the details of a system and provide a simplified interface for working with the system. Abstraction allows you to focus on the high-level concepts of a system without getting bogged down in the details of how it works.\n",
    "\n",
    "Abstraction is an important concept in programming and is used in many different contexts to manage complexity and create more maintainable and scalable code. By using abstraction, you can create programs that are easier to understand, modify, and extend, and that can be reused in different contexts.\n",
    "\n",
    "As you should have seen in the `r_intro.Rmd` file, using pseudocode is a good way to plan out your code before you start writing it. Pseudocode is an informal way of describing how a program will work using plain language and simple notation. It allows you to focus on the high-level concepts of a program without getting bogged down in the details of the syntax.\n",
    "\n",
    "By combining pseudo code with abstraction, you can create a plan for your code that breaks down the problem into smaller, more manageable parts and provides a roadmap for how the code will work. This can help you organize your thoughts, identify potential issues, and create a clear plan for how to implement the code."
   ]
  },
  {
   "cell_type": "code",
   "execution_count": null,
   "metadata": {},
   "outputs": [],
   "source": [
    "# Let's implement a Cumulative Sum function\n",
    "\n",
    "# We need to keep track of the sum so far\n",
    "# We need to keep track of the index we are at\n",
    "# We need to keep track of the list we are working with\n",
    "\n",
    "# for each element in the list:\n",
    "#   add the element to the sum so far\n",
    "\n"
   ]
  },
  {
   "cell_type": "markdown",
   "metadata": {},
   "source": [
    "### Syntactic Sugar\n",
    "\n",
    "Syntactic sugar is a programming concept that refers to syntax within a programming language that is designed to make things easier to read or express. Syntactic sugar is used to simplify the syntax of a language and make it more user-friendly by providing shortcuts or alternative ways of writing code.\n",
    "\n",
    "In Python, there are several examples of syntactic sugar that make the language easier to read and write. For example, list comprehensions are a concise way of creating lists from other lists or iterables. List comprehensions allow you to create a new list by applying an expression to each element in an existing list.\n",
    "\n",
    "Another example of syntactic sugar in Python is the `with` statement, which is used to manage resources like files, sockets, and database connections. The `with` statement provides a way to ensure that resources are properly cleaned up after they are used by automatically closing the resource when the block of code is finished.\n",
    "\n",
    "Syntactic sugar is an important concept in programming and is used in many different languages to simplify the syntax and make it easier to read and write code. By using syntactic sugar, you can create code that is more concise, expressive, and maintainable, and that is easier to understand for other developers."
   ]
  },
  {
   "cell_type": "code",
   "execution_count": 23,
   "metadata": {},
   "outputs": [
    {
     "name": "stdout",
     "output_type": "stream",
     "text": [
      "45\n"
     ]
    }
   ],
   "source": [
    "cum_sum = 0\n",
    "\n",
    "for i in range(10):\n",
    "    cum_sum = cum_sum + i\n",
    "\n",
    "print(cum_sum)"
   ]
  },
  {
   "cell_type": "code",
   "execution_count": 24,
   "metadata": {},
   "outputs": [
    {
     "name": "stdout",
     "output_type": "stream",
     "text": [
      "45\n"
     ]
    }
   ],
   "source": [
    "cum_sum = 0\n",
    "\n",
    "for i in range(10):\n",
    "    cum_sum += i\n",
    "\n",
    "print(cum_sum)"
   ]
  },
  {
   "cell_type": "markdown",
   "metadata": {},
   "source": [
    "## Excersises\n",
    "\n",
    "1. You are in charge of tabulating the results of a ranked choice voting system. The votes are stored in a list of dictionaries, where each dictionary represents a voter and contains the voter's choices in ranked order. Write a function that tabulates the first choice votes and returns the results as a dictionary where the keys are the candidates and the values are the number of first choice votes they received. If no cadidate received a majority of the first choice votes, the candidate with the fewest votes is eliminated and their votes are redistributed to the next choice on each ballot. The process continues until a candidate receives a majority of the votes or there is a tie. The function should return the winner of the election or a tie if there is no winner."
   ]
  },
  {
   "cell_type": "code",
   "execution_count": 2,
   "metadata": {},
   "outputs": [
    {
     "name": "stdout",
     "output_type": "stream",
     "text": [
      "Charlie\n"
     ]
    }
   ],
   "source": [
    "# Define candidate list\n",
    "candidates = [\"Alice\", \"Bob\", \"Charlie\"]\n",
    "\n",
    "# Define voters and their candidate rankings \n",
    "voters = {\n",
    "    \"Voter 1\": [\"Alice\", \"Bob\", \"Charlie\"],\n",
    "    \"Voter 2\": [\"Charlie\", \"Alice\", \"Bob\"],\n",
    "    \"Voter 3\": [\"Bob\", \"Charlie\", \"Alice\"],\n",
    "    \"Voter 4\": [\"Alice\", \"Charlie\", \"Bob\"],\n",
    "    \"Voter 5\": [\"Charlie\", \"Bob\", \"Alice\"]\n",
    "}\n",
    "\n",
    "# Function to calculate ranked choice voting\n",
    "def ranked_choice_voting(candidates, voters):\n",
    "    # Initialize the votes dictionary\n",
    "    votes = {}\n",
    "    for candidate in candidates:\n",
    "        votes[candidate] = 0\n",
    "\n",
    "    # Count the votes\n",
    "    for voter in voters:\n",
    "        votes[voters[voter][0]] += 1\n",
    "\n",
    "    # Find the winner\n",
    "    winner = max(votes, key=votes.get)\n",
    "    if votes[winner] > sum(votes.values()) / 2:\n",
    "        return winner\n",
    "    else:\n",
    "        # Find the candidate with the least votes\n",
    "        loser = min(votes, key=votes.get)\n",
    "        # Remove the loser from the list of candidates\n",
    "        candidates.remove(loser)\n",
    "        # Remove the loser from the list of votes\n",
    "        del votes[loser]\n",
    "        # Remove the loser from the list of voters\n",
    "        for voter in voters:\n",
    "            voters[voter].remove(loser)\n",
    "        # Run the function again with the new list of candidates\n",
    "        return ranked_choice_voting(candidates, voters)\n",
    "    \n",
    "print(ranked_choice_voting(candidates, voters))"
   ]
  },
  {
   "cell_type": "markdown",
   "metadata": {},
   "source": [
    "2. You are gievn a paragraph where some words are misspelled. Write a function that takes the paragraph as input and returns a list of misspelled words. A word is considered misspelled if it is not in a dictionary of valid words. You can assume that the paragraph is a string of words separated by spaces and that the dictionary of valid words is a list of strings."
   ]
  },
  {
   "cell_type": "code",
   "execution_count": 8,
   "metadata": {},
   "outputs": [
    {
     "name": "stdout",
     "output_type": "stream",
     "text": [
      "6\n"
     ]
    }
   ],
   "source": [
    "# Define paragrapgh with misspelled words\n",
    "paragraph = \"Thiss is a paragrapgh withh somee misspelled wordds. I am going to use a spell checker to count the number of mispelled words.\"\n",
    "\n",
    "# Obtain dictionary of words\n",
    "import requests\n",
    "words = requests.get(\"https://raw.githubusercontent.com/dwyl/english-words/master/words_alpha.txt\").text.split(\"\\n\")\n",
    "words = [word.strip(\"\\r\") for word in words]\n",
    "\n",
    "# Function to count the number of misspelled words\n",
    "def count_misspelled(paragraph, words):\n",
    "    misspelled = 0\n",
    "    for word in paragraph.split(\" \"):\n",
    "        word = word.strip(\".,!?\")\n",
    "        word = word.lower()\n",
    "        if word not in words:\n",
    "            misspelled += 1\n",
    "    return misspelled\n",
    "\n",
    "print(count_misspelled(paragraph, words))"
   ]
  }
 ],
 "metadata": {
  "kernelspec": {
   "display_name": "base",
   "language": "python",
   "name": "python3"
  },
  "language_info": {
   "codemirror_mode": {
    "name": "ipython",
    "version": 3
   },
   "file_extension": ".py",
   "mimetype": "text/x-python",
   "name": "python",
   "nbconvert_exporter": "python",
   "pygments_lexer": "ipython3",
   "version": "3.12.2"
  }
 },
 "nbformat": 4,
 "nbformat_minor": 2
}
