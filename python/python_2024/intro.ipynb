{
 "cells": [
  {
   "cell_type": "markdown",
   "metadata": {},
   "source": [
    "# MFRE Coding Workshop 2024\n",
    "\n",
    "Throughout the next week, we will be undergoing a crash course on the basics of computer science with a focus on applications in data manipulation and analysis. The course will be mostly taught in Python, a versatile and powerful programming language that is widely used in data science, machine learning, and scientific computing. \n",
    "\n",
    "Past the half way mark, we will be switching to R, another popular language for data analysis and visualization. While the syntax and structure of R is different from Python, the concepts and principles we have learned will still apply. And if I did my job right, you should be able to think about implementing code in R, even if it takes a bit of time to get used to the new language.\n",
    "\n",
    "You all should have recieved a recommndation early on to take CS50, a free online course offered by Harvard University. If you haven't already, I highly recommend you take the course as it will provide a solid foundation in computer science and programming.\n",
    "\n",
    "This workshop is meant to cover teh very basics of that course, enough for you to be able to understand and implement code in Python and R while also extending your knowledge to more advanced topics in data manipulation and analysis.\n",
    "\n",
    "This notebook is meant to cover the basic concpets of programming and while it is written as a Jupyter notebook, the conepts should be applicable in any programming language.\n",
    "\n",
    "## Table of Contents\n",
    "1. [Functions](#functions)\n",
    "2. [Variables](#variables)\n",
    "3. [Data Types](#data-types)\n",
    "4. [Control Structures](#control-structures)\n",
    "5. [Operators and Abstraction](#operators-and-abstraction)"
   ]
  },
  {
   "cell_type": "markdown",
   "metadata": {},
   "source": [
    "## Functions\n",
    "\n",
    "Most langauges have a concept of functions, which are blocks of code that are designed to do one job. Functions are used to organize code and make it more readable and reusable. In Python, functions are defined using the `def` keyword followed by the function name and a set of parentheses. The function body is indented and can contain any number of statements. \n",
    "\n",
    "Before we dive into creating our own functions let's look at some built-in functions in Python."
   ]
  },
  {
   "cell_type": "code",
   "execution_count": 1,
   "metadata": {},
   "outputs": [
    {
     "name": "stdout",
     "output_type": "stream",
     "text": [
      "Hello, World!\n"
     ]
    }
   ],
   "source": [
    "print(\"Hello, World!\")"
   ]
  },
  {
   "cell_type": "markdown",
   "metadata": {},
   "source": [
    "The `print()` function is used to display output to the console. It can take any number of arguments and will print them to the console separated by a space. Let's say you want to print strings on different lines, you can add a newline character `\\n` to the end of the string to specify a new line."
   ]
  },
  {
   "cell_type": "code",
   "execution_count": 2,
   "metadata": {},
   "outputs": [
    {
     "name": "stdout",
     "output_type": "stream",
     "text": [
      "This is the first line.\n",
      "\n",
      "This is the second line.\n"
     ]
    }
   ],
   "source": [
    "print(\"This is the first line.\\n\")\n",
    "print(\"This is the second line.\")"
   ]
  },
  {
   "cell_type": "markdown",
   "metadata": {},
   "source": [
    "While the `print()` function may seem basic, it is a powerful tool for debugging and understanding how your code is running. It is a good idea to use `print()` statements to check the values of variables and the flow of your code."
   ]
  },
  {
   "cell_type": "markdown",
   "metadata": {},
   "source": [
    "## Variables\n",
    "\n",
    "Variables are used to store data in a program. They are like containers that hold values. In Python, variables are created by assigning a value to a name. The name of the variable can be anything you want, but it should be descriptive of the data it holds. Variable names can contain letters, numbers, and underscores, but they cannot start with a number.\n",
    "\n",
    "While it may be tempting to use single letter variable names, it is a good idea to use descriptive names that indicate what the variable is used for. This will make your code more readable and easier to understand.\n",
    "\n",
    "Here are some common naming conventions for variables:\n",
    "\n",
    "1. **CamelCase**: The first letter of each word is capitalized except for the first word, e.g., `myVariableName`.\n",
    "2. **snake_case**: Words are separated by underscores, e.g., `my_variable_name`.\n",
    "3. **PascalCase**: The first letter of each word is capitalized, e.g., `MyVariableName`.\n",
    "\n",
    "Descriptive variable names become espeecially important when you are working on large projects with many variables. It is a good idea to use names that are meaningful and indicate what the variable is used for.\n",
    "\n",
    "Let's go back to the `print()` function and see how we can use variables to store data and pass it to the function."
   ]
  },
  {
   "cell_type": "code",
   "execution_count": 4,
   "metadata": {},
   "outputs": [
    {
     "name": "stdout",
     "output_type": "stream",
     "text": [
      "10\n",
      "10\n"
     ]
    }
   ],
   "source": [
    "random_number = 10\n",
    "\n",
    "print(random_number)\n",
    "print(10)"
   ]
  },
  {
   "cell_type": "markdown",
   "metadata": {},
   "source": [
    "As illustrated above, the print function can directly take an arguement and print it to teh console, but we can also store the value in a variable and pass the variable to the function. This is useful when we want to reuse the value in multiple places or when we want to perform operations on the value before passing it to the function.\n",
    "\n",
    "We can even combine the two use cases by printing what's called a formatted string. A formatted string is a string that contains placeholders for variables that will be replaced with the actual values when the string is printed. Formatted strings are created by prefixing the string with an `f` and placing the variables inside curly braces `{}`. The variables are replaced with their values when the string is printed.\n",
    "\n",
    "We can also append the value of a variable to a string using the `+` operator. This is called string concatenation and is a useful way to build strings from multiple parts."
   ]
  },
  {
   "cell_type": "code",
   "execution_count": 7,
   "metadata": {},
   "outputs": [
    {
     "name": "stdout",
     "output_type": "stream",
     "text": [
      "This is the value of random_number: 10\n",
      "This is the value of random_number: 10\n"
     ]
    }
   ],
   "source": [
    "print(f\"This is the value of random_number: {random_number}. We like this number.\")\n",
    "print(\"This is the value of random_number: \" + str(random_number) + \". We like this number.\")"
   ]
  }
 ],
 "metadata": {
  "kernelspec": {
   "display_name": "base",
   "language": "python",
   "name": "python3"
  },
  "language_info": {
   "codemirror_mode": {
    "name": "ipython",
    "version": 3
   },
   "file_extension": ".py",
   "mimetype": "text/x-python",
   "name": "python",
   "nbconvert_exporter": "python",
   "pygments_lexer": "ipython3",
   "version": "3.12.2"
  }
 },
 "nbformat": 4,
 "nbformat_minor": 2
}
