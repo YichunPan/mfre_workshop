{
 "cells": [
  {
   "cell_type": "code",
   "execution_count": 65,
   "metadata": {},
   "outputs": [],
   "source": [
    "import pandas as pd\n",
    "import numpy as np\n",
    "import matplotlib.pyplot as plt"
   ]
  },
  {
   "cell_type": "code",
   "execution_count": 66,
   "metadata": {},
   "outputs": [],
   "source": [
    "df_r = pd.read_csv('../python_2023_2/regional_emissions.csv')\n",
    "df_s = pd.read_csv('../python_2023_2/sector_emissions.csv')\n",
    "\n",
    "df_r = df_r.set_index('Region')\n",
    "df_s = df_s.set_index('Year')"
   ]
  },
  {
   "cell_type": "code",
   "execution_count": 67,
   "metadata": {},
   "outputs": [
    {
     "data": {
      "text/html": [
       "<div>\n",
       "<style scoped>\n",
       "    .dataframe tbody tr th:only-of-type {\n",
       "        vertical-align: middle;\n",
       "    }\n",
       "\n",
       "    .dataframe tbody tr th {\n",
       "        vertical-align: top;\n",
       "    }\n",
       "\n",
       "    .dataframe thead th {\n",
       "        text-align: right;\n",
       "    }\n",
       "</style>\n",
       "<table border=\"1\" class=\"dataframe\">\n",
       "  <thead>\n",
       "    <tr style=\"text-align: right;\">\n",
       "      <th></th>\n",
       "      <th>Shortnam</th>\n",
       "      <th>1990</th>\n",
       "      <th>2005</th>\n",
       "      <th>2021</th>\n",
       "    </tr>\n",
       "    <tr>\n",
       "      <th>Region</th>\n",
       "      <th></th>\n",
       "      <th></th>\n",
       "      <th></th>\n",
       "      <th></th>\n",
       "    </tr>\n",
       "  </thead>\n",
       "  <tbody>\n",
       "    <tr>\n",
       "      <th>Newfoundland and Labrador</th>\n",
       "      <td>NL</td>\n",
       "      <td>9.4</td>\n",
       "      <td>10.2</td>\n",
       "      <td>8.3</td>\n",
       "    </tr>\n",
       "    <tr>\n",
       "      <th>Prince Edward Island</th>\n",
       "      <td>PEI</td>\n",
       "      <td>1.8</td>\n",
       "      <td>1.9</td>\n",
       "      <td>1.6</td>\n",
       "    </tr>\n",
       "    <tr>\n",
       "      <th>Nova Scotia</th>\n",
       "      <td>NS</td>\n",
       "      <td>19.3</td>\n",
       "      <td>22.8</td>\n",
       "      <td>14.6</td>\n",
       "    </tr>\n",
       "    <tr>\n",
       "      <th>New Brunswick</th>\n",
       "      <td>NB</td>\n",
       "      <td>16.1</td>\n",
       "      <td>19.6</td>\n",
       "      <td>11.9</td>\n",
       "    </tr>\n",
       "    <tr>\n",
       "      <th>Quebec</th>\n",
       "      <td>QC</td>\n",
       "      <td>84.3</td>\n",
       "      <td>85.5</td>\n",
       "      <td>77.5</td>\n",
       "    </tr>\n",
       "  </tbody>\n",
       "</table>\n",
       "</div>"
      ],
      "text/plain": [
       "                          Shortnam  1990  2005  2021\n",
       "Region                                              \n",
       "Newfoundland and Labrador       NL   9.4  10.2   8.3\n",
       "Prince Edward Island           PEI   1.8   1.9   1.6\n",
       "Nova Scotia                     NS  19.3  22.8  14.6\n",
       "New Brunswick                   NB  16.1  19.6  11.9\n",
       "Quebec                          QC  84.3  85.5  77.5"
      ]
     },
     "execution_count": 67,
     "metadata": {},
     "output_type": "execute_result"
    }
   ],
   "source": [
    "df_r.head()"
   ]
  },
  {
   "cell_type": "code",
   "execution_count": 68,
   "metadata": {},
   "outputs": [
    {
     "data": {
      "text/html": [
       "<div>\n",
       "<style scoped>\n",
       "    .dataframe tbody tr th:only-of-type {\n",
       "        vertical-align: middle;\n",
       "    }\n",
       "\n",
       "    .dataframe tbody tr th {\n",
       "        vertical-align: top;\n",
       "    }\n",
       "\n",
       "    .dataframe thead th {\n",
       "        text-align: right;\n",
       "    }\n",
       "</style>\n",
       "<table border=\"1\" class=\"dataframe\">\n",
       "  <thead>\n",
       "    <tr style=\"text-align: right;\">\n",
       "      <th></th>\n",
       "      <th>Oil and gas</th>\n",
       "      <th>Transport</th>\n",
       "      <th>Buildings</th>\n",
       "      <th>Electricity</th>\n",
       "      <th>Heavy industry</th>\n",
       "      <th>Agriculture</th>\n",
       "      <th>Waste and others</th>\n",
       "    </tr>\n",
       "    <tr>\n",
       "      <th>Year</th>\n",
       "      <th></th>\n",
       "      <th></th>\n",
       "      <th></th>\n",
       "      <th></th>\n",
       "      <th></th>\n",
       "      <th></th>\n",
       "      <th></th>\n",
       "    </tr>\n",
       "  </thead>\n",
       "  <tbody>\n",
       "    <tr>\n",
       "      <th>1990</th>\n",
       "      <td>100.5</td>\n",
       "      <td>118.4</td>\n",
       "      <td>72.1</td>\n",
       "      <td>94.7</td>\n",
       "      <td>98.8</td>\n",
       "      <td>49.4</td>\n",
       "      <td>54.7</td>\n",
       "    </tr>\n",
       "    <tr>\n",
       "      <th>1991</th>\n",
       "      <td>100.0</td>\n",
       "      <td>113.8</td>\n",
       "      <td>71.4</td>\n",
       "      <td>96.1</td>\n",
       "      <td>98.6</td>\n",
       "      <td>49.5</td>\n",
       "      <td>52.6</td>\n",
       "    </tr>\n",
       "    <tr>\n",
       "      <th>1992</th>\n",
       "      <td>108.6</td>\n",
       "      <td>115.9</td>\n",
       "      <td>73.3</td>\n",
       "      <td>102.5</td>\n",
       "      <td>96.0</td>\n",
       "      <td>51.6</td>\n",
       "      <td>51.3</td>\n",
       "    </tr>\n",
       "    <tr>\n",
       "      <th>1993</th>\n",
       "      <td>115.4</td>\n",
       "      <td>118.8</td>\n",
       "      <td>76.9</td>\n",
       "      <td>93.2</td>\n",
       "      <td>95.2</td>\n",
       "      <td>52.8</td>\n",
       "      <td>49.5</td>\n",
       "    </tr>\n",
       "    <tr>\n",
       "      <th>1994</th>\n",
       "      <td>119.2</td>\n",
       "      <td>124.9</td>\n",
       "      <td>77.2</td>\n",
       "      <td>95.2</td>\n",
       "      <td>100.7</td>\n",
       "      <td>54.5</td>\n",
       "      <td>50.2</td>\n",
       "    </tr>\n",
       "  </tbody>\n",
       "</table>\n",
       "</div>"
      ],
      "text/plain": [
       "      Oil and gas  Transport  Buildings  Electricity  Heavy industry  \\\n",
       "Year                                                                   \n",
       "1990        100.5      118.4       72.1         94.7            98.8   \n",
       "1991        100.0      113.8       71.4         96.1            98.6   \n",
       "1992        108.6      115.9       73.3        102.5            96.0   \n",
       "1993        115.4      118.8       76.9         93.2            95.2   \n",
       "1994        119.2      124.9       77.2         95.2           100.7   \n",
       "\n",
       "      Agriculture  Waste and others  \n",
       "Year                                 \n",
       "1990         49.4              54.7  \n",
       "1991         49.5              52.6  \n",
       "1992         51.6              51.3  \n",
       "1993         52.8              49.5  \n",
       "1994         54.5              50.2  "
      ]
     },
     "execution_count": 68,
     "metadata": {},
     "output_type": "execute_result"
    }
   ],
   "source": [
    "df_s.head()"
   ]
  },
  {
   "cell_type": "code",
   "execution_count": 69,
   "metadata": {},
   "outputs": [
    {
     "name": "stdout",
     "output_type": "stream",
     "text": [
      "Index(['Shortnam', '1990', '2005', '2021'], dtype='object')\n",
      "Index(['Newfoundland and Labrador', 'Prince Edward Island', 'Nova Scotia',\n",
      "       'New Brunswick', 'Quebec', 'Ontario', 'Manitoba', 'Saskatchewan',\n",
      "       'Alberta', 'British Columbia', 'Yukon', 'Northwest Territories',\n",
      "       'Nunavut'],\n",
      "      dtype='object', name='Region')\n"
     ]
    }
   ],
   "source": [
    "print(df_r.columns)\n",
    "print(df_r.index)"
   ]
  },
  {
   "cell_type": "code",
   "execution_count": 70,
   "metadata": {},
   "outputs": [
    {
     "data": {
      "text/html": [
       "<div>\n",
       "<style scoped>\n",
       "    .dataframe tbody tr th:only-of-type {\n",
       "        vertical-align: middle;\n",
       "    }\n",
       "\n",
       "    .dataframe tbody tr th {\n",
       "        vertical-align: top;\n",
       "    }\n",
       "\n",
       "    .dataframe thead th {\n",
       "        text-align: right;\n",
       "    }\n",
       "</style>\n",
       "<table border=\"1\" class=\"dataframe\">\n",
       "  <thead>\n",
       "    <tr style=\"text-align: right;\">\n",
       "      <th></th>\n",
       "      <th>Oil and gas</th>\n",
       "      <th>Transport</th>\n",
       "      <th>Buildings</th>\n",
       "      <th>Electricity</th>\n",
       "      <th>Heavy industry</th>\n",
       "      <th>Agriculture</th>\n",
       "      <th>Waste and others</th>\n",
       "    </tr>\n",
       "    <tr>\n",
       "      <th>Year</th>\n",
       "      <th></th>\n",
       "      <th></th>\n",
       "      <th></th>\n",
       "      <th></th>\n",
       "      <th></th>\n",
       "      <th></th>\n",
       "      <th></th>\n",
       "    </tr>\n",
       "  </thead>\n",
       "  <tbody>\n",
       "    <tr>\n",
       "      <th>2018</th>\n",
       "      <td>202.5</td>\n",
       "      <td>169.3</td>\n",
       "      <td>92.4</td>\n",
       "      <td>62.7</td>\n",
       "      <td>79.6</td>\n",
       "      <td>68.5</td>\n",
       "      <td>49.6</td>\n",
       "    </tr>\n",
       "    <tr>\n",
       "      <th>2019</th>\n",
       "      <td>201.3</td>\n",
       "      <td>170.2</td>\n",
       "      <td>93.3</td>\n",
       "      <td>61.6</td>\n",
       "      <td>78.8</td>\n",
       "      <td>69.0</td>\n",
       "      <td>49.6</td>\n",
       "    </tr>\n",
       "    <tr>\n",
       "      <th>2020</th>\n",
       "      <td>183.4</td>\n",
       "      <td>143.2</td>\n",
       "      <td>89.1</td>\n",
       "      <td>53.7</td>\n",
       "      <td>73.6</td>\n",
       "      <td>69.8</td>\n",
       "      <td>46.1</td>\n",
       "    </tr>\n",
       "    <tr>\n",
       "      <th>2021</th>\n",
       "      <td>189.2</td>\n",
       "      <td>150.1</td>\n",
       "      <td>87.2</td>\n",
       "      <td>51.7</td>\n",
       "      <td>76.8</td>\n",
       "      <td>68.5</td>\n",
       "      <td>47.0</td>\n",
       "    </tr>\n",
       "    <tr>\n",
       "      <th>Total Sector Emissions</th>\n",
       "      <td>5214.0</td>\n",
       "      <td>4745.3</td>\n",
       "      <td>2657.3</td>\n",
       "      <td>3085.3</td>\n",
       "      <td>2830.3</td>\n",
       "      <td>1948.7</td>\n",
       "      <td>1598.8</td>\n",
       "    </tr>\n",
       "  </tbody>\n",
       "</table>\n",
       "</div>"
      ],
      "text/plain": [
       "                        Oil and gas  Transport  Buildings  Electricity  \\\n",
       "Year                                                                     \n",
       "2018                          202.5      169.3       92.4         62.7   \n",
       "2019                          201.3      170.2       93.3         61.6   \n",
       "2020                          183.4      143.2       89.1         53.7   \n",
       "2021                          189.2      150.1       87.2         51.7   \n",
       "Total Sector Emissions       5214.0     4745.3     2657.3       3085.3   \n",
       "\n",
       "                        Heavy industry  Agriculture  Waste and others  \n",
       "Year                                                                   \n",
       "2018                              79.6         68.5              49.6  \n",
       "2019                              78.8         69.0              49.6  \n",
       "2020                              73.6         69.8              46.1  \n",
       "2021                              76.8         68.5              47.0  \n",
       "Total Sector Emissions          2830.3       1948.7            1598.8  "
      ]
     },
     "execution_count": 70,
     "metadata": {},
     "output_type": "execute_result"
    }
   ],
   "source": [
    "df_s.loc['Total Sector Emissions'] = df_s.sum(axis=0)\n",
    "df_s.tail()"
   ]
  },
  {
   "cell_type": "code",
   "execution_count": 71,
   "metadata": {},
   "outputs": [
    {
     "data": {
      "text/plain": [
       "Oil and gas         2015\n",
       "Transport           2019\n",
       "Buildings           2019\n",
       "Electricity         2001\n",
       "Heavy industry      1996\n",
       "Agriculture         2020\n",
       "Waste and others    1990\n",
       "dtype: object"
      ]
     },
     "execution_count": 71,
     "metadata": {},
     "output_type": "execute_result"
    }
   ],
   "source": [
    "df_s.iloc[:-1].idxmax()"
   ]
  },
  {
   "cell_type": "code",
   "execution_count": 72,
   "metadata": {},
   "outputs": [],
   "source": [
    "df_s['Total Year Emissions'] = df_s.sum(axis=1)"
   ]
  },
  {
   "cell_type": "code",
   "execution_count": 73,
   "metadata": {},
   "outputs": [],
   "source": [
    "df_s_post_2010 = df_s.iloc[:-1]\n",
    "df_s_post_2010 = df_s_post_2010.loc[df_s_post_2010.index >= 2010]"
   ]
  },
  {
   "cell_type": "code",
   "execution_count": 76,
   "metadata": {},
   "outputs": [],
   "source": [
    "result = df_s.lt(df_s.loc[1990])"
   ]
  }
 ],
 "metadata": {
  "kernelspec": {
   "display_name": "base",
   "language": "python",
   "name": "python3"
  },
  "language_info": {
   "codemirror_mode": {
    "name": "ipython",
    "version": 3
   },
   "file_extension": ".py",
   "mimetype": "text/x-python",
   "name": "python",
   "nbconvert_exporter": "python",
   "pygments_lexer": "ipython3",
   "version": "3.1.undefined"
  }
 },
 "nbformat": 4,
 "nbformat_minor": 2
}
