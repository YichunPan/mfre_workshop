{
 "cells": [
  {
   "cell_type": "markdown",
   "metadata": {},
   "source": [
    "# MFRE Summer Session: Python Workshop 1\n",
    "\n",
    "## 1. Review of Basic Python Data Types\n",
    "1.1 Strings\n",
    "- Concatenation\n",
    "- Indexing\n",
    "\n",
    "1.2 Floats\n",
    "\n",
    "\n",
    "1.3 Integers\n",
    "\n",
    "1.4 Booleans\n",
    "\n",
    "1.5 Lists\n",
    "\n",
    "## 2. List Exercises\n",
    "\n",
    "2.1\tOrder the list of provinces from greatest to lowest carbon emissions\n",
    "- String method\n",
    "\n",
    "2.2\tAccess the second item in a list of greenhouse gas emissions by province in Canada.\n",
    "- List slicing\n",
    "\n",
    "2.3\tAppend an item to the end of a list of carbon emissions by industry in Canada.\n",
    "- Append to list\n",
    "\n",
    "2.4\tRemove a specific item from a list of greenhouse gas emissions by sector in Canada.\n",
    "- Remove from list\n",
    "\n",
    "2.5\tUse the map function to convert a list of carbon emissions in megatonnes to ton equivalents.\n",
    "- Write function, map to list\n",
    "\n",
    "2.6 Filter a list of province emission values to only include those that have emissions above the national average.\n",
    "- Filtering\n",
    "\n",
    "2.7\tFind all provinces emitting more than 50.0 megatonnes of carbon, but fewer than 200.\n",
    "- Compound filtering\n",
    "\n",
    "2.8\tUse if statements to identify provinces in Canada that have seen a decrease in their carbon emissions since 2005.\n",
    "- Write loop comparing two lists\n",
    "\n",
    "2.9\tCompare total 2005 and 2021 emissions levels\n",
    "- Sum, total, then visualize"
   ]
  },
  {
   "cell_type": "code",
   "execution_count": 1,
   "metadata": {},
   "outputs": [],
   "source": [
    "import pandas as pd\n",
    "import numpy as np\n",
    "import matplotlib.pyplot as plt"
   ]
  },
  {
   "cell_type": "markdown",
   "metadata": {},
   "source": [
    "# 1. Basic Data Types Review\n",
    "\n",
    "The focus of this workshop will be on the Python `list` data type. It is vital in and of itself, as a core data type used regularly in data analysis programming and control flow. As well, the `pandas` `DataFrame` structure we will use in almost every data exercise can be thought of as a list-of-lists; to understand it, we must first get how lists work!\n"
   ]
  },
  {
   "cell_type": "markdown",
   "metadata": {},
   "source": [
    "## 1.1 Strings\n",
    "\n",
    "Strings are sequences of characters and are used to represent text in Python. They are enclosed within single (' ') or double (\" \") quotes."
   ]
  },
  {
   "cell_type": "code",
   "execution_count": 2,
   "metadata": {},
   "outputs": [
    {
     "name": "stdout",
     "output_type": "stream",
     "text": [
      "H\n",
      "M\n",
      "Hello\n"
     ]
    }
   ],
   "source": [
    "# Declaring a string variable\n",
    "message = \"Hello, MFRE!\"\n",
    "\n",
    "# Accessing characters in the string\n",
    "print(message[0])  # Output: 'H'\n",
    "print(message[7])  # Output: 'M'\n",
    "\n",
    "# Slicing a string to get a substring\n",
    "print(message[0:5])  # Output: 'Hello'"
   ]
  },
  {
   "cell_type": "markdown",
   "metadata": {},
   "source": [
    "Strings can be joined, or \"concatenated\", with the `+` operator (usually used for arithmetic). Note that spaces are not automatically added, so you may need to put `\" \"` in between strings which don't themselves end in an empty space. "
   ]
  },
  {
   "cell_type": "code",
   "execution_count": 3,
   "metadata": {},
   "outputs": [
    {
     "name": "stdout",
     "output_type": "stream",
     "text": [
      "Hello, Students!\n"
     ]
    }
   ],
   "source": [
    "# Concatenating strings\n",
    "name = \"Students\"\n",
    "greeting = \"Hello,\" + \" \" + name + \"!\"\n",
    "print(greeting)  # Output: 'Hello, Students!'"
   ]
  },
  {
   "cell_type": "markdown",
   "metadata": {},
   "source": [
    "### 1.1 Exercise:\n",
    "\n",
    "Write a program in the cell below, where a user writes their name in the `my_name` variable. With `greeting` as inspiration, write a message called `goodbye` which wishes them a good evening, and then `print()` it."
   ]
  },
  {
   "cell_type": "code",
   "execution_count": 4,
   "metadata": {},
   "outputs": [
    {
     "name": "stdout",
     "output_type": "stream",
     "text": [
      "Good morning Harry!\n"
     ]
    }
   ],
   "source": [
    "my_name = \"Harry\"\n",
    "\n",
    "greeting = \"Good morning\" + \" \" + my_name + \"!\"\n",
    "print(greeting)"
   ]
  },
  {
   "cell_type": "markdown",
   "metadata": {},
   "source": [
    "## 1.2 Floats\n",
    "\n",
    "Floats (floating-point numbers) represent real numbers with decimal points in Python. With this being an economics program, you'll be seeing a lot of these!"
   ]
  },
  {
   "cell_type": "code",
   "execution_count": 5,
   "metadata": {},
   "outputs": [
    {
     "name": "stdout",
     "output_type": "stream",
     "text": [
      "78.53975\n"
     ]
    }
   ],
   "source": [
    "# Declaring float variables\n",
    "pi = 3.14159\n",
    "radius = 5.0\n",
    "\n",
    "# Performing arithmetic operations\n",
    "area = pi * (radius ** 2)\n",
    "print(area)  # Output: 78.53975"
   ]
  },
  {
   "cell_type": "markdown",
   "metadata": {},
   "source": [
    "You can do all of your standard arithmetic operations with Floats."
   ]
  },
  {
   "cell_type": "code",
   "execution_count": 6,
   "metadata": {},
   "outputs": [
    {
     "name": "stdout",
     "output_type": "stream",
     "text": [
      "Addition: 8.14159\n",
      "Subtraction: -1.8584100000000001\n",
      "Multiplication: 15.70795\n",
      "Division: 0.6283179999999999\n",
      "Modulo: 3.14159\n",
      "Exponentiation: 306.01839236861605\n"
     ]
    }
   ],
   "source": [
    "# Addition\n",
    "result_add = pi + radius\n",
    "print(\"Addition:\", result_add)  # Output: 8.14159\n",
    "\n",
    "# Subtraction\n",
    "result_sub = pi - radius\n",
    "print(\"Subtraction:\", result_sub)  # Output: -1.85841\n",
    "\n",
    "# Multiplication\n",
    "result_mul = pi * radius\n",
    "print(\"Multiplication:\", result_mul)  # Output: 15.70795\n",
    "\n",
    "# Division\n",
    "result_div = pi / radius\n",
    "print(\"Division:\", result_div)  # Output: 0.628318\n",
    "\n",
    "# Modulo (Remainder)\n",
    "result_mod = pi % radius\n",
    "print(\"Modulo:\", result_mod)  # Output: 3.14159\n",
    "\n",
    "# Exponentiation\n",
    "result_exp = pi ** radius\n",
    "print(\"Exponentiation:\", result_exp)  # Output: 256.28142"
   ]
  },
  {
   "cell_type": "markdown",
   "metadata": {},
   "source": [
    "Floats can be transformed to integers (our next data type!) by rounding, which necessarily affects their value unless equal exactly to a whole number. Integers, obviously, can always be turned into floats without any impact on their value."
   ]
  },
  {
   "cell_type": "code",
   "execution_count": 7,
   "metadata": {},
   "outputs": [
    {
     "name": "stdout",
     "output_type": "stream",
     "text": [
      "25\n"
     ]
    }
   ],
   "source": [
    "# Converting float to an integer\n",
    "temperature = 25.7\n",
    "rounded_temp = int(temperature)\n",
    "print(rounded_temp)  # Output: 25"
   ]
  },
  {
   "cell_type": "markdown",
   "metadata": {},
   "source": [
    "Note that `int()` is turning `25.7` into `25`, the value's \"floor\", rather than the `26` we would most naturally round it to. How can we get this?"
   ]
  },
  {
   "cell_type": "code",
   "execution_count": 8,
   "metadata": {},
   "outputs": [
    {
     "name": "stdout",
     "output_type": "stream",
     "text": [
      "26\n"
     ]
    }
   ],
   "source": [
    "temperature_rounded = round(temperature)\n",
    "print(temperature_rounded) # Output: 26"
   ]
  },
  {
   "cell_type": "markdown",
   "metadata": {},
   "source": [
    "### 1.2 Exercise\n",
    "\n",
    "Write a program that calculates the `area` of a circle given its `radius`, then prints the `area`. Assign the following values:\n",
    "\n",
    "- `area`: equal to `pi` * `radius` * `radius`\n",
    "- `pi`: equal to 3.14 (it was good enough for the Ancient Greeks!)\n",
    "- `radius`: taken as input by user, with default of 1"
   ]
  },
  {
   "cell_type": "code",
   "execution_count": 9,
   "metadata": {},
   "outputs": [
    {
     "name": "stdout",
     "output_type": "stream",
     "text": [
      "3.14\n"
     ]
    }
   ],
   "source": [
    "pi = 3.14\n",
    "radius = 1\n",
    "\n",
    "area = pi * radius * radius\n",
    "\n",
    "print(area)"
   ]
  },
  {
   "cell_type": "markdown",
   "metadata": {},
   "source": [
    "### 1.3 Integers\n",
    "\n",
    "Integers are whole numbers, both positive and negative, without decimal points.\n",
    "\n",
    "### Discussion Question: Why do Integers exist when we've got Floats? What sort of data might we represent with Integers, for which Floats are unsuitable?"
   ]
  },
  {
   "cell_type": "markdown",
   "metadata": {},
   "source": [
    "You can do all the same types of arithmetic using Integers as you could with floats. "
   ]
  },
  {
   "cell_type": "code",
   "execution_count": 10,
   "metadata": {},
   "outputs": [
    {
     "name": "stdout",
     "output_type": "stream",
     "text": [
      "Addition: 8\n",
      "Subtraction: -2\n",
      "Multiplication: 15\n",
      "Division: 0.6\n",
      "Modulo: 3\n",
      "Exponentiation: 243\n"
     ]
    }
   ],
   "source": [
    "pi = 3  # pi for engineers\n",
    "radius = 5  # Integer version of radius\n",
    "\n",
    "# Addition\n",
    "result_add = pi + radius\n",
    "print(\"Addition:\", result_add)  # Output: 8\n",
    "\n",
    "# Subtraction\n",
    "result_sub = pi - radius\n",
    "print(\"Subtraction:\", result_sub)  # Output: -2\n",
    "\n",
    "# Multiplication\n",
    "result_mul = pi * radius\n",
    "print(\"Multiplication:\", result_mul)  # Output: 15\n",
    "\n",
    "# Division (Always returns a float in Python 3)\n",
    "result_div = pi / radius\n",
    "print(\"Division:\", result_div)  # Output: 0.6\n",
    "\n",
    "# Modulo (Remainder)\n",
    "result_mod = pi % radius\n",
    "print(\"Modulo:\", result_mod)  # Output: 3\n",
    "\n",
    "# Exponentiation\n",
    "result_exp = pi ** radius\n",
    "print(\"Exponentiation:\", result_exp)  # Output: 243"
   ]
  },
  {
   "cell_type": "code",
   "execution_count": 11,
   "metadata": {},
   "outputs": [
    {
     "name": "stdout",
     "output_type": "stream",
     "text": [
      "15\n",
      "2.0\n",
      "50\n",
      "10.0\n"
     ]
    }
   ],
   "source": [
    "# Declaring integer variables\n",
    "num1 = 10\n",
    "num2 = 5\n",
    "\n",
    "# Performing arithmetic operations\n",
    "sum_nums = num1 + num2\n",
    "print(sum_nums)  # Output: 15\n",
    "\n",
    "# Division will always return a float in Python 3\n",
    "quotient = num1 / num2\n",
    "print(quotient)  # Output: 2.0\n",
    "\n",
    "# How about multiplication?\n",
    "product = num1 * num2\n",
    "print(product)\n",
    "\n",
    "product_quotient = num1 * num2 / num2\n",
    "print(product_quotient)"
   ]
  },
  {
   "cell_type": "code",
   "execution_count": 12,
   "metadata": {},
   "outputs": [
    {
     "data": {
      "text/plain": [
       "True"
      ]
     },
     "execution_count": 12,
     "metadata": {},
     "output_type": "execute_result"
    }
   ],
   "source": [
    "# does an integer equal a float of equal value?\n",
    "\n",
    "1 == 1.0 # Yes!"
   ]
  },
  {
   "cell_type": "markdown",
   "metadata": {},
   "source": [
    "So, dividing an integer by any other number, even if it's a factor, always results in a float. But multiplying two integers still results in an integer."
   ]
  },
  {
   "cell_type": "code",
   "execution_count": 13,
   "metadata": {},
   "outputs": [
    {
     "name": "stdout",
     "output_type": "stream",
     "text": [
      "2\n",
      "1\n"
     ]
    }
   ],
   "source": [
    "# Using integer division to get the floor value\n",
    "\n",
    "# Integer division is done with two / signs: //\n",
    "# It does division like you did in elementary school, dividing `num1` by `num2` and discarding the remainder\n",
    "\n",
    "result = num1 // num2\n",
    "print(result)  # Output: 2\n",
    "\n",
    "result2 = 19 // 10\n",
    "print(result2)"
   ]
  },
  {
   "cell_type": "markdown",
   "metadata": {},
   "source": [
    "### 1.3 Exercise:\n",
    "\n",
    "Write a program that takes two Integers as input from the user and prints their product using the `*` operator. \n",
    "\n",
    "To make sure the given values are integers, use `int()` or `round()` on the inputted values before calculating.\n"
   ]
  },
  {
   "cell_type": "code",
   "execution_count": 14,
   "metadata": {},
   "outputs": [
    {
     "name": "stdout",
     "output_type": "stream",
     "text": [
      "3\n"
     ]
    }
   ],
   "source": [
    "# user inputs values\n",
    "\n",
    "integer_1 = 1.2\n",
    "integer_2 = 3\n",
    "\n",
    "# rounding values\n",
    "\n",
    "integer_1 = round(integer_1)\n",
    "integer_2 = round(integer_2)\n",
    "\n",
    "# calculation\n",
    "\n",
    "product_exercise = integer_1 * integer_2 \n",
    "print(product_exercise)"
   ]
  },
  {
   "cell_type": "markdown",
   "metadata": {},
   "source": [
    "### 1.4 Booleans\n",
    "\n",
    "Booleans, or Bools, represent the logical values of `True` and `False`. They are vital for setting control flow in a program in conditional statements.\n",
    "\n",
    "Run the following program, then try inverting the `True` and `False` values."
   ]
  },
  {
   "cell_type": "code",
   "execution_count": 15,
   "metadata": {},
   "outputs": [
    {
     "name": "stdout",
     "output_type": "stream",
     "text": [
      "No umbrella needed!\n",
      "Go outside and touch some grass!\n"
     ]
    }
   ],
   "source": [
    "# Declaring boolean variables\n",
    "is_raining = False\n",
    "is_sunny = True\n",
    "\n",
    "# Using boolean variables in conditional statements\n",
    "if is_raining:\n",
    "    print(\"Remember to take an umbrella!\")\n",
    "else:\n",
    "    print(\"No umbrella needed!\")\n",
    "\n",
    "if not is_sunny:\n",
    "    print(\"Stay indoors if it's not sunny.\")\n",
    "else:\n",
    "    print(\"Go outside and touch some grass!\")"
   ]
  },
  {
   "cell_type": "markdown",
   "metadata": {},
   "source": [
    "A *very* important use for Booleans is the truth values returned from comparisons, used for all sorts of applications, from data filtering to coding `for` loops."
   ]
  },
  {
   "cell_type": "code",
   "execution_count": 16,
   "metadata": {},
   "outputs": [
    {
     "name": "stdout",
     "output_type": "stream",
     "text": [
      "True\n"
     ]
    }
   ],
   "source": [
    "# Using boolean expressions in comparisons\n",
    "num1 = 10\n",
    "num2 = 5\n",
    "is_greater = num1 > num2\n",
    "print(is_greater)  # Output: True"
   ]
  },
  {
   "cell_type": "markdown",
   "metadata": {},
   "source": [
    "### 1.4 Exercise\n",
    "\n",
    "Write a program that takes a user's age as input, and determines if they are eligible to vote. Use 18 as the legal voting age. "
   ]
  },
  {
   "cell_type": "code",
   "execution_count": 17,
   "metadata": {},
   "outputs": [
    {
     "name": "stdout",
     "output_type": "stream",
     "text": [
      "Go vote!\n"
     ]
    }
   ],
   "source": [
    "# user age input\n",
    "age = 18\n",
    "\n",
    "if age >= 18:\n",
    "    print(\"Go vote!\")\n",
    "else:\n",
    "    print(\"Wait a few years!\")"
   ]
  },
  {
   "cell_type": "markdown",
   "metadata": {},
   "source": [
    "### 1.5 Lists\n",
    "\n",
    "Lists are a vital, versatile data structure in Python. They are more sophisticated than any of the types we've seen so far; they can hold multiple elements, of the same or varying types, within square brackets `[]` and separated by commas `,`."
   ]
  },
  {
   "cell_type": "code",
   "execution_count": 18,
   "metadata": {},
   "outputs": [
    {
     "name": "stdout",
     "output_type": "stream",
     "text": [
      "apple\n",
      "orange\n"
     ]
    }
   ],
   "source": [
    "# Declaring a list\n",
    "fruits = [\"apple\", \"banana\", \"orange\", \"grape\"]\n",
    "\n",
    "# Accessing elements in the list\n",
    "print(fruits[0])  # Output: 'apple'\n",
    "print(fruits[2])  # Output: 'orange'"
   ]
  },
  {
   "cell_type": "markdown",
   "metadata": {},
   "source": [
    "As you see, we can access the elemts of a list by passing in a number in square brackets `[]` after calling the list.\n",
    "\n",
    "Confusingly, `0` gets us the first element of the list, while `2` gets us the third element. This is because Python indexes from zero, counting up from that point. R, in comparison, indexes from 1."
   ]
  },
  {
   "cell_type": "code",
   "execution_count": 76,
   "metadata": {},
   "outputs": [
    {
     "name": "stdout",
     "output_type": "stream",
     "text": [
      "Indexing by 0 gets us the first element: 1\n",
      "Indexing by 1 gets us the second element: 2\n",
      "Indexing by 2 gets us the third element: 3\n",
      "Indexing by 3 gets us the fourth element: 4\n"
     ]
    }
   ],
   "source": [
    "# Accessing elements in the list\n",
    "number_list = [1,2,3,4]\n",
    "\n",
    "print(\"Indexing by 0 gets us the first element: \" + str(number_list[0]))  # 0 gets first element\n",
    "print(\"Indexing by 1 gets us the second element: \" + str(number_list[1]))  # 1 gets second element\n",
    "print(\"Indexing by 2 gets us the third element: \" + str(number_list[2]))  # 2 gets third element\n",
    "print(\"Indexing by 3 gets us the fourth element: \" + str(number_list[3]))  # 3 gets fourth element"
   ]
  },
  {
   "cell_type": "markdown",
   "metadata": {},
   "source": [
    "We can also index \"backwards\", where -1 gets us the last element, -2 the second last, etc."
   ]
  },
  {
   "cell_type": "code",
   "execution_count": 20,
   "metadata": {},
   "outputs": [
    {
     "name": "stdout",
     "output_type": "stream",
     "text": [
      "grape\n",
      "orange\n"
     ]
    }
   ],
   "source": [
    "print(fruits[-1]) # -1 gets last element\n",
    "print(fruits[-2]) # -2 gets second last element"
   ]
  },
  {
   "cell_type": "markdown",
   "metadata": {},
   "source": [
    "To extract multiple elements, we can \"slice\", by inputting two numbers as `[x:y]`, which gets us all elements from `x` to just before `y`"
   ]
  },
  {
   "cell_type": "code",
   "execution_count": 21,
   "metadata": {},
   "outputs": [
    {
     "name": "stdout",
     "output_type": "stream",
     "text": [
      "['apple', 'banana']\n",
      "['banana', 'orange', 'grape']\n",
      "['apple', 'banana', 'orange', 'grape']\n"
     ]
    }
   ],
   "source": [
    "print(fruits[0:2]) # 0:2 gets us the first and second elements, stopping before the 2-index (i.e. third element)\n",
    "\n",
    "print(fruits[1:4]) # 1:4 gets us the second, third, and forth elements, stopping before the nonexistant 4-index\n",
    "\n",
    "print(fruits[0:10]) # again, slicing beyond the greatest index just causes the program to finish, rather than repeating or throwing an error"
   ]
  },
  {
   "cell_type": "markdown",
   "metadata": {},
   "source": [
    "### 1.5 Exercise\n",
    "\n",
    "Create a list of the movies you watched this summer, then pass it into the `len()` function as `number_of_movies`. Then write a conditional statement:\n",
    "\n",
    "- if your `number_of_movies` is less than three, print that you're not a big movie person\n",
    "- if your `number_ov_movies` is 3 or more, write that you're a cinema enthusiast"
   ]
  },
  {
   "cell_type": "code",
   "execution_count": 22,
   "metadata": {},
   "outputs": [],
   "source": [
    "my_movies = [\"Barbie\", \"Oppenheimer\"]\n",
    "\n",
    "number_of_movies = len(my_movies)"
   ]
  },
  {
   "cell_type": "code",
   "execution_count": 23,
   "metadata": {},
   "outputs": [
    {
     "name": "stdout",
     "output_type": "stream",
     "text": [
      "Not a film fan?\n"
     ]
    }
   ],
   "source": [
    "if number_of_movies < 3:\n",
    "    print(\"Not a film fan?\")\n",
    "elif number_of_movies >= 3:\n",
    "    print(\"Cinema enthusiast!\")"
   ]
  },
  {
   "cell_type": "markdown",
   "metadata": {},
   "source": [
    "# 2. Deep Dive into Lists: Hands-on work!\n",
    "\n",
    "In this section, we'll take a more back-and-forth approach. I'll introduce a method and show you examples of how to work with them. Then, you'll have to work on the answer. I'll be walking around to lend you a hand; after a few minutes, I'll show the final answer up at the front. "
   ]
  },
  {
   "cell_type": "code",
   "execution_count": 25,
   "metadata": {},
   "outputs": [
    {
     "name": "stdout",
     "output_type": "stream",
     "text": [
      "Newfoundland and Labrador: 8.3\n",
      "Prince Edward Island: 1.6\n",
      "Nova Scotia: 14.6\n",
      "New Brunswick: 11.9\n",
      "Quebec: 77.5\n",
      "Ontario: 150.6\n",
      "Manitoba: 20.7\n",
      "Saskatchewan: 67.1\n",
      "Alberta: 256.1\n",
      "British Columbia: 59.4\n"
     ]
    }
   ],
   "source": [
    "# creating lists to work with\n",
    "\n",
    "emission_list = [8.3, 1.6, 14.6, 11.9, 77.5, 150.6, 20.7, 67.1, 256.1, 59.4]\n",
    "region_list = ['Newfoundland and Labrador', 'Prince Edward Island', 'Nova Scotia', 'New Brunswick',\n",
    "               'Quebec', 'Ontario', 'Manitoba', 'Saskatchewan', 'Alberta', 'British Columbia']\n",
    "\n",
    "province_names = ['NL', 'PEI', 'NS', 'NB', 'QC', 'ON', 'MB', 'SK', 'AB', 'BC']\n",
    "\n",
    "\n",
    "# Checking how our Provinces and Emission Values line up\n",
    "for i in range(len(emission_list)): \n",
    "    print(region_list[i] + \": \" + str(emission_list[i]))"
   ]
  },
  {
   "cell_type": "code",
   "execution_count": 26,
   "metadata": {},
   "outputs": [],
   "source": [
    "emissions_2005 = [10.2, 1.9, 22.8, 19.6, 85.5, 203.7, 20.3, 67.8, 235.9, 61.6]\n",
    "emissions_2021 = [8.3, 1.6, 14.6, 11.9, 77.5, 150.6, 20.7, 67.1, 256.1, 59.4]\n",
    "list_prov = ['Newfoundland and Labrador', 'Prince Edward Island', 'Nova Scotia', 'New Brunswick',\n",
    "               'Quebec', 'Ontario', 'Manitoba', 'Saskatchewan', 'Alberta', 'British Columbia']"
   ]
  },
  {
   "attachments": {},
   "cell_type": "markdown",
   "metadata": {},
   "source": [
    "# 1. Sort our `emission_list` from greatest to lowest\n",
    "\n",
    "\n",
    "The `.sort()` method can be used on lists to order the values within; by default this sorts them into ascending order (least to greatest). If you passt `reverse = True` into `.sort()`'s brackets, you'll get it in greatest-to-lowest order instead. "
   ]
  },
  {
   "cell_type": "code",
   "execution_count": 27,
   "metadata": {},
   "outputs": [
    {
     "name": "stdout",
     "output_type": "stream",
     "text": [
      "[1, 2, 3, 10]\n",
      "[10, 3, 2, 1]\n"
     ]
    }
   ],
   "source": [
    "sort_list = [1, 2, 10, 3]\n",
    "sort_list.sort()\n",
    "print(sort_list)\n",
    "\n",
    "sort_list.sort(reverse = True)\n",
    "print(sort_list)"
   ]
  },
  {
   "cell_type": "markdown",
   "metadata": {},
   "source": [
    "### Exercise 1:\n",
    "\n",
    "Order `emissions_to_sort` from greatest to lowest."
   ]
  },
  {
   "cell_type": "code",
   "execution_count": 28,
   "metadata": {},
   "outputs": [],
   "source": [
    "emissions_to_sort = [8.3, 1.6, 14.6, 11.9, 77.5, 150.6, 20.7, 67.1, 256.1, 59.4]"
   ]
  },
  {
   "cell_type": "code",
   "execution_count": 29,
   "metadata": {},
   "outputs": [
    {
     "data": {
      "text/plain": [
       "[256.1, 150.6, 77.5, 67.1, 59.4, 20.7, 14.6, 11.9, 8.3, 1.6]"
      ]
     },
     "execution_count": 29,
     "metadata": {},
     "output_type": "execute_result"
    }
   ],
   "source": [
    "emissions_to_sort.sort(reverse = True)\n",
    "emissions_to_sort"
   ]
  },
  {
   "attachments": {},
   "cell_type": "markdown",
   "metadata": {},
   "source": [
    "# 2.\tAccess the second item in a list of greenhouse gas emissions by province in Canada.\n",
    "- Index for the second item!"
   ]
  },
  {
   "cell_type": "code",
   "execution_count": 30,
   "metadata": {},
   "outputs": [
    {
     "data": {
      "text/plain": [
       "[8.3, 1.6, 14.6, 11.9, 77.5, 150.6, 20.7, 67.1, 256.1, 59.4]"
      ]
     },
     "execution_count": 30,
     "metadata": {},
     "output_type": "execute_result"
    }
   ],
   "source": [
    "emission_list"
   ]
  },
  {
   "cell_type": "code",
   "execution_count": 31,
   "metadata": {},
   "outputs": [
    {
     "data": {
      "text/plain": [
       "1.6"
      ]
     },
     "execution_count": 31,
     "metadata": {},
     "output_type": "execute_result"
    }
   ],
   "source": [
    "emission_list[1]"
   ]
  },
  {
   "cell_type": "markdown",
   "metadata": {},
   "source": [
    "### Exercise 2:\n",
    "\n",
    "Access:\n",
    "- the last value in `emission_list`\n",
    "- the last three values in `emission_list`\n",
    "- the first five values in `emission_list`"
   ]
  },
  {
   "cell_type": "code",
   "execution_count": 32,
   "metadata": {},
   "outputs": [
    {
     "name": "stdout",
     "output_type": "stream",
     "text": [
      "59.4\n",
      "[67.1, 256.1, 59.4]\n",
      "[8.3, 1.6, 14.6, 11.9, 77.5]\n"
     ]
    }
   ],
   "source": [
    "# answers\n",
    "\n",
    "print(emission_list[-1])\n",
    "\n",
    "print(emission_list[-3:])\n",
    "\n",
    "print(emission_list[:5])"
   ]
  },
  {
   "attachments": {},
   "cell_type": "markdown",
   "metadata": {},
   "source": [
    "# 3.\tAppend an item to the end of a list of provinces' carbon emissions in Canada.\n",
    "\n",
    "The list's `.append()` method lets us add values, attached onto the end. We simply call it after a list, with some value held in the brackets, as seen below:\n"
   ]
  },
  {
   "cell_type": "code",
   "execution_count": 33,
   "metadata": {},
   "outputs": [
    {
     "name": "stdout",
     "output_type": "stream",
     "text": [
      "[100, 1000, 10000, 100000, 1000000]\n"
     ]
    }
   ],
   "source": [
    "append_demo_list = [100, 1000, 10000, 100000]\n",
    "append_demo_list.append(1000000)\n",
    "print(append_demo_list)"
   ]
  },
  {
   "cell_type": "markdown",
   "metadata": {},
   "source": [
    "This only works with one value at a time. If we want to append multiple values, we have to do them sequentially."
   ]
  },
  {
   "cell_type": "code",
   "execution_count": 34,
   "metadata": {},
   "outputs": [
    {
     "name": "stdout",
     "output_type": "stream",
     "text": [
      "[1, 2, 3, 4, [1, 2, 3, 4]]\n"
     ]
    }
   ],
   "source": [
    "# appending a list just adds that list as an element\n",
    "sample_list = [1,2,3,4]\n",
    "sample_list.append([1, 2, 3, 4])\n",
    "print(sample_list)"
   ]
  },
  {
   "cell_type": "code",
   "execution_count": 35,
   "metadata": {},
   "outputs": [],
   "source": [
    "# chaining multiple `.append()` statements throws an error, so we have to do them sequentially\n",
    "# uncomment and run below code for a lovely error message\n",
    "\n",
    "# sample_list.append(1).append(2).append(3)"
   ]
  },
  {
   "cell_type": "code",
   "execution_count": 36,
   "metadata": {},
   "outputs": [
    {
     "data": {
      "text/plain": [
       "[1, 2, 3, 4, [1, 2, 3, 4], 1, 2, 3]"
      ]
     },
     "execution_count": 36,
     "metadata": {},
     "output_type": "execute_result"
    }
   ],
   "source": [
    "sample_list.append(1)\n",
    "sample_list\n",
    "sample_list.append(2)\n",
    "sample_list\n",
    "sample_list.append(3)\n",
    "sample_list"
   ]
  },
  {
   "cell_type": "markdown",
   "metadata": {},
   "source": [
    "### Exercise 3:\n",
    "\n",
    "Let's play a prank on our coworker, Leo. He's got a lovely list of data points; why don't we throw in some nonsense values?\n"
   ]
  },
  {
   "cell_type": "code",
   "execution_count": 37,
   "metadata": {},
   "outputs": [],
   "source": [
    "# leo's list\n",
    "\n",
    "leo_list = [0, 1, 1, 2, 3, 5, 8, 13, 21, 34]"
   ]
  },
  {
   "cell_type": "markdown",
   "metadata": {},
   "source": [
    "Using `.append()`, add five integers which *don't* fit the pattern."
   ]
  },
  {
   "cell_type": "code",
   "execution_count": null,
   "metadata": {},
   "outputs": [],
   "source": []
  },
  {
   "attachments": {},
   "cell_type": "markdown",
   "metadata": {},
   "source": [
    "# 4.\tRemove a specific item from a list of provinces' carbon emissions in Canada.\n",
    "\n",
    "Some fool added a number to our `emission_list` data. Who would do such a thing?\n"
   ]
  },
  {
   "cell_type": "code",
   "execution_count": 38,
   "metadata": {},
   "outputs": [],
   "source": [
    "emission_list = [256.1, 150.6, 77.5, 67.1, 59.4, 20.7, 14.6, 11.9, 8.3, 1.6]"
   ]
  },
  {
   "cell_type": "code",
   "execution_count": 39,
   "metadata": {},
   "outputs": [
    {
     "name": "stdout",
     "output_type": "stream",
     "text": [
      "[256.1, 150.6, 77.5, 67.1, 59.4, 20.7, 14.6, 11.9, 8.3, 1.6, 55]\n"
     ]
    }
   ],
   "source": [
    "altered_list = [256.1, 150.6, 77.5, 67.1, 59.4, 20.7, 14.6, 11.9, 8.3, 1.6, 55]\n",
    "\n",
    "print(altered_list)"
   ]
  },
  {
   "cell_type": "markdown",
   "metadata": {},
   "source": [
    "55? Disgusting! Remove it at once!\n",
    "\n",
    "This can be done with the `.remove()` method. These are like functions, but are attached to existing objects with the period. Inside `.remove()`'s brackets, we can type in any value, and all matching entries will be removed. "
   ]
  },
  {
   "cell_type": "code",
   "execution_count": 40,
   "metadata": {},
   "outputs": [
    {
     "data": {
      "text/plain": [
       "[256.1, 150.6, 77.5, 67.1, 59.4, 20.7, 14.6, 11.9, 8.3, 1.6]"
      ]
     },
     "execution_count": 40,
     "metadata": {},
     "output_type": "execute_result"
    }
   ],
   "source": [
    "altered_list.remove(55)\n",
    "\n",
    "altered_list"
   ]
  },
  {
   "cell_type": "markdown",
   "metadata": {},
   "source": [
    "### Exercise 4:\n",
    "\n",
    "Your cousin Throckmorton is having some trouble. He's also working with data on Canadian provinces' Carbon emissions, but got some odd values somehow mixed into his data, as you see below."
   ]
  },
  {
   "cell_type": "code",
   "execution_count": 41,
   "metadata": {},
   "outputs": [
    {
     "name": "stdout",
     "output_type": "stream",
     "text": [
      "[256.1, 150.6, 77.5, 67.1, 1000392.0, 59.4, 20.7, 14.6, 213093.1, 11.9, 8.3, 1.6, 4355672.1]\n"
     ]
    }
   ],
   "source": [
    "throckmorton_emission_list = [256.1, 150.6, 77.5, 67.1, 1000392.0, 59.4, 20.7, 14.6, 213093.1, 11.9, 8.3, 1.6, 4355672.1]\n",
    "\n",
    "print(throckmorton_emission_list)"
   ]
  },
  {
   "cell_type": "markdown",
   "metadata": {},
   "source": [
    "Use the `.remove()` method to take out all of the values that shouldn't be here."
   ]
  },
  {
   "cell_type": "code",
   "execution_count": 42,
   "metadata": {},
   "outputs": [],
   "source": [
    "# answer\n",
    "\n",
    "throckmorton_emission_list.remove(1000392.0)\n",
    "throckmorton_emission_list.remove(213093.1)\n",
    "throckmorton_emission_list.remove(4355672.1)"
   ]
  },
  {
   "cell_type": "code",
   "execution_count": 43,
   "metadata": {},
   "outputs": [
    {
     "data": {
      "text/plain": [
       "True"
      ]
     },
     "execution_count": 43,
     "metadata": {},
     "output_type": "execute_result"
    }
   ],
   "source": [
    "# check\n",
    "\n",
    "throckmorton_emission_list == emission_list"
   ]
  },
  {
   "attachments": {},
   "cell_type": "markdown",
   "metadata": {},
   "source": [
    "# 5.\tUse the map function to convert a list of carbon emissions in megatonnes to ton equivalents. \n",
    "\n",
    "\n",
    "- Our data lists carbon emission values by megatonnes of CO2. How can we turn this into normal tonnes?\n",
    "\n",
    "(One Megatonne equals 1,000,000 tonnes!)"
   ]
  },
  {
   "cell_type": "markdown",
   "metadata": {},
   "source": [
    "Writing functions for code you might use multiple times is an important \"best practice\" for coding, so we'll be doing this here too. To define your own function, use the following syntax:"
   ]
  },
  {
   "cell_type": "code",
   "execution_count": 44,
   "metadata": {},
   "outputs": [],
   "source": [
    "# def function_name(argument_1, argument_2, argument_3, ...):\n",
    "#     program lines    \n",
    "#     return ____\n",
    "\n",
    "def my_function(x):\n",
    "    x_2 = 2*x\n",
    "    return x_2"
   ]
  },
  {
   "cell_type": "markdown",
   "metadata": {},
   "source": [
    "The `return` statement is an important but optional function element: if you want your function to directly output a value, then place `return` followed by that result. You can therefore set a new variable as equal to a call of your function. \n"
   ]
  },
  {
   "cell_type": "code",
   "execution_count": 45,
   "metadata": {},
   "outputs": [
    {
     "name": "stdout",
     "output_type": "stream",
     "text": [
      "10\n"
     ]
    }
   ],
   "source": [
    "five_times_two  = my_function(x = 5)\n",
    "print(five_times_two)"
   ]
  },
  {
   "cell_type": "markdown",
   "metadata": {},
   "source": [
    "Now, I'll show you how to multiply the elements of `emission_list` by three. \n",
    "\n",
    "First, we'll define a function do make this calculation on *one* value.\n",
    "\n",
    "Then, we will pass this function and the list of values into the `map()` function, and turn the output into a `list()`"
   ]
  },
  {
   "cell_type": "code",
   "execution_count": 46,
   "metadata": {},
   "outputs": [
    {
     "name": "stdout",
     "output_type": "stream",
     "text": [
      "[768.3000000000001, 451.79999999999995, 232.5, 201.29999999999998, 178.2, 62.099999999999994, 43.8, 35.7, 24.900000000000002, 4.800000000000001]\n"
     ]
    }
   ],
   "source": [
    "def multiply_by_three(n):\n",
    "    return n*3\n",
    "\n",
    "emissions_times_three = list(map(multiply_by_three, emission_list))\n",
    "\n",
    "print(emissions_times_three)"
   ]
  },
  {
   "cell_type": "markdown",
   "metadata": {},
   "source": [
    "#### Exercise 5: \n",
    "\n",
    "Using the above methodology with `list()`, `map()`, and your own custom function, multiply all values in `emissions_list` by 1,000,000 to convert them from megatonnes to tonnes. Call your function `one_million`, and the resulting list `tonnes`"
   ]
  },
  {
   "cell_type": "code",
   "execution_count": 47,
   "metadata": {},
   "outputs": [
    {
     "name": "stdout",
     "output_type": "stream",
     "text": [
      "[256100000.00000003, 150600000.0, 77500000.0, 67099999.99999999, 59400000.0, 20700000.0, 14600000.0, 11900000.0, 8300000.000000001, 1600000.0]\n"
     ]
    }
   ],
   "source": [
    "# answer \n",
    "def one_million(n):\n",
    "    return n*1000000\n",
    "\n",
    "tonnes = list(map(one_million, emission_list))\n",
    "print(tonnes)\n"
   ]
  },
  {
   "attachments": {},
   "cell_type": "markdown",
   "metadata": {},
   "source": [
    "# 6. Filter a list of province emission values to only include those that have emissions above the national average with `above_avg()` function"
   ]
  },
  {
   "attachments": {},
   "cell_type": "markdown",
   "metadata": {},
   "source": [
    "There are a few ways we can do this. \n",
    "\n",
    "A brute force approach is to calculate the mean, then manually `.remove()` all values below it. Two better ways exist. \n",
    "\n",
    "\n",
    "One is to use the `filter()` function. It takes a function and a list as arguments; this function is one that returns True for all values you want to keep and False for the ones you don't. `filter()` will run your list through the function, keeping everything where it comes up as True.\n",
    "\n",
    "Another way is to use a `for` loop to iterate through the list. Create an empty list, compare each value in the list to the mean of the dataset, then append those greater than average to our filtered empty dataset.\n",
    "\n",
    "Writing functions for code you might use multiple times is an important \"best practice\" for coding, so we'll be doing this here too. To define your own function, use the following syntax:"
   ]
  },
  {
   "cell_type": "code",
   "execution_count": 48,
   "metadata": {},
   "outputs": [
    {
     "data": {
      "text/plain": [
       "66.78"
      ]
     },
     "execution_count": 48,
     "metadata": {},
     "output_type": "execute_result"
    }
   ],
   "source": [
    "# calculating average of `emission_list`\n",
    "\n",
    "np.mean(emission_list)    "
   ]
  },
  {
   "cell_type": "code",
   "execution_count": 49,
   "metadata": {},
   "outputs": [
    {
     "name": "stdout",
     "output_type": "stream",
     "text": [
      "[256.1, 150.6, 77.5, 67.1]\n"
     ]
    }
   ],
   "source": [
    "# more elaborate filtering approach\n",
    "\n",
    "def above_avg(val):\n",
    "    if val > 66.78:\n",
    "        return True\n",
    "    else: \n",
    "        return False\n",
    "    \n",
    "\n",
    "above_avg_provinces = list(filter(above_avg, emission_list))\n",
    "\n",
    "print(above_avg_provinces)"
   ]
  },
  {
   "attachments": {},
   "cell_type": "markdown",
   "metadata": {},
   "source": [
    "Now, the for loop approach. There are multiple ways to do this, too. We can use our `above_avg()` function like above, or we can calculate the list's mean value inside the loop.\n"
   ]
  },
  {
   "cell_type": "code",
   "execution_count": 50,
   "metadata": {},
   "outputs": [
    {
     "name": "stdout",
     "output_type": "stream",
     "text": [
      "[256.1, 150.6, 77.5, 67.1]\n",
      "[256.1, 150.6, 77.5, 67.1]\n"
     ]
    }
   ],
   "source": [
    "above_avg_provinces_loop_1 = []\n",
    "above_avg_provinces_loop_2 = []\n",
    "\n",
    "for value in emission_list:\n",
    "    if above_avg(value):\n",
    "        above_avg_provinces_loop_1.append(value)\n",
    "        \n",
    "\n",
    "        \n",
    "for value in emission_list:\n",
    "    if value >= np.mean(emission_list):\n",
    "        above_avg_provinces_loop_2.append(value)\n",
    "        \n",
    "        \n",
    "print(above_avg_provinces_loop_1)\n",
    "print(above_avg_provinces_loop_2)"
   ]
  },
  {
   "attachments": {},
   "cell_type": "markdown",
   "metadata": {},
   "source": [
    "### Note: \n",
    "\n",
    "I prefer the second loop approach. Why might this be?\n",
    "\n",
    "Answer: if the `emission_list` is changed, it will still run correctly because we're comparing against whatever the mean of `emission_list` happens to be, not just a fixed value. "
   ]
  },
  {
   "cell_type": "markdown",
   "metadata": {},
   "source": [
    "### Exercise 6:\n",
    "\n",
    "Write a function called `starts_with_n(word)` that returns `True` if the first letter of the `word` argument is \"N\", and `False` if not.\n",
    "\n",
    "Then, write a program that iterates through `province_names` and checks the first letter with `starts_with_n()`. If `True`, it appends the province name to `n_names`.\n",
    "\n",
    "Afterwards, print `n_names`."
   ]
  },
  {
   "cell_type": "code",
   "execution_count": 51,
   "metadata": {},
   "outputs": [
    {
     "data": {
      "text/plain": [
       "['NL', 'PEI', 'NS', 'NB', 'QC', 'ON', 'MB', 'SK', 'AB', 'BC']"
      ]
     },
     "execution_count": 51,
     "metadata": {},
     "output_type": "execute_result"
    }
   ],
   "source": [
    "province_names"
   ]
  },
  {
   "cell_type": "code",
   "execution_count": 52,
   "metadata": {},
   "outputs": [
    {
     "name": "stdout",
     "output_type": "stream",
     "text": [
      "['NL', 'NS', 'NB']\n"
     ]
    }
   ],
   "source": [
    "n_names = []\n",
    "\n",
    "def starts_with_n(word):\n",
    "    if word[0] == \"N\":\n",
    "        return True\n",
    "    else:\n",
    "        return False\n",
    "\n",
    "\n",
    "for name in province_names:\n",
    "    if starts_with_n(name) == True:\n",
    "        n_names.append(name)\n",
    "\n",
    "print(n_names)\n"
   ]
  },
  {
   "attachments": {},
   "cell_type": "markdown",
   "metadata": {},
   "source": [
    "# 7.\tFind all provincial Carbon emission values greater than 50.0 megatonnes, but fewer than 200.\n",
    "\n",
    "This is something of a prelude to the filtering we'll be doing with DataFrames in the second part of the workshop. Quite often, you'll need to subset an object according to a boolean condition. (i.e. reduce it to just the parts that meet a certain condition!)\n",
    "\n",
    "You need to learn to walk before you learn to run, so we'll start by filtering on a list, to get all the values over 100."
   ]
  },
  {
   "cell_type": "code",
   "execution_count": 53,
   "metadata": {},
   "outputs": [
    {
     "name": "stdout",
     "output_type": "stream",
     "text": [
      "[256.1, 150.6]\n"
     ]
    }
   ],
   "source": [
    "emission_list_over_100 = []\n",
    "\n",
    "for value in emission_list:\n",
    "    if value > 100:\n",
    "        emission_list_over_100.append(value)\n",
    "        \n",
    "print(emission_list_over_100)"
   ]
  },
  {
   "cell_type": "markdown",
   "metadata": {},
   "source": [
    "### Exercise 7:\n",
    "\n",
    "Using a similar approach to the above, write a loop that iterates through the `emission_list` and appends only those with a value greater than 50 and below 200 to `emission_list_50_200`\n",
    "\n",
    "Then, print `emission_list_50_200`"
   ]
  },
  {
   "cell_type": "code",
   "execution_count": 54,
   "metadata": {},
   "outputs": [],
   "source": [
    "emission_list_50_200 = []\n",
    "\n",
    "for value in emission_list:\n",
    "    if 50 < value < 200:\n",
    "        emission_list_50_200.append(value)"
   ]
  },
  {
   "cell_type": "code",
   "execution_count": 55,
   "metadata": {},
   "outputs": [
    {
     "data": {
      "text/plain": [
       "[150.6, 77.5, 67.1, 59.4]"
      ]
     },
     "execution_count": 55,
     "metadata": {},
     "output_type": "execute_result"
    }
   ],
   "source": [
    "emission_list_50_200"
   ]
  },
  {
   "attachments": {},
   "cell_type": "markdown",
   "metadata": {},
   "source": [
    "# 8.\tUse if statements to identify provinces in Canada that have seen a decrease in their carbon emissions since 2005.\n",
    "\n",
    "\n",
    "We've mostly been iterating through one list at a time. However, it *is* possible to do two or more!\n",
    "\n",
    "We'll utilize the `range(len(list))` trick. `len()` returns an integer equal to the number of elements (i.e. length) of the contained list. `range()` creates an integer count up to the value passed in. While it just returns as `range(0, n)`, we can iterate through it with a `for` loop to see what it contains.\n",
    "\n"
   ]
  },
  {
   "cell_type": "code",
   "execution_count": 56,
   "metadata": {},
   "outputs": [],
   "source": [
    "# making a set of \"blank slate\", unaltered values\n",
    "\n",
    "emissions_2005 = [10.2, 1.9, 22.8, 19.6, 85.5, 203.7, 20.3, 67.8, 235.9, 61.6]\n",
    "emissions_2021 = [8.3, 1.6, 14.6, 11.9, 77.5, 150.6, 20.7, 67.1, 256.1, 59.4]\n",
    "list_prov = ['Newfoundland and Labrador', 'Prince Edward Island', 'Nova Scotia', 'New Brunswick',\n",
    "               'Quebec', 'Ontario', 'Manitoba', 'Saskatchewan', 'Alberta', 'British Columbia']"
   ]
  },
  {
   "cell_type": "code",
   "execution_count": 57,
   "metadata": {},
   "outputs": [
    {
     "name": "stdout",
     "output_type": "stream",
     "text": [
      "0\n",
      "1\n",
      "2\n",
      "3\n",
      "4\n",
      "5\n",
      "6\n",
      "7\n",
      "8\n",
      "9\n"
     ]
    }
   ],
   "source": [
    "for num in range(len(emission_list)):\n",
    "    print(num)"
   ]
  },
  {
   "cell_type": "markdown",
   "metadata": {},
   "source": [
    "What's so useful about this is that it lets us access the values of multiple lists through indexing, rather than iterating through the values of one list directly. "
   ]
  },
  {
   "cell_type": "code",
   "execution_count": 58,
   "metadata": {},
   "outputs": [
    {
     "name": "stdout",
     "output_type": "stream",
     "text": [
      "For the province of: Newfoundland and Labrador\n",
      "2005 emissions are: 10.2\n",
      "2021 emissions are: 8.3\n",
      " \n",
      "For the province of: Prince Edward Island\n",
      "2005 emissions are: 1.9\n",
      "2021 emissions are: 1.6\n",
      " \n",
      "For the province of: Nova Scotia\n",
      "2005 emissions are: 22.8\n",
      "2021 emissions are: 14.6\n",
      " \n",
      "For the province of: New Brunswick\n",
      "2005 emissions are: 19.6\n",
      "2021 emissions are: 11.9\n",
      " \n",
      "For the province of: Quebec\n",
      "2005 emissions are: 85.5\n",
      "2021 emissions are: 77.5\n",
      " \n",
      "For the province of: Ontario\n",
      "2005 emissions are: 203.7\n",
      "2021 emissions are: 150.6\n",
      " \n",
      "For the province of: Manitoba\n",
      "2005 emissions are: 20.3\n",
      "2021 emissions are: 20.7\n",
      " \n",
      "For the province of: Saskatchewan\n",
      "2005 emissions are: 67.8\n",
      "2021 emissions are: 67.1\n",
      " \n",
      "For the province of: Alberta\n",
      "2005 emissions are: 235.9\n",
      "2021 emissions are: 256.1\n",
      " \n",
      "For the province of: British Columbia\n",
      "2005 emissions are: 61.6\n",
      "2021 emissions are: 59.4\n",
      " \n"
     ]
    }
   ],
   "source": [
    "for num in range(len(emissions_2005)):\n",
    "    print(\"For the province of: \" + list_prov[num])            # name province\n",
    "    print(\"2005 emissions are: \" + str(emissions_2005[num]))   # get 2005 emissions\n",
    "    print(\"2021 emissions are: \" + str(emissions_2021[num]))   # get 2021 emissions\n",
    "    print(\" \")                                                 # empty line"
   ]
  },
  {
   "cell_type": "markdown",
   "metadata": {},
   "source": [
    "# Exercise 8:\n",
    "\n",
    "Now, create a `for` loop with the above `range(len(emissions_2005))` method. If the emissions value in 2005 is greater than in 2021, print the province's name (from `list_prov`) and that emissions have fallen. Otherwise, print a statement with the province's name and that emissions have increased.  "
   ]
  },
  {
   "cell_type": "code",
   "execution_count": 59,
   "metadata": {},
   "outputs": [
    {
     "name": "stdout",
     "output_type": "stream",
     "text": [
      "[10.2, 1.9, 22.8, 19.6, 85.5, 203.7, 20.3, 67.8, 235.9, 61.6]\n",
      "[8.3, 1.6, 14.6, 11.9, 77.5, 150.6, 20.7, 67.1, 256.1, 59.4]\n",
      "['Newfoundland and Labrador', 'Prince Edward Island', 'Nova Scotia', 'New Brunswick', 'Quebec', 'Ontario', 'Manitoba', 'Saskatchewan', 'Alberta', 'British Columbia']\n"
     ]
    }
   ],
   "source": [
    "# reminder of data series\n",
    "print(emissions_2005)\n",
    "print(emissions_2021)\n",
    "print(list_prov)"
   ]
  },
  {
   "cell_type": "code",
   "execution_count": 60,
   "metadata": {},
   "outputs": [
    {
     "name": "stdout",
     "output_type": "stream",
     "text": [
      "Newfoundland and Labrador has reduced its emissions since 2005.\n",
      "Prince Edward Island has reduced its emissions since 2005.\n",
      "Nova Scotia has reduced its emissions since 2005.\n",
      "New Brunswick has reduced its emissions since 2005.\n",
      "Quebec has reduced its emissions since 2005.\n",
      "Ontario has reduced its emissions since 2005.\n",
      "Manitoba has increased its emissions since 2005.\n",
      "Saskatchewan has reduced its emissions since 2005.\n",
      "Alberta has increased its emissions since 2005.\n",
      "British Columbia has reduced its emissions since 2005.\n"
     ]
    }
   ],
   "source": [
    "for i in range(len(emissions_2005)):\n",
    "    if emissions_2005[i] > emissions_2021[i]:\n",
    "        print(list_prov[i] + \" has reduced its emissions since 2005.\") \n",
    "        \n",
    "    else:\n",
    "        print(list_prov[i] + \" has increased its emissions since 2005.\")\n",
    "    "
   ]
  },
  {
   "cell_type": "markdown",
   "metadata": {},
   "source": [
    "# 9. Loop through the `2005` and `2021` emissions values and total them up, then plot these total values to see how Canada's carbon emissions changed over the intervening 16 years.\n",
    "\n",
    "You should be able to do this step all on your own. Sum up the emissions values in each year, and then fill in the `plt.bar()` function as directed below."
   ]
  },
  {
   "cell_type": "code",
   "execution_count": 61,
   "metadata": {},
   "outputs": [],
   "source": [
    "# making a set of \"blank slate\", unaltered values\n",
    "\n",
    "emissions_2005 = [10.2, 1.9, 22.8, 19.6, 85.5, 203.7, 20.3, 67.8, 235.9, 61.6]\n",
    "emissions_2021 = [8.3, 1.6, 14.6, 11.9, 77.5, 150.6, 20.7, 67.1, 256.1, 59.4]\n",
    "list_prov = ['Newfoundland and Labrador', 'Prince Edward Island', 'Nova Scotia', 'New Brunswick',\n",
    "               'Quebec', 'Ontario', 'Manitoba', 'Saskatchewan', 'Alberta', 'British Columbia']"
   ]
  },
  {
   "cell_type": "code",
   "execution_count": 62,
   "metadata": {},
   "outputs": [
    {
     "data": {
      "text/plain": [
       "[10.2, 1.9, 22.8, 19.6, 85.5, 203.7, 20.3, 67.8, 235.9, 61.6]"
      ]
     },
     "execution_count": 62,
     "metadata": {},
     "output_type": "execute_result"
    }
   ],
   "source": [
    "emissions_2005"
   ]
  },
  {
   "cell_type": "code",
   "execution_count": 63,
   "metadata": {},
   "outputs": [
    {
     "data": {
      "text/plain": [
       "[8.3, 1.6, 14.6, 11.9, 77.5, 150.6, 20.7, 67.1, 256.1, 59.4]"
      ]
     },
     "execution_count": 63,
     "metadata": {},
     "output_type": "execute_result"
    }
   ],
   "source": [
    "emissions_2021"
   ]
  },
  {
   "cell_type": "code",
   "execution_count": 64,
   "metadata": {},
   "outputs": [
    {
     "name": "stdout",
     "output_type": "stream",
     "text": [
      "729.3000000000001\n",
      "667.8\n"
     ]
    }
   ],
   "source": [
    "# sum 2005 values\n",
    "total_2005 = 0\n",
    "\n",
    "for num in emissions_2005:\n",
    "    total_2005 += num\n",
    "    \n",
    "# sum 2021 values\n",
    "total_2021 = 0\n",
    "\n",
    "for num in emissions_2021:\n",
    "    total_2021 += num\n",
    "    \n",
    "# print totals\n",
    "print(total_2005)\n",
    "print(total_2021)"
   ]
  },
  {
   "cell_type": "markdown",
   "metadata": {},
   "source": [
    "Now, use:\n",
    "\n",
    "- `plt.title()` (input a string title)\n",
    "- `plt.bar(x = [1,2], height)` (to show your data)\n",
    "- `plt.xticks([1,2], [\"2005\", \"2021\"])` (to assign two spaces on the x-axis for bars, naming them as 2005 and 2021)\n",
    "- `plt.xlabel()` and `plt.ylabel()` (input a string in the brackets which describes the axis)\n",
    "- `plt.show()` (at the end of the code cell to ensure the plot is displayed)\n",
    "\n",
    "For `height`, input a list of the totalled 2005 and 2021 values."
   ]
  },
  {
   "cell_type": "code",
   "execution_count": 71,
   "metadata": {},
   "outputs": [
    {
     "data": {
      "image/png": "[encoded data removed]",
      "text/plain": [
       "<Figure size 640x480 with 1 Axes>"
      ]
     },
     "metadata": {},
     "output_type": "display_data"
    }
   ],
   "source": [
    "# creating plot title and bars\n",
    "plt.title(\"Total Canadian Carbon Emissions, 2005 and 2021\")\n",
    "plt.bar(x=[1, 2], height=[total_2005, total_2021])\n",
    "\n",
    "# Setting the ticks and labels for the bottom axis\n",
    "plt.xticks([1, 2], ['2005', '2021'])\n",
    "\n",
    "# Setting the label for the bottom axis\n",
    "plt.xlabel('Year')\n",
    "\n",
    "plt.show()"
   ]
  },
  {
   "cell_type": "markdown",
   "metadata": {},
   "source": [
    "# Congratulations!\n",
    "\n",
    "That brings us to the end of Python 1. You have:\n",
    "\n",
    "- Reviewed fundamental data types\n",
    "- Learned in depth how Python's `list` type works\n",
    "- Coded `for` loops and functions\n",
    "- Aggregated and visualized data"
   ]
  },
  {
   "cell_type": "code",
   "execution_count": null,
   "metadata": {},
   "outputs": [],
   "source": []
  }
 ],
 "metadata": {
  "kernelspec": {
   "display_name": "Python 3",
   "language": "python",
   "name": "python3"
  },
  "language_info": {
   "codemirror_mode": {
    "name": "ipython",
    "version": 3
   },
   "file_extension": ".py",
   "mimetype": "text/x-python",
   "name": "python",
   "nbconvert_exporter": "python",
   "pygments_lexer": "ipython3",
   "version": "3.10.11"
  },
  "orig_nbformat": 4
 },
 "nbformat": 4,
 "nbformat_minor": 2
}
